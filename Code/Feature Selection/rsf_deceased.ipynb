{
 "cells": [
  {
   "cell_type": "code",
   "execution_count": 1,
   "metadata": {},
   "outputs": [],
   "source": [
    "import pickle\n",
    "import pandas as pd\n",
    "import numpy as np\n",
    "from sklearn.compose import ColumnTransformer\n",
    "from sklearn.pipeline import Pipeline\n",
    "from sklearn.preprocessing import StandardScaler, OneHotEncoder\n",
    "from sksurv.preprocessing import OneHotEncoder as SurvOneHotEncoder\n",
    "from sksurv.util import Surv\n",
    "\n",
    "from sksurv.column import encode_categorical\n",
    "from sksurv.column import standardize\n",
    "from sksurv.util import Surv\n",
    "\n",
    "from sklearn.model_selection import train_test_split\n",
    "from sksurv.ensemble import RandomSurvivalForest\n",
    "from sksurv.linear_model import CoxnetSurvivalAnalysis\n",
    "\n",
    "from sksurv.metrics import (\n",
    "    concordance_index_censored,\n",
    "    concordance_index_ipcw,\n",
    "    cumulative_dynamic_auc,\n",
    "    integrated_brier_score,\n",
    ")\n",
    "\n",
    "def evaluate_model_uno_c(model, test_X, test_y, train_y, times):\n",
    "    pred = model.predict(test_X)\n",
    "    uno_concordance = concordance_index_ipcw(train_y, test_y, pred, tau=times[-1])\n",
    "    return uno_concordance"
   ]
  },
  {
   "cell_type": "code",
   "execution_count": 4,
   "metadata": {},
   "outputs": [],
   "source": [
    "pickle_file = '../data/DATA_DECEASED_ex.pkl'\n",
    "\n",
    "with open(pickle_file, 'rb') as f:\n",
    "    dataset = pickle.load(f)"
   ]
  },
  {
   "cell_type": "code",
   "execution_count": 5,
   "metadata": {},
   "outputs": [],
   "source": [
    "numeric_features = [\n",
    "    \"AGE\",\n",
    "    \"BMI_CALC\",\n",
    "    \"AGE_DON\",\n",
    "    \"CREAT_TRR\",\n",
    "    \"NPKID\",\n",
    "    \"COLD_ISCH_KI\",\n",
    "    \"DIALYSIS_TIME\",\n",
    "    \"KDPI\",\n",
    "]\n",
    "categorical_features = [\n",
    "    \"ON_DIALYSIS\",\n",
    "    \"PRE_TX_TXFUS\",\n",
    "    \"GENDER\",\n",
    "    \"ETHCAT\",\n",
    "    \"DIABETES_DON\",\n",
    "    \"DIAB\",\n",
    "    \"HCV_SEROSTATUS\",\n",
    "]\n"
   ]
  },
  {
   "cell_type": "code",
   "execution_count": 6,
   "metadata": {},
   "outputs": [],
   "source": [
    "numeric_transformer = Pipeline(steps=[\n",
    "    ('scaler', StandardScaler())\n",
    "])\n",
    "\n",
    "categorical_transformer = Pipeline(steps=[\n",
    "    ('encoder', OneHotEncoder(handle_unknown='ignore'))\n",
    "])\n",
    "\n",
    "# Combine transformations for all features\n",
    "preprocessor = ColumnTransformer(\n",
    "    transformers=[\n",
    "        ('num', numeric_transformer, numeric_features),\n",
    "        ('cat', categorical_transformer, categorical_features)\n",
    "    ]\n",
    ")\n",
    "\n",
    "# Set up the final pipeline\n",
    "pipeline = Pipeline(steps=[\n",
    "    ('preprocessor', preprocessor)\n",
    "])\n",
    "\n",
    "# Apply preprocessing to X\n",
    "# X = pipeline.fit_transform(dataset[categorical_features + numeric_features ])\n",
    "\n",
    "categorical_x = encode_categorical(dataset[categorical_features])\n",
    "numerical_x = standardize(dataset[numeric_features])\n",
    "X = pd.concat([numerical_x, categorical_x], axis=1)\n",
    "\n",
    "survival_time = dataset[\"PTIME\"].astype(np.float64)\n",
    "event = dataset[\"PSTATUS\"].astype(float).astype(bool)\n",
    "\n",
    "y = Surv.from_arrays(event, survival_time, \"Status\", \"Days\")"
   ]
  },
  {
   "cell_type": "code",
   "execution_count": 7,
   "metadata": {},
   "outputs": [],
   "source": [
    "X_train, X_test, y_train, y_test = train_test_split(X, y, test_size=0.2, stratify=y[\"Status\"], random_state=42)"
   ]
  },
  {
   "cell_type": "code",
   "execution_count": null,
   "metadata": {},
   "outputs": [],
   "source": [
    "rsf = RandomSurvivalForest(n_estimators=3, n_jobs=-1, random_state=42, low_memory=True)\n",
    "rsf.fit(X_train[1000:], y_train[1000:])"
   ]
  },
  {
   "cell_type": "code",
   "execution_count": null,
   "metadata": {},
   "outputs": [],
   "source": [
    "lower, upper = np.percentile(y[\"Days\"], [10, 90])\n",
    "times = np.arange(lower, upper + 1)\n",
    "\n",
    "# evaluate_model(rsf, X_test, y_test, y_train, times)\n",
    "evaluate_model_uno_c(rsf, X_test[500:], y_test[500:], y_train[1000:], times)"
   ]
  },
  {
   "cell_type": "markdown",
   "metadata": {},
   "source": []
  },
  {
   "cell_type": "code",
   "execution_count": null,
   "metadata": {},
   "outputs": [],
   "source": [
    "from sklearn.inspection import permutation_importance\n",
    "\n",
    "# uncoment if you want to calculate permutation importance (data must not be processed by pipeline)\n",
    "result = permutation_importance(rsf, X_test, y_test, n_repeats=10, random_state=0, n_jobs=-1)"
   ]
  },
  {
   "cell_type": "code",
   "execution_count": null,
   "metadata": {},
   "outputs": [],
   "source": [
    "pd.set_option('display.max_rows', None)\n",
    "\n",
    "# columns = numeric_features + categorical_features\n",
    "\n",
    "importances_df = pd.DataFrame(result.importances_mean, index=X_train.columns)\n",
    "importances_df.columns = ['Importance']\n",
    "importances_df.sort_values(by='Importance', ascending=False, inplace=True)\n",
    "\n",
    "# Print out feature importances\n",
    "print(importances_df)"
   ]
  },
  {
   "cell_type": "markdown",
   "metadata": {},
   "source": [
    "### Performed on helios\n",
    "| Feature | Importance |\n",
    "|---:|---:|\n",
    "| AGE                | 7.603468e-02 |\n",
    "| DIAB=5.0           | 1.755682e-02 |\n",
    "| DIAB=3.0           | 1.636021e-02 |\n",
    "| CREAT_TRR          | 6.719912e-03 |\n",
    "| ON_DIALYSIS=Y      | 6.290068e-03 |\n",
    "| AGE_DON            | 4.584326e-03 |\n",
    "| KDPI               | 4.224856e-03 |\n",
    "| DIALYSIS_TIME      | 3.907660e-03 |\n",
    "| KDRI_RAO           | 3.656396e-03 |\n",
    "| HCV_SEROSTATUS=P   | 3.371945e-03 |\n",
    "| DIAB=2.0           | 3.240055e-03 |\n",
    "| ETHCAT=4           | 2.897624e-03 |\n",
    "| BMI_CALC           | 2.440851e-03 |\n",
    "| ETHCAT=5           | 2.209945e-03 |\n",
    "| PRE_TX_TXFUS=Y     | 1.797013e-03 |\n",
    "| ETHCAT=2           | 1.152406e-03 |\n",
    "| COLD_ISCH_KI       | 1.093853e-03 |\n",
    "| NPKID              | 4.144752e-04 |\n",
    "| HCV_SEROSTATUS=ND  | 2.775765e-04 |\n",
    "| GENDER=M           | 1.363486e-04 |\n",
    "| ETHCAT=6           | 6.727253e-05 |\n",
    "| CREAT_DON          | 1.390463e-05 |\n",
    "| ETHCAT=7           | 1.339929e-07 |\n",
    "| DIAB=4.0           |-3.417864e-05 |\n",
    "| DIAB=998.0         |-3.806376e-05 |\n",
    "| DIABETES_DON=Y     |-1.558873e-04 |\n"
   ]
  }
 ],
 "metadata": {
  "kernelspec": {
   "display_name": "kidney-life",
   "language": "python",
   "name": "python3"
  },
  "language_info": {
   "codemirror_mode": {
    "name": "ipython",
    "version": 3
   },
   "file_extension": ".py",
   "mimetype": "text/x-python",
   "name": "python",
   "nbconvert_exporter": "python",
   "pygments_lexer": "ipython3",
   "version": "3.11.5"
  }
 },
 "nbformat": 4,
 "nbformat_minor": 2
}
