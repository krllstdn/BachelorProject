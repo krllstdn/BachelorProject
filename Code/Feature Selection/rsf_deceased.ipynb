{
 "cells": [
  {
   "cell_type": "code",
   "execution_count": 1,
   "metadata": {},
   "outputs": [],
   "source": [
    "import pickle\n",
    "import pandas as pd\n",
    "import numpy as np\n",
    "from sklearn.compose import ColumnTransformer\n",
    "from sklearn.pipeline import Pipeline\n",
    "from sklearn.preprocessing import StandardScaler, OneHotEncoder\n",
    "from sksurv.preprocessing import OneHotEncoder as SurvOneHotEncoder\n",
    "from sksurv.util import Surv\n",
    "\n",
    "from sksurv.column import encode_categorical\n",
    "from sksurv.column import standardize\n",
    "from sksurv.util import Surv\n",
    "\n",
    "from sklearn.model_selection import train_test_split\n",
    "from sksurv.ensemble import RandomSurvivalForest\n",
    "from sksurv.linear_model import CoxnetSurvivalAnalysis\n",
    "\n",
    "from sksurv.metrics import (\n",
    "    concordance_index_censored,\n",
    "    concordance_index_ipcw,\n",
    "    cumulative_dynamic_auc,\n",
    "    integrated_brier_score,\n",
    ")\n",
    "\n",
    "def evaluate_model_uno_c(model, test_X, test_y, train_y, times):\n",
    "    pred = model.predict(test_X)\n",
    "    uno_concordance = concordance_index_ipcw(train_y, test_y, pred, tau=times[-1])\n",
    "    return uno_concordance"
   ]
  },
  {
   "cell_type": "code",
   "execution_count": 2,
   "metadata": {},
   "outputs": [],
   "source": [
    "pickle_file = '../data/DATA_DECEASED_ex.pkl'\n",
    "\n",
    "with open(pickle_file, 'rb') as f:\n",
    "    dataset = pickle.load(f)"
   ]
  },
  {
   "cell_type": "code",
   "execution_count": 3,
   "metadata": {},
   "outputs": [],
   "source": [
    "numeric_features = [\n",
    "    \"AGE\",\n",
    "    \"BMI_CALC\",\n",
    "    \"AGE_DON\",\n",
    "    \"CREAT_TRR\",\n",
    "    \"NPKID\",\n",
    "    \"COLD_ISCH_KI\",\n",
    "    \"DIALYSIS_TIME\",\n",
    "    \"KDPI\",\n",
    "]\n",
    "categorical_features = [\n",
    "    \"ON_DIALYSIS\",\n",
    "    \"PRE_TX_TXFUS\",\n",
    "    \"GENDER\",\n",
    "    \"ETHCAT\",\n",
    "    \"DIABETES_DON\",\n",
    "    \"DIAB\",\n",
    "    \"HCV_SEROSTATUS\",\n",
    "]\n"
   ]
  },
  {
   "cell_type": "code",
   "execution_count": 4,
   "metadata": {},
   "outputs": [],
   "source": [
    "numeric_transformer = Pipeline(steps=[\n",
    "    ('scaler', StandardScaler())\n",
    "])\n",
    "\n",
    "categorical_transformer = Pipeline(steps=[\n",
    "    ('encoder', OneHotEncoder(handle_unknown='ignore'))\n",
    "])\n",
    "\n",
    "preprocessor = ColumnTransformer(\n",
    "    transformers=[\n",
    "        ('num', numeric_transformer, numeric_features),\n",
    "        ('cat', categorical_transformer, categorical_features)\n",
    "    ]\n",
    ")\n",
    "\n",
    "pipeline = Pipeline(steps=[\n",
    "    ('preprocessor', preprocessor)\n",
    "])\n",
    "\n",
    "# X = pipeline.fit_transform(dataset[categorical_features + numeric_features ])\n",
    "\n",
    "categorical_x = encode_categorical(dataset[categorical_features])\n",
    "numerical_x = standardize(dataset[numeric_features])\n",
    "X = pd.concat([numerical_x, categorical_x], axis=1)\n",
    "\n",
    "survival_time = dataset[\"PTIME\"].astype(np.float64)\n",
    "event = dataset[\"PSTATUS\"].astype(float).astype(bool)\n",
    "\n",
    "y = Surv.from_arrays(event, survival_time, \"Status\", \"Days\")"
   ]
  },
  {
   "cell_type": "code",
   "execution_count": 5,
   "metadata": {},
   "outputs": [],
   "source": [
    "X_train, X_test, y_train, y_test = train_test_split(X, y, test_size=0.2, stratify=y[\"Status\"], random_state=42)"
   ]
  },
  {
   "cell_type": "code",
   "execution_count": null,
   "metadata": {},
   "outputs": [],
   "source": [
    "rsf = RandomSurvivalForest(n_estimators=3, n_jobs=-1, random_state=42, low_memory=True)\n",
    "rsf.fit(X_train[1000:], y_train[1000:])"
   ]
  },
  {
   "cell_type": "code",
   "execution_count": null,
   "metadata": {},
   "outputs": [
    {
     "data": {
      "text/plain": [
       "(0.6561443562837068, 93442780, 48802771, 7527, 21256)"
      ]
     },
     "execution_count": 7,
     "metadata": {},
     "output_type": "execute_result"
    }
   ],
   "source": [
    "lower, upper = np.percentile(y[\"Days\"], [10, 90])\n",
    "times = np.arange(lower, upper + 1)\n",
    "\n",
    "# evaluate_model(rsf, X_test, y_test, y_train, times)\n",
    "evaluate_model_uno_c(rsf, X_test[500:], y_test[500:], y_train[1000:], times)"
   ]
  },
  {
   "cell_type": "markdown",
   "metadata": {},
   "source": []
  },
  {
   "cell_type": "code",
   "execution_count": null,
   "metadata": {},
   "outputs": [],
   "source": [
    "from sklearn.inspection import permutation_importance\n",
    "\n",
    "# uncoment if you want to calculate permutation importance (data must not be processed by pipeline)\n",
    "result = permutation_importance(rsf, X_test, y_test, n_repeats=10, random_state=0, n_jobs=-1)"
   ]
  },
  {
   "cell_type": "code",
   "execution_count": null,
   "metadata": {},
   "outputs": [
    {
     "name": "stdout",
     "output_type": "stream",
     "text": [
      "                   Importance\n",
      "AGE                  0.074386\n",
      "DIAB=5.0             0.017916\n",
      "DIAB=3.0             0.017344\n",
      "AGE_DON              0.007767\n",
      "DIALYSIS_TIME        0.006307\n",
      "ON_DIALYSIS=Y        0.005970\n",
      "CREAT_TRR            0.005387\n",
      "KDPI                 0.005051\n",
      "DIAB=2.0             0.003718\n",
      "ETHCAT=4             0.003144\n",
      "BMI_CALC             0.002441\n",
      "GENDER=M             0.002063\n",
      "HCV_SEROSTATUS=P     0.002005\n",
      "COLD_ISCH_KI         0.001304\n",
      "ETHCAT=5             0.001257\n",
      "PRE_TX_TXFUS=Y       0.000940\n",
      "ETHCAT=2             0.000689\n",
      "NPKID                0.000417\n",
      "ETHCAT=7             0.000029\n",
      "DIAB=4.0             0.000024\n",
      "HCV_SEROSTATUS=ND   -0.000039\n",
      "ETHCAT=6            -0.000046\n",
      "DIAB=998.0          -0.000049\n",
      "DIABETES_DON=Y      -0.000500\n"
     ]
    }
   ],
   "source": [
    "pd.set_option('display.max_rows', None)\n",
    "\n",
    "# columns = numeric_features + categorical_features\n",
    "\n",
    "importances_df = pd.DataFrame(result.importances_mean, index=X_train.columns)\n",
    "importances_df.columns = ['Importance']\n",
    "importances_df.sort_values(by='Importance', ascending=False, inplace=True)\n",
    "\n",
    "# Print out feature importances\n",
    "print(importances_df)"
   ]
  },
  {
   "cell_type": "code",
   "execution_count": null,
   "metadata": {},
   "outputs": [],
   "source": [
    "import matplotlib.pyplot as plt\n",
    "# plt_importances =importances_df.sort_values(by='Importance', ascending=True)\n",
    "# plt_importances.plot.barh(color='blue', legend=False, title='RSF Feature Permutation Importance Deceased', grid=True, figsize=(8, 9))\n",
    "# path = \"../../Thesis/Images/Results/\"\n",
    "# plt.savefig(path + \"RSF_FI_deceased.pdf\", bbox_inches=\"tight\")"
   ]
  },
  {
   "cell_type": "markdown",
   "metadata": {},
   "source": [
    "### Performed on helios\n",
    "| Feature | Importance |\n",
    "|---:|---:|\n",
    "| AGE                | 7.603468e-02 |\n",
    "| DIAB=5.0           | 1.755682e-02 |\n",
    "| DIAB=3.0           | 1.636021e-02 |\n",
    "| CREAT_TRR          | 6.719912e-03 |\n",
    "| ON_DIALYSIS=Y      | 6.290068e-03 |\n",
    "| AGE_DON            | 4.584326e-03 |\n",
    "| KDPI               | 4.224856e-03 |\n",
    "| DIALYSIS_TIME      | 3.907660e-03 |\n",
    "| KDRI_RAO           | 3.656396e-03 |\n",
    "| HCV_SEROSTATUS=P   | 3.371945e-03 |\n",
    "| DIAB=2.0           | 3.240055e-03 |\n",
    "| ETHCAT=4           | 2.897624e-03 |\n",
    "| BMI_CALC           | 2.440851e-03 |\n",
    "| ETHCAT=5           | 2.209945e-03 |\n",
    "| PRE_TX_TXFUS=Y     | 1.797013e-03 |\n",
    "| ETHCAT=2           | 1.152406e-03 |\n",
    "| COLD_ISCH_KI       | 1.093853e-03 |\n",
    "| NPKID              | 4.144752e-04 |\n",
    "| HCV_SEROSTATUS=ND  | 2.775765e-04 |\n",
    "| GENDER=M           | 1.363486e-04 |\n",
    "| ETHCAT=6           | 6.727253e-05 |\n",
    "| CREAT_DON          | 1.390463e-05 |\n",
    "| ETHCAT=7           | 1.339929e-07 |\n",
    "| DIAB=4.0           |-3.417864e-05 |\n",
    "| DIAB=998.0         |-3.806376e-05 |\n",
    "| DIABETES_DON=Y     |-1.558873e-04 |\n"
   ]
  },
  {
   "cell_type": "code",
   "execution_count": null,
   "metadata": {},
   "outputs": [],
   "source": [
    "import pandas as pd\n",
    "\n",
    "data = {\n",
    "    'Importance': [\n",
    "        7.603468e-02, 1.755682e-02, 1.636021e-02, 6.719912e-03, 6.290068e-03,\n",
    "        4.584326e-03, 4.224856e-03, 3.907660e-03, 3.656396e-03, 3.371945e-03,\n",
    "        3.240055e-03, 2.897624e-03, 2.440851e-03, 2.209945e-03, 1.797013e-03,\n",
    "        1.152406e-03, 1.093853e-03, 4.144752e-04, 2.775765e-04, 1.363486e-04,\n",
    "        6.727253e-05, 1.390463e-05, 1.339929e-07, -3.417864e-05, -3.806376e-05,\n",
    "        -1.558873e-04\n",
    "    ]\n",
    "}\n",
    "\n",
    "index = [\n",
    "    'AGE', 'DIAB=5.0', 'DIAB=3.0', 'CREAT_TRR', 'ON_DIALYSIS=Y',\n",
    "    'AGE_DON', 'KDPI', 'DIALYSIS_TIME', 'KDRI_RAO', 'HCV_SEROSTATUS=P',\n",
    "    'DIAB=2.0', 'ETHCAT=4', 'BMI_CALC', 'ETHCAT=5', 'PRE_TX_TXFUS=Y',\n",
    "    'ETHCAT=2', 'COLD_ISCH_KI', 'NPKID', 'HCV_SEROSTATUS=ND', 'GENDER=M',\n",
    "    'ETHCAT=6', 'CREAT_DON', 'ETHCAT=7', 'DIAB=4.0', 'DIAB=998.0',\n",
    "    'DIABETES_DON=Y'\n",
    "]\n",
    "\n",
    "importances_df1 = pd.DataFrame(data, index=index)\n",
    "\n",
    "diab = [\"DIAB=3.0\", \"DIAB=5.0\", \"DIAB=2.0\", \"DIAB=4.0\", \"DIAB=998.0\"]\n",
    "eth = [\"ETHCAT=2\", \"ETHCAT=5\", \"ETHCAT=4\", \"ETHCAT=6\", \"ETHCAT=7\"] # \"ETHCAT=9\",\n",
    "hcv = [\"HCV_SEROSTATUS=ND\", \"HCV_SEROSTATUS=P\"]\n",
    "\n",
    "plt_importances1 =importances_df1.sort_values(by='Importance', ascending=True)\n",
    "plt_importances1.loc[\"DIAB\", 'Importance'] = plt_importances1.loc[diab, 'Importance'].sum()\n",
    "plt_importances1.loc[\"ETHCAT\", 'Importance'] = plt_importances1.loc[eth, 'Importance'].sum()\n",
    "plt_importances1.loc[\"HCV_SEROSTATUS\", 'Importance'] = plt_importances1.loc[hcv, 'Importance'].sum()\n",
    "\n",
    "plt_importances1.drop(diab, inplace=True)\n",
    "plt_importances1.drop(eth, inplace=True)\n",
    "plt_importances1.drop(hcv, inplace=True)\n",
    "\n",
    "plt_importances1.sort_values(by='Importance', ascending=True, inplace=True)"
   ]
  },
  {
   "cell_type": "code",
   "execution_count": 12,
   "metadata": {},
   "outputs": [
    {
     "data": {
      "image/png": "[encoded data removed]",
      "text/plain": [
       "<Figure size 800x900 with 1 Axes>"
      ]
     },
     "metadata": {},
     "output_type": "display_data"
    }
   ],
   "source": [
    "import matplotlib.pyplot as plt\n",
    "plt_importances1.plot.barh(color='blue', legend=False, title='RSF Feature Permutation Importance Deceased', grid=True, figsize=(8, 9))\n",
    "path = \"../../Thesis/Images/Results/\"\n",
    "plt.savefig(path + \"RSF_FI_deceased.pdf\", bbox_inches=\"tight\")"
   ]
  }
 ],
 "metadata": {
  "kernelspec": {
   "display_name": "kidney-life",
   "language": "python",
   "name": "python3"
  },
  "language_info": {
   "codemirror_mode": {
    "name": "ipython",
    "version": 3
   },
   "file_extension": ".py",
   "mimetype": "text/x-python",
   "name": "python",
   "nbconvert_exporter": "python",
   "pygments_lexer": "ipython3",
   "version": "3.11.5"
  }
 },
 "nbformat": 4,
 "nbformat_minor": 2
}
