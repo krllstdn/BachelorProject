{
 "cells": [
  {
   "cell_type": "code",
   "execution_count": 1,
   "metadata": {},
   "outputs": [],
   "source": [
    "import pickle\n",
    "import pandas as pd\n",
    "import numpy as np\n",
    "from sklearn.compose import ColumnTransformer\n",
    "from sklearn.pipeline import Pipeline\n",
    "from sklearn.preprocessing import StandardScaler, OneHotEncoder\n",
    "from sksurv.preprocessing import OneHotEncoder as SurvOneHotEncoder\n",
    "from sksurv.util import Surv\n",
    "\n",
    "from sksurv.column import encode_categorical\n",
    "from sksurv.column import standardize\n",
    "from sksurv.util import Surv\n",
    "\n",
    "from sklearn.model_selection import train_test_split\n",
    "from sksurv.ensemble import RandomSurvivalForest\n",
    "from sksurv.linear_model import CoxnetSurvivalAnalysis\n",
    "\n",
    "from sksurv.metrics import (\n",
    "    concordance_index_censored,\n",
    "    concordance_index_ipcw,\n",
    "    cumulative_dynamic_auc,\n",
    "    integrated_brier_score,\n",
    ")\n",
    "\n",
    "def evaluate_model_uno_c(model, test_X, test_y, train_y, times):\n",
    "    pred = model.predict(test_X)\n",
    "    uno_concordance = concordance_index_ipcw(train_y, test_y, pred, tau=times[-1])\n",
    "    return uno_concordance"
   ]
  },
  {
   "cell_type": "code",
   "execution_count": 2,
   "metadata": {},
   "outputs": [],
   "source": [
    "# pickle_file = 'data/COX_DATA_FULL_LIVING.pkl'\n",
    "pickle_file = '../data/COX_DATA_FULL_LIVING_EXPERIMENTAL.pkl'\n",
    "\n",
    "with open(pickle_file, 'rb') as f:\n",
    "    dataset = pickle.load(f)\n",
    "\n",
    "dataset.drop(['DIAG_KI', 'COD_KI'], axis=1, inplace=True)"
   ]
  },
  {
   "cell_type": "code",
   "execution_count": 3,
   "metadata": {},
   "outputs": [],
   "source": [
    "yes_categorical=[\n",
    "                \"PRE_TX_TXFUS\", \n",
    "                \"GENDER\",\n",
    "                \"ON_DIALYSIS\", \n",
    "                \"ETHCAT\", \n",
    "                \"ETHCAT_DON\",\n",
    "                'DIAB',\n",
    "                'HCV_SEROSTATUS',  \n",
    "                'LIV_DON_TY',\n",
    "                # \"ABO_MAT\", \n",
    "                'HBV_CORE', \n",
    "                \n",
    "            ]\n",
    "yes_numerical = [   \n",
    "                # \"SERUM_CREAT\", # might be data leakage, as it is after the transplant\n",
    "                \"AGE\", \n",
    "                \"AGE_DON\",\n",
    "                \"DIALYSIS_TIME\",                \n",
    "                # \"KI_CREAT_PREOP\", # negative importance\n",
    "                # \"NPKID\", # negative importance\n",
    "                # \"HGT_CM_CALC\",  # negative importance\n",
    "                # \"BMI_DON_CALC\", # negative importance\n",
    "                ]"
   ]
  },
  {
   "cell_type": "code",
   "execution_count": 4,
   "metadata": {},
   "outputs": [],
   "source": [
    "numeric_features = [x for x in yes_numerical if x != \"PTIME\" and x != \"PSTATUS\"]\n",
    "\n",
    "numeric_transformer = Pipeline(steps=[\n",
    "    ('scaler', StandardScaler())\n",
    "])\n",
    "\n",
    "categorical_transformer = Pipeline(steps=[\n",
    "    ('encoder', OneHotEncoder(handle_unknown='ignore')) # maybe it's better to use not ignore\n",
    "])\n",
    "\n",
    "# Combine transformations for all features\n",
    "preprocessor = ColumnTransformer(\n",
    "    transformers=[\n",
    "        ('num', numeric_transformer, yes_numerical),\n",
    "        ('cat', categorical_transformer, yes_categorical)\n",
    "    ]\n",
    ")\n",
    "\n",
    "# Set up the final pipeline\n",
    "pipeline = Pipeline(steps=[\n",
    "    ('preprocessor', preprocessor)\n",
    "])\n",
    "\n",
    "# Apply preprocessing to X\n",
    "# X = pipeline.fit_transform(dataset[yes_categorical + yes_numerical])\n",
    "\n",
    "# For calculating feature importance\n",
    "categorical_x = encode_categorical(dataset[yes_categorical])\n",
    "numerical_x = standardize(dataset[yes_numerical])\n",
    "X = pd.concat([numerical_x, categorical_x], axis=1)\n",
    "\n",
    "survival_time = dataset[\"PTIME\"].astype(np.float64)\n",
    "event = dataset[\"PSTATUS\"].astype(float).astype(bool)\n",
    "\n",
    "y = Surv.from_arrays(event, survival_time, \"Status\", \"Days\")"
   ]
  },
  {
   "cell_type": "code",
   "execution_count": 5,
   "metadata": {},
   "outputs": [],
   "source": [
    "X_train, X_test, y_train, y_test = train_test_split(X, y, test_size=0.2, stratify=y[\"Status\"], random_state=42)"
   ]
  },
  {
   "cell_type": "code",
   "execution_count": 6,
   "metadata": {},
   "outputs": [
    {
     "data": {
      "text/html": [
       "<style>#sk-container-id-1 {color: black;}#sk-container-id-1 pre{padding: 0;}#sk-container-id-1 div.sk-toggleable {background-color: white;}#sk-container-id-1 label.sk-toggleable__label {cursor: pointer;display: block;width: 100%;margin-bottom: 0;padding: 0.3em;box-sizing: border-box;text-align: center;}#sk-container-id-1 label.sk-toggleable__label-arrow:before {content: \"▸\";float: left;margin-right: 0.25em;color: #696969;}#sk-container-id-1 label.sk-toggleable__label-arrow:hover:before {color: black;}#sk-container-id-1 div.sk-estimator:hover label.sk-toggleable__label-arrow:before {color: black;}#sk-container-id-1 div.sk-toggleable__content {max-height: 0;max-width: 0;overflow: hidden;text-align: left;background-color: #f0f8ff;}#sk-container-id-1 div.sk-toggleable__content pre {margin: 0.2em;color: black;border-radius: 0.25em;background-color: #f0f8ff;}#sk-container-id-1 input.sk-toggleable__control:checked~div.sk-toggleable__content {max-height: 200px;max-width: 100%;overflow: auto;}#sk-container-id-1 input.sk-toggleable__control:checked~label.sk-toggleable__label-arrow:before {content: \"▾\";}#sk-container-id-1 div.sk-estimator input.sk-toggleable__control:checked~label.sk-toggleable__label {background-color: #d4ebff;}#sk-container-id-1 div.sk-label input.sk-toggleable__control:checked~label.sk-toggleable__label {background-color: #d4ebff;}#sk-container-id-1 input.sk-hidden--visually {border: 0;clip: rect(1px 1px 1px 1px);clip: rect(1px, 1px, 1px, 1px);height: 1px;margin: -1px;overflow: hidden;padding: 0;position: absolute;width: 1px;}#sk-container-id-1 div.sk-estimator {font-family: monospace;background-color: #f0f8ff;border: 1px dotted black;border-radius: 0.25em;box-sizing: border-box;margin-bottom: 0.5em;}#sk-container-id-1 div.sk-estimator:hover {background-color: #d4ebff;}#sk-container-id-1 div.sk-parallel-item::after {content: \"\";width: 100%;border-bottom: 1px solid gray;flex-grow: 1;}#sk-container-id-1 div.sk-label:hover label.sk-toggleable__label {background-color: #d4ebff;}#sk-container-id-1 div.sk-serial::before {content: \"\";position: absolute;border-left: 1px solid gray;box-sizing: border-box;top: 0;bottom: 0;left: 50%;z-index: 0;}#sk-container-id-1 div.sk-serial {display: flex;flex-direction: column;align-items: center;background-color: white;padding-right: 0.2em;padding-left: 0.2em;position: relative;}#sk-container-id-1 div.sk-item {position: relative;z-index: 1;}#sk-container-id-1 div.sk-parallel {display: flex;align-items: stretch;justify-content: center;background-color: white;position: relative;}#sk-container-id-1 div.sk-item::before, #sk-container-id-1 div.sk-parallel-item::before {content: \"\";position: absolute;border-left: 1px solid gray;box-sizing: border-box;top: 0;bottom: 0;left: 50%;z-index: -1;}#sk-container-id-1 div.sk-parallel-item {display: flex;flex-direction: column;z-index: 1;position: relative;background-color: white;}#sk-container-id-1 div.sk-parallel-item:first-child::after {align-self: flex-end;width: 50%;}#sk-container-id-1 div.sk-parallel-item:last-child::after {align-self: flex-start;width: 50%;}#sk-container-id-1 div.sk-parallel-item:only-child::after {width: 0;}#sk-container-id-1 div.sk-dashed-wrapped {border: 1px dashed gray;margin: 0 0.4em 0.5em 0.4em;box-sizing: border-box;padding-bottom: 0.4em;background-color: white;}#sk-container-id-1 div.sk-label label {font-family: monospace;font-weight: bold;display: inline-block;line-height: 1.2em;}#sk-container-id-1 div.sk-label-container {text-align: center;}#sk-container-id-1 div.sk-container {/* jupyter's `normalize.less` sets `[hidden] { display: none; }` but bootstrap.min.css set `[hidden] { display: none !important; }` so we also need the `!important` here to be able to override the default hidden behavior on the sphinx rendered scikit-learn.org. See: https://github.com/scikit-learn/scikit-learn/issues/21755 */display: inline-block !important;position: relative;}#sk-container-id-1 div.sk-text-repr-fallback {display: none;}</style><div id=\"sk-container-id-1\" class=\"sk-top-container\"><div class=\"sk-text-repr-fallback\"><pre>RandomSurvivalForest(low_memory=True, n_estimators=3, n_jobs=-1,\n",
       "                     random_state=42)</pre><b>In a Jupyter environment, please rerun this cell to show the HTML representation or trust the notebook. <br />On GitHub, the HTML representation is unable to render, please try loading this page with nbviewer.org.</b></div><div class=\"sk-container\" hidden><div class=\"sk-item\"><div class=\"sk-estimator sk-toggleable\"><input class=\"sk-toggleable__control sk-hidden--visually\" id=\"sk-estimator-id-1\" type=\"checkbox\" checked><label for=\"sk-estimator-id-1\" class=\"sk-toggleable__label sk-toggleable__label-arrow\">RandomSurvivalForest</label><div class=\"sk-toggleable__content\"><pre>RandomSurvivalForest(low_memory=True, n_estimators=3, n_jobs=-1,\n",
       "                     random_state=42)</pre></div></div></div></div></div>"
      ],
      "text/plain": [
       "RandomSurvivalForest(low_memory=True, n_estimators=3, n_jobs=-1,\n",
       "                     random_state=42)"
      ]
     },
     "execution_count": 6,
     "metadata": {},
     "output_type": "execute_result"
    }
   ],
   "source": [
    "rsf = RandomSurvivalForest(n_estimators=3, n_jobs=-1, random_state=42, low_memory=True)\n",
    "rsf.fit(X_train[1000:], y_train[1000:])"
   ]
  },
  {
   "cell_type": "code",
   "execution_count": 7,
   "metadata": {},
   "outputs": [
    {
     "data": {
      "text/plain": [
       "(0.6962975414459149, 12143231, 5260977, 2990, 3547)"
      ]
     },
     "execution_count": 7,
     "metadata": {},
     "output_type": "execute_result"
    }
   ],
   "source": [
    "lower, upper = np.percentile(y[\"Days\"], [10, 90])\n",
    "times = np.arange(lower, upper + 1)\n",
    "\n",
    "# evaluate_model(rsf, X_test, y_test, y_train, times)\n",
    "evaluate_model_uno_c(rsf, X_test[500:], y_test[500:], y_train[1000:], times)"
   ]
  },
  {
   "cell_type": "markdown",
   "metadata": {},
   "source": [
    "- 0.6765997616352277, 11806774, 5596229, 4195, 3547 -- all coxnet features\n",
    "- (0.6863628389858669, 11975477, 5422948, 8773, 3547)\n",
    "- (0.6926788145550595, 12066401, 5338051, 2746, 3547) -- minus 4 features\n",
    "- (0.6976510749974301, 12242994, 5160898, 3306, 3547) -- minus npkid\n",
    "- (0.7005440984901211, 12156021, 5248164, 3013, 3547) -- minus SERUM_CREAT"
   ]
  },
  {
   "cell_type": "code",
   "execution_count": 8,
   "metadata": {},
   "outputs": [],
   "source": [
    "from sklearn.inspection import permutation_importance\n",
    "\n",
    "# uncoment if you want to calculate permutation importance (data must not be processed by pipeline)\n",
    "result = permutation_importance(rsf, X_test, y_test, n_repeats=10, random_state=0, n_jobs=-1)"
   ]
  },
  {
   "cell_type": "code",
   "execution_count": 9,
   "metadata": {},
   "outputs": [
    {
     "name": "stdout",
     "output_type": "stream",
     "text": [
      "                   Importance\n",
      "AGE                  0.089483\n",
      "DIAB=3.0             0.018387\n",
      "ON_DIALYSIS=Y        0.013666\n",
      "DIAB=5.0             0.011546\n",
      "DIAB=2.0             0.010067\n",
      "DIALYSIS_TIME        0.007122\n",
      "ETHCAT=4             0.003815\n",
      "PRE_TX_TXFUS=Y       0.003697\n",
      "AGE_DON              0.003434\n",
      "LIV_DON_TY=2.0       0.003378\n",
      "ETHCAT=2             0.002879\n",
      "ETHCAT_DON=2.0       0.002851\n",
      "ETHCAT_DON=4.0       0.001751\n",
      "ETHCAT=5             0.001425\n",
      "HCV_SEROSTATUS=P     0.001154\n",
      "LIV_DON_TY=9.0       0.000956\n",
      "GENDER=M             0.000787\n",
      "LIV_DON_TY=4.0       0.000680\n",
      "HBV_CORE=P           0.000561\n",
      "LIV_DON_TY=8.0       0.000476\n",
      "HBV_CORE=ND          0.000323\n",
      "ETHCAT_DON=5.0       0.000304\n",
      "LIV_DON_TY=10.0      0.000297\n",
      "LIV_DON_TY=6.0       0.000198\n",
      "ETHCAT=6             0.000110\n",
      "ETHCAT_DON=7.0       0.000103\n",
      "ETHCAT=9             0.000064\n",
      "DIAB=998.0           0.000037\n",
      "ETHCAT_DON=6.0       0.000030\n",
      "ETHCAT=7             0.000018\n",
      "LIV_DON_TY=12.0      0.000000\n",
      "LIV_DON_TY=3.0      -0.000029\n",
      "ETHCAT_DON=9.0      -0.000041\n",
      "DIAB=4.0            -0.000148\n",
      "LIV_DON_TY=5.0      -0.000191\n",
      "HCV_SEROSTATUS=ND   -0.000214\n",
      "LIV_DON_TY=11.0     -0.000362\n",
      "LIV_DON_TY=7.0      -0.000409\n",
      "LIV_DON_TY=999.0    -0.000581\n"
     ]
    }
   ],
   "source": [
    "pd.set_option('display.max_rows', None)\n",
    "\n",
    "# columns = numeric_features + categorical_features\n",
    "\n",
    "importances_df = pd.DataFrame(result.importances_mean, index=X_train.columns)\n",
    "importances_df.columns = ['Importance']\n",
    "importances_df.sort_values(by='Importance', ascending=False, inplace=True)\n",
    "\n",
    "# Print out feature importances\n",
    "print(importances_df)"
   ]
  },
  {
   "cell_type": "code",
   "execution_count": 12,
   "metadata": {},
   "outputs": [],
   "source": [
    "plt_importances = importances_df.sort_values(by='Importance', ascending=True)\n",
    "plt_importances['Importance']=plt_importances['Importance'].astype(float)\n",
    "path = \"../Thesis/Images/Results/\"\n",
    "\n",
    "\n",
    "diab = [\"DIAB=3.0\", \"DIAB=5.0\", \"DIAB=2.0\", \"DIAB=4.0\", \"DIAB=998.0\"]\n",
    "eth = [\"ETHCAT=2\", \"ETHCAT=5\", \"ETHCAT=4\", \"ETHCAT=9\", \"ETHCAT=6\", \"ETHCAT=7\"]\n",
    "eth_don = [\"ETHCAT_DON=2.0\", \"ETHCAT_DON=5.0\", \"ETHCAT_DON=4.0\", \"ETHCAT_DON=9.0\", \"ETHCAT_DON=6.0\", \"ETHCAT_DON=7.0\"]\n",
    "liv_don_ty = [\"LIV_DON_TY=6.0\", \"LIV_DON_TY=9.0\", \"LIV_DON_TY=11.0\", \"LIV_DON_TY=8.0\", \"LIV_DON_TY=5.0\", \"LIV_DON_TY=2.0\", \"LIV_DON_TY=12.0\", \"LIV_DON_TY=3.0\", \"LIV_DON_TY=10.0\", \"LIV_DON_TY=7.0\", \"LIV_DON_TY=999.0\", \"LIV_DON_TY=4.0\"]\n",
    "abo = [\"ABO_MAT=2.0\", \"ABO_MAT=3.0\"]\n",
    "hcv = [\"HCV_SEROSTATUS=ND\", \"HCV_SEROSTATUS=P\"]\n",
    "hbv = [\"HBV_CORE=P\", \"HBV_CORE=ND\"]\n",
    "\n",
    "\n",
    "plt_importances.loc[\"DIAB\", 'Importance'] = plt_importances.loc[diab, 'Importance'].sum()\n",
    "plt_importances.loc[\"ETHCAT\", 'Importance'] = plt_importances.loc[eth, 'Importance'].sum()\n",
    "plt_importances.loc[\"ETHCAT_DON\", 'Importance'] = plt_importances.loc[eth_don, 'Importance'].sum()\n",
    "plt_importances.loc[\"LIV_DON_TY\", 'Importance'] = plt_importances.loc[liv_don_ty, 'Importance'].sum()\n",
    "plt_importances.loc[\"HCV_SEROSTATUS\", 'Importance'] = plt_importances.loc[hcv, 'Importance'].sum()\n",
    "\n",
    "plt_importances.drop(diab, inplace=True)\n",
    "plt_importances.drop(eth, inplace=True)\n",
    "plt_importances.drop(eth_don, inplace=True)\n",
    "plt_importances.drop(liv_don_ty, inplace=True)\n",
    "plt_importances.drop(hcv, inplace=True)\n",
    "\n",
    "plt_importances.sort_values(by='Importance', ascending=True, inplace=True)"
   ]
  },
  {
   "cell_type": "code",
   "execution_count": 14,
   "metadata": {},
   "outputs": [
    {
     "data": {
      "image/png": "[encoded data removed]",
      "text/plain": [
       "<Figure size 800x900 with 1 Axes>"
      ]
     },
     "metadata": {},
     "output_type": "display_data"
    }
   ],
   "source": [
    "import matplotlib.pyplot as plt\n",
    "# plt_importances =importances_df.sort_values(by='Importance', ascending=True)\n",
    "plt_importances.plot.barh(color='blue', legend=False, title='RSF Feature Permutation Importance Living', grid=True, figsize=(8, 9))\n",
    "path = \"../../Thesis/Images/Results/\"\n",
    "plt.savefig(path + \"RSF_FI_living.pdf\", bbox_inches=\"tight\")"
   ]
  }
 ],
 "metadata": {
  "kernelspec": {
   "display_name": "kidney-life",
   "language": "python",
   "name": "python3"
  },
  "language_info": {
   "codemirror_mode": {
    "name": "ipython",
    "version": 3
   },
   "file_extension": ".py",
   "mimetype": "text/x-python",
   "name": "python",
   "nbconvert_exporter": "python",
   "pygments_lexer": "ipython3",
   "version": "3.11.5"
  }
 },
 "nbformat": 4,
 "nbformat_minor": 2
}
