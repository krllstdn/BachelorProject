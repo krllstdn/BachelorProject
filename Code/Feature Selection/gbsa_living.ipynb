{
 "cells": [
  {
   "cell_type": "code",
   "execution_count": 1,
   "metadata": {},
   "outputs": [],
   "source": [
    "import pickle\n",
    "import pandas as pd\n",
    "import numpy as np\n",
    "from sklearn.compose import ColumnTransformer\n",
    "from sklearn.pipeline import Pipeline\n",
    "from sklearn.preprocessing import StandardScaler, OneHotEncoder\n",
    "from sksurv.preprocessing import OneHotEncoder as SurvOneHotEncoder\n",
    "from sksurv.util import Surv\n",
    "\n",
    "from sksurv.column import encode_categorical\n",
    "from sksurv.column import standardize\n",
    "from sksurv.util import Surv\n",
    "\n",
    "from sklearn.model_selection import train_test_split\n",
    "from sksurv.ensemble import RandomSurvivalForest\n",
    "from sksurv.linear_model import CoxnetSurvivalAnalysis\n",
    "\n",
    "from sksurv.metrics import (\n",
    "    concordance_index_censored,\n",
    "    concordance_index_ipcw,\n",
    "    cumulative_dynamic_auc,\n",
    "    integrated_brier_score,\n",
    ")\n",
    "\n",
    "def evaluate_model_uno_c(model, test_X, test_y, train_y, times):\n",
    "    pred = model.predict(test_X)\n",
    "    uno_concordance = concordance_index_ipcw(train_y, test_y, pred, tau=times[-1])\n",
    "    return uno_concordance"
   ]
  },
  {
   "cell_type": "code",
   "execution_count": 2,
   "metadata": {},
   "outputs": [],
   "source": [
    "# pickle_file = 'data/COX_DATA_FULL_LIVING.pkl'\n",
    "pickle_file = '../data/COX_DATA_FULL_LIVING_EXPERIMENTAL.pkl'\n",
    "\n",
    "with open(pickle_file, 'rb') as f:\n",
    "    dataset = pickle.load(f)\n",
    "\n",
    "dataset.drop(['DIAG_KI', 'COD_KI'], axis=1, inplace=True)"
   ]
  },
  {
   "cell_type": "code",
   "execution_count": 3,
   "metadata": {},
   "outputs": [],
   "source": [
    "yes_categorical=[\n",
    "                \"PRE_TX_TXFUS\", \n",
    "                \"GENDER\",\n",
    "                \"ON_DIALYSIS\", \n",
    "                \"ETHCAT\", \n",
    "                \"ETHCAT_DON\",\n",
    "                'DIAB',\n",
    "                'HCV_SEROSTATUS',  \n",
    "                'LIV_DON_TY',\n",
    "                \"ABO_MAT\", \n",
    "                'HBV_CORE', \n",
    "                \n",
    "            ]\n",
    "yes_numerical = [   \n",
    "                # \"SERUM_CREAT\", # might be data leakage, as it is after the transplant\n",
    "                \"AGE\", \n",
    "                \"AGE_DON\",\n",
    "                \"DIALYSIS_TIME\",                \n",
    "                \"KI_CREAT_PREOP\", # negative importance\n",
    "                \"NPKID\", # negative importance\n",
    "                \"HGT_CM_CALC\",  # negative importance\n",
    "                \"BMI_DON_CALC\", # negative importance\n",
    "                ]"
   ]
  },
  {
   "cell_type": "code",
   "execution_count": 4,
   "metadata": {},
   "outputs": [],
   "source": [
    "dataset.dropna(subset=yes_numerical+yes_categorical, inplace=True)"
   ]
  },
  {
   "cell_type": "code",
   "execution_count": 5,
   "metadata": {},
   "outputs": [
    {
     "data": {
      "text/plain": [
       "(53082, 58)"
      ]
     },
     "execution_count": 5,
     "metadata": {},
     "output_type": "execute_result"
    }
   ],
   "source": [
    "dataset.shape"
   ]
  },
  {
   "cell_type": "code",
   "execution_count": 6,
   "metadata": {},
   "outputs": [],
   "source": [
    "numeric_features = [x for x in yes_numerical if x != \"PTIME\" and x != \"PSTATUS\"]\n",
    "\n",
    "categorical_x = encode_categorical(dataset[yes_categorical])\n",
    "numerical_x = standardize(dataset[yes_numerical])\n",
    "X = pd.concat([numerical_x, categorical_x], axis=1)\n",
    "\n",
    "survival_time = dataset[\"PTIME\"].astype(np.float64)\n",
    "event = dataset[\"PSTATUS\"].astype(float).astype(bool)\n",
    "\n",
    "y = Surv.from_arrays(event, survival_time, \"Status\", \"Days\")"
   ]
  },
  {
   "cell_type": "code",
   "execution_count": null,
   "metadata": {},
   "outputs": [],
   "source": []
  },
  {
   "cell_type": "code",
   "execution_count": 7,
   "metadata": {},
   "outputs": [],
   "source": [
    "X_train, X_test, y_train, y_test = train_test_split(X, y, test_size=0.2, stratify=y[\"Status\"], random_state=42)"
   ]
  },
  {
   "cell_type": "code",
   "execution_count": 39,
   "metadata": {},
   "outputs": [],
   "source": [
    "from sksurv.ensemble import GradientBoostingSurvivalAnalysis\n",
    "\n",
    "# est = GradientBoostingSurvivalAnalysis(n_estimators=3, learning_rate=1)\n",
    "# est.fit(X_train, y_train)\n",
    "# est.score(X_test, y_test)"
   ]
  },
  {
   "cell_type": "code",
   "execution_count": 8,
   "metadata": {},
   "outputs": [],
   "source": [
    "import pickle\n",
    "\n",
    "lower, upper = np.percentile(y[\"Days\"], [10, 90])\n",
    "times = np.arange(lower, upper + 1)\n",
    "\n",
    "with open('../TrainedModels/GBSA_0.722_lr0.2_leaving_early_stopping.pkl', 'rb') as file:\n",
    "    best_model = pickle.load(file)"
   ]
  },
  {
   "cell_type": "code",
   "execution_count": 9,
   "metadata": {},
   "outputs": [],
   "source": [
    "from sklearn.inspection import permutation_importance\n",
    "\n",
    "# uncoment if you want to calculate permutation importance (data must not be processed by pipeline)\n",
    "# result = permutation_importance(est, X_test, y_test, n_repeats=10, random_state=0, n_jobs=-1)\n",
    "result = permutation_importance(best_model, X_test, y_test, n_repeats=10, random_state=0, n_jobs=-1)"
   ]
  },
  {
   "cell_type": "code",
   "execution_count": 10,
   "metadata": {},
   "outputs": [
    {
     "name": "stdout",
     "output_type": "stream",
     "text": [
      "                   Importance\n",
      "ON_DIALYSIS=Y        0.027521\n",
      "DIAB=5.0             0.019476\n",
      "LIV_DON_TY=4.0       0.013106\n",
      "DIALYSIS_TIME        0.009811\n",
      "DIAB=3.0             0.007325\n",
      "LIV_DON_TY=2.0       0.005390\n",
      "DIAB=2.0             0.003791\n",
      "ETHCAT_DON=2.0       0.003636\n",
      "ETHCAT=5             0.003147\n",
      "ETHCAT=4             0.002992\n",
      "ABO_MAT=2.0          0.002541\n",
      "LIV_DON_TY=10.0      0.001930\n",
      "HBV_CORE=P           0.001091\n",
      "LIV_DON_TY=9.0       0.001022\n",
      "ETHCAT=2             0.000788\n",
      "DIAB=998.0           0.000658\n",
      "LIV_DON_TY=6.0       0.000621\n",
      "LIV_DON_TY=999.0     0.000553\n",
      "DIAB=4.0             0.000500\n",
      "ETHCAT_DON=5.0       0.000376\n",
      "ETHCAT_DON=6.0       0.000304\n",
      "ETHCAT=6             0.000275\n",
      "ETHCAT_DON=7.0       0.000202\n",
      "HBV_CORE=ND          0.000200\n",
      "LIV_DON_TY=3.0       0.000162\n",
      "LIV_DON_TY=5.0       0.000079\n",
      "LIV_DON_TY=11.0      0.000050\n",
      "ABO_MAT=3.0          0.000024\n",
      "NPKID                0.000022\n",
      "HGT_CM_CALC          0.000000\n",
      "LIV_DON_TY=8.0       0.000000\n",
      "BMI_DON_CALC         0.000000\n",
      "LIV_DON_TY=12.0      0.000000\n",
      "AGE_DON              0.000000\n",
      "AGE                  0.000000\n",
      "ETHCAT=7            -0.000012\n",
      "ETHCAT_DON=9.0      -0.000025\n",
      "LIV_DON_TY=7.0      -0.000119\n",
      "ETHCAT=9            -0.000136\n",
      "HCV_SEROSTATUS=ND   -0.000231\n",
      "GENDER=M            -0.000659\n",
      "HCV_SEROSTATUS=P    -0.000886\n",
      "ETHCAT_DON=4.0      -0.001391\n",
      "KI_CREAT_PREOP      -0.002243\n",
      "PRE_TX_TXFUS=Y      -0.008649\n"
     ]
    }
   ],
   "source": [
    "pd.set_option('display.max_rows', None)\n",
    "\n",
    "# columns = numeric_features + categorical_features\n",
    "\n",
    "importances_df = pd.DataFrame(result.importances_mean, index=X_train.columns)\n",
    "importances_df.columns = ['Importance']\n",
    "importances_df.sort_values(by='Importance', ascending=False, inplace=True)\n",
    "\n",
    "# Print out feature importances\n",
    "print(importances_df)"
   ]
  },
  {
   "cell_type": "code",
   "execution_count": null,
   "metadata": {},
   "outputs": [],
   "source": [
    "plt_importances = importances_df.sort_values(by='Importance', ascending=True)\n",
    "plt_importances['Importance']=plt_importances['Importance'].astype(float)\n",
    "path = \"../Thesis/Images/Results/\"\n",
    "\n",
    "\n",
    "diab = [\"DIAB=3.0\", \"DIAB=5.0\", \"DIAB=2.0\", \"DIAB=4.0\", \"DIAB=998.0\"]\n",
    "eth = [\"ETHCAT=2\", \"ETHCAT=5\", \"ETHCAT=4\", \"ETHCAT=9\", \"ETHCAT=6\", \"ETHCAT=7\"]\n",
    "eth_don = [\"ETHCAT_DON=2.0\", \"ETHCAT_DON=5.0\", \"ETHCAT_DON=4.0\", \"ETHCAT_DON=9.0\", \"ETHCAT_DON=6.0\", \"ETHCAT_DON=7.0\"]\n",
    "liv_don_ty = [\"LIV_DON_TY=6.0\", \"LIV_DON_TY=9.0\", \"LIV_DON_TY=11.0\", \"LIV_DON_TY=8.0\", \"LIV_DON_TY=5.0\", \"LIV_DON_TY=2.0\", \"LIV_DON_TY=12.0\", \"LIV_DON_TY=3.0\", \"LIV_DON_TY=10.0\", \"LIV_DON_TY=7.0\", \"LIV_DON_TY=999.0\", \"LIV_DON_TY=4.0\"]\n",
    "abo = [\"ABO_MAT=2.0\", \"ABO_MAT=3.0\"]\n",
    "hcv = [\"HCV_SEROSTATUS=ND\", \"HCV_SEROSTATUS=P\"]\n",
    "hbv = [\"HBV_CORE=P\", \"HBV_CORE=ND\"]\n",
    "\n",
    "\n",
    "plt_importances.loc[\"DIAB\", 'Importance'] = plt_importances.loc[diab, 'Importance'].sum()\n",
    "plt_importances.loc[\"ETHCAT\", 'Importance'] = plt_importances.loc[eth, 'Importance'].sum()\n",
    "plt_importances.loc[\"ETHCAT_DON\", 'Importance'] = plt_importances.loc[eth_don, 'Importance'].sum()\n",
    "plt_importances.loc[\"LIV_DON_TY\", 'Importance'] = plt_importances.loc[liv_don_ty, 'Importance'].sum()\n",
    "plt_importances.loc[\"ABO_MAT\", 'Importance'] = plt_importances.loc[abo, 'Importance'].sum()\n",
    "plt_importances.loc[\"HCV_SEROSTATUS\", 'Importance'] = plt_importances.loc[hcv, 'Importance'].sum()\n",
    "# plt_importances.loc[\"HBV_CORE\", 'Importance'] = plt_importances.loc[hbv, 'Importance'].sum()\n",
    "\n",
    "plt_importances.drop(diab, inplace=True)\n",
    "plt_importances.drop(eth, inplace=True)\n",
    "plt_importances.drop(eth_don, inplace=True)\n",
    "plt_importances.drop(liv_don_ty, inplace=True)\n",
    "plt_importances.drop(abo, inplace=True)\n",
    "plt_importances.drop(hcv, inplace=True)\n",
    "plt_importances.drop(hbv, inplace=True)\n",
    "# plt_importances.sort_values(by='Importance', ascending=True, inplace=True)\n",
    "\n",
    "plt_importances.sort_values(by='Importance', ascending=True, inplace=True)"
   ]
  },
  {
   "cell_type": "code",
   "execution_count": 15,
   "metadata": {},
   "outputs": [
    {
     "data": {
      "image/png": "[encoded data removed]",
      "text/plain": [
       "<Figure size 800x900 with 1 Axes>"
      ]
     },
     "metadata": {},
     "output_type": "display_data"
    }
   ],
   "source": [
    "plt_importances.plot.barh(color='blue', legend=False, title='GBSA Permutation Importance Living', grid=True, figsize=(8, 9))\n",
    "path = \"../../Thesis/Images/Results/\"\n",
    "plt.savefig(path + \"GBSA_FI_living.pdf\", bbox_inches=\"tight\")"
   ]
  }
 ],
 "metadata": {
  "kernelspec": {
   "display_name": "kidney-life",
   "language": "python",
   "name": "python3"
  },
  "language_info": {
   "codemirror_mode": {
    "name": "ipython",
    "version": 3
   },
   "file_extension": ".py",
   "mimetype": "text/x-python",
   "name": "python",
   "nbconvert_exporter": "python",
   "pygments_lexer": "ipython3",
   "version": "3.11.5"
  }
 },
 "nbformat": 4,
 "nbformat_minor": 2
}
