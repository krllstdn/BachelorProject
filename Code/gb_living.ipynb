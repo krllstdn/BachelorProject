{
 "cells": [
  {
   "cell_type": "code",
   "execution_count": 89,
   "metadata": {},
   "outputs": [],
   "source": [
    "import pickle\n",
    "import pandas as pd\n",
    "import numpy as np\n",
    "from sklearn.compose import ColumnTransformer\n",
    "from sklearn.pipeline import Pipeline\n",
    "from sklearn.preprocessing import StandardScaler, OneHotEncoder\n",
    "from sksurv.preprocessing import OneHotEncoder as SurvOneHotEncoder\n",
    "from sksurv.util import Surv\n",
    "\n",
    "from sksurv.column import encode_categorical\n",
    "from sksurv.column import standardize\n",
    "from sksurv.util import Surv\n",
    "\n",
    "from sklearn.model_selection import train_test_split\n",
    "from sksurv.ensemble import RandomSurvivalForest\n",
    "from sksurv.linear_model import CoxnetSurvivalAnalysis\n"
   ]
  },
  {
   "cell_type": "code",
   "execution_count": 90,
   "metadata": {},
   "outputs": [],
   "source": [
    "from sksurv.metrics import (\n",
    "    concordance_index_censored,\n",
    "    concordance_index_ipcw,\n",
    "    cumulative_dynamic_auc,\n",
    "    integrated_brier_score,\n",
    ")\n",
    "\n",
    "def evaluate_model_uno_c(model, test_X, test_y, train_y, times):\n",
    "    pred = model.predict(test_X)\n",
    "    uno_concordance = concordance_index_ipcw(train_y, test_y, pred, tau=times[-1])\n",
    "    return uno_concordance"
   ]
  },
  {
   "cell_type": "code",
   "execution_count": 91,
   "metadata": {},
   "outputs": [],
   "source": [
    "# pickle_file = 'data/COX_DATA_FULL_LIVING.pkl'\n",
    "pickle_file = 'data/COX_DATA_FULL_LIVING_EXPERIMENTAL.pkl'\n",
    "\n",
    "with open(pickle_file, 'rb') as f:\n",
    "    dataset = pickle.load(f)\n",
    "\n",
    "dataset.drop(['DIAG_KI', 'COD_KI'], axis=1, inplace=True)"
   ]
  },
  {
   "cell_type": "code",
   "execution_count": 92,
   "metadata": {},
   "outputs": [],
   "source": [
    "yes_categorical=[\n",
    "                \"PRE_TX_TXFUS\", \n",
    "                \"GENDER\",\n",
    "                \"ON_DIALYSIS\", \n",
    "                \"ETHCAT\", \n",
    "                \"ETHCAT_DON\",\n",
    "                'DIAB',\n",
    "                'HCV_SEROSTATUS',  \n",
    "                'LIV_DON_TY',\n",
    "                \"ABO_MAT\", \n",
    "                'HBV_CORE', \n",
    "                \n",
    "            ]\n",
    "yes_numerical = [   \n",
    "                # \"SERUM_CREAT\", # might be data leakage, as it is after the transplant\n",
    "                \"AGE\", \n",
    "                \"AGE_DON\",\n",
    "                \"DIALYSIS_TIME\",                \n",
    "                \"KI_CREAT_PREOP\", # negative importance\n",
    "                \"NPKID\", # negative importance\n",
    "                \"HGT_CM_CALC\",  # negative importance\n",
    "                \"BMI_DON_CALC\", # negative importance\n",
    "                ]"
   ]
  },
  {
   "cell_type": "code",
   "execution_count": 93,
   "metadata": {},
   "outputs": [
    {
     "data": {
      "text/plain": [
       "AGE               float64\n",
       "AGE_DON           float64\n",
       "DIALYSIS_TIME     float64\n",
       "KI_CREAT_PREOP    float64\n",
       "NPKID             float64\n",
       "HGT_CM_CALC       float64\n",
       "BMI_DON_CALC      float64\n",
       "dtype: object"
      ]
     },
     "execution_count": 93,
     "metadata": {},
     "output_type": "execute_result"
    }
   ],
   "source": [
    "dataset[yes_numerical] = dataset[yes_numerical].astype(float)\n",
    "\n",
    "dataset[yes_numerical].dtypes"
   ]
  },
  {
   "cell_type": "code",
   "execution_count": 94,
   "metadata": {},
   "outputs": [],
   "source": [
    "numeric_features = [x for x in yes_numerical if x != \"PTIME\" and x != \"PSTATUS\"]\n",
    "\n",
    "numeric_transformer = Pipeline(steps=[\n",
    "    ('scaler', StandardScaler())\n",
    "])\n",
    "\n",
    "categorical_transformer = Pipeline(steps=[\n",
    "    ('encoder', OneHotEncoder(handle_unknown='ignore')) # maybe it's better to use not ignore\n",
    "])\n",
    "\n",
    "# Combine transformations for all features\n",
    "preprocessor = ColumnTransformer(\n",
    "    transformers=[\n",
    "        ('num', numeric_transformer, yes_numerical),\n",
    "        ('cat', categorical_transformer, yes_categorical)\n",
    "    ]\n",
    ")\n",
    "\n",
    "# Set up the final pipeline\n",
    "pipeline = Pipeline(steps=[\n",
    "    ('preprocessor', preprocessor)\n",
    "])\n",
    "\n",
    "# Apply preprocessing to X\n",
    "# X = pipeline.fit_transform(dataset[yes_categorical + yes_numerical])\n",
    "\n",
    "# For calculating feature importance\n",
    "categorical_x = encode_categorical(dataset[yes_categorical])\n",
    "numerical_x = standardize(dataset[yes_numerical])\n",
    "X = pd.concat([numerical_x, categorical_x], axis=1)\n",
    "\n",
    "survival_time = dataset[\"PTIME\"].astype(np.float64)\n",
    "event = dataset[\"PSTATUS\"].astype(float).astype(bool)\n",
    "\n",
    "y = Surv.from_arrays(event, survival_time, \"Status\", \"Days\")"
   ]
  },
  {
   "cell_type": "code",
   "execution_count": 95,
   "metadata": {},
   "outputs": [],
   "source": [
    "X_train, X_test, y_train, y_test = train_test_split(X, y, test_size=0.2, stratify=y[\"Status\"], random_state=42)"
   ]
  },
  {
   "cell_type": "code",
   "execution_count": 96,
   "metadata": {},
   "outputs": [
    {
     "data": {
      "text/plain": [
       "(42465, 45)"
      ]
     },
     "execution_count": 96,
     "metadata": {},
     "output_type": "execute_result"
    }
   ],
   "source": [
    "X_train.shape"
   ]
  },
  {
   "cell_type": "code",
   "execution_count": 97,
   "metadata": {},
   "outputs": [],
   "source": [
    "def evaluate_model(model, test_X, test_y, train_y, times):\n",
    "    pred = model.predict(test_X)\n",
    "    surv_fn = model.predict_survival_function(X_test, return_array=False)\n",
    "    surv_prob = np.row_stack([fn(times) for fn in surv_fn])\n",
    "\n",
    "    uno_concordance = concordance_index_ipcw(train_y, test_y, pred, tau=times[-1])\n",
    "    ibs = integrated_brier_score(y_train, y_test, surv_prob, times)\n",
    "    auc, mean_auc = cumulative_dynamic_auc(y_train, y_test, pred, times)\n",
    "\n",
    "    print(f\"Concordance Uno: {uno_concordance}\")\n",
    "    print(f\"IBS: {ibs}\")\n",
    "    print(f\"Mean AUC: {mean_auc}\")\n",
    "\n",
    "    return uno_concordance, ibs, mean_auc"
   ]
  },
  {
   "cell_type": "code",
   "execution_count": 98,
   "metadata": {},
   "outputs": [],
   "source": [
    "lower, upper = np.percentile(y[\"Days\"], [10, 90])\n",
    "times = np.arange(lower, upper + 1)"
   ]
  },
  {
   "cell_type": "markdown",
   "metadata": {},
   "source": []
  },
  {
   "cell_type": "markdown",
   "metadata": {},
   "source": [
    "# GBSA"
   ]
  },
  {
   "cell_type": "code",
   "execution_count": 99,
   "metadata": {},
   "outputs": [
    {
     "name": "stdout",
     "output_type": "stream",
     "text": [
      "      Iter       Train Loss      OOB Improve   Remaining Time \n",
      "         1       60310.9849         200.4216          318.54m\n",
      "         2       59766.1284         183.9330          325.38m\n",
      "         3       59258.1937         169.2727          328.42m\n",
      "         4       59235.4181         147.4785          328.83m\n",
      "         5       59535.7240         137.2431          329.43m\n",
      "         6       59711.0191         115.9507          329.51m\n",
      "         7       59177.8172         105.2360          328.83m\n",
      "         8       59633.4321          94.1630          328.32m\n",
      "         9       59505.6870          86.5201          327.98m\n",
      "        10       60226.6962          74.9082          327.74m\n",
      "        20       59091.2426          26.8259          328.87m\n",
      "        30       58583.0095          10.9151          324.92m\n",
      "        40       58084.3328           5.7154          322.07m\n",
      "        50       58496.4554           1.8910          320.23m\n",
      "        60       57374.4080           0.2697          316.66m\n",
      "        70       57520.4670          -0.1146          313.13m\n",
      "        80       58301.9759           1.5838          309.65m\n",
      "        90       58800.9403           0.3919          306.21m\n",
      "       100       57709.9007          -0.1340          302.78m\n",
      "Fitted base learners: 144\n",
      "Performance on test set 0.721\n"
     ]
    }
   ],
   "source": [
    "from sksurv.ensemble import GradientBoostingSurvivalAnalysis\n",
    "\n",
    "class EarlyStoppingMonitor:\n",
    "    def __init__(self, window_size, max_iter_without_improvement):\n",
    "        self.window_size = window_size\n",
    "        self.max_iter_without_improvement = max_iter_without_improvement\n",
    "        self._best_step = -1\n",
    "\n",
    "    def __call__(self, iteration, estimator, args):\n",
    "        # continue training for first self.window_size iterations\n",
    "        if iteration < self.window_size:\n",
    "            return False\n",
    "\n",
    "        # compute average improvement in last self.window_size iterations.\n",
    "        # oob_improvement_ is the different in negative log partial likelihood\n",
    "        # between the previous and current iteration.\n",
    "        start = iteration - self.window_size + 1\n",
    "        end = iteration + 1\n",
    "        improvement = np.mean(estimator.oob_improvement_[start:end])\n",
    "\n",
    "        if improvement > 1e-6:\n",
    "            self._best_step = iteration\n",
    "            return False  # continue fitting\n",
    "\n",
    "        # stop fitting if there was no improvement\n",
    "        # in last max_iter_without_improvement iterations\n",
    "        diff = iteration - self._best_step\n",
    "        return diff >= self.max_iter_without_improvement\n",
    "\n",
    "\n",
    "est_early_stopping = GradientBoostingSurvivalAnalysis(\n",
    "    n_estimators=1000, learning_rate=0.2, subsample=0.5, max_depth=4, random_state=0, verbose=1\n",
    ")\n",
    "\n",
    "monitor = EarlyStoppingMonitor(25, 50)\n",
    "\n",
    "est_early_stopping.fit(X_train, y_train, monitor=monitor)\n",
    "\n",
    "print(\"Fitted base learners:\", est_early_stopping.n_estimators_)\n",
    "\n",
    "cindex = est_early_stopping.score(X_test, y_test)\n",
    "print(\"Performance on test set\", round(cindex, 3))"
   ]
  },
  {
   "cell_type": "code",
   "execution_count": 101,
   "metadata": {},
   "outputs": [
    {
     "data": {
      "image/png": "[encoded data removed]",
      "text/plain": [
       "<Figure size 640x480 with 1 Axes>"
      ]
     },
     "metadata": {},
     "output_type": "display_data"
    }
   ],
   "source": [
    "improvement = pd.Series(\n",
    "    est_early_stopping.oob_improvement_, index=np.arange(1, 1 + len(est_early_stopping.oob_improvement_))\n",
    ")\n",
    "ax = improvement.plot(xlabel=\"iteration\", ylabel=\"oob improvement\")\n",
    "ax.axhline(0.0, linestyle=\"--\", color=\"gray\")\n",
    "cutoff = len(improvement) - monitor.max_iter_without_improvement\n",
    "ax.axvline(cutoff, linestyle=\"--\", color=\"C3\")\n",
    "ax.title.set_text(\"GBSA training\")\n",
    "\n",
    "_ = improvement.rolling(monitor.window_size).mean().plot(ax=ax, linestyle=\":\")"
   ]
  },
  {
   "cell_type": "code",
   "execution_count": 102,
   "metadata": {},
   "outputs": [
    {
     "name": "stdout",
     "output_type": "stream",
     "text": [
      "Concordance Uno: (0.7222418123930751, 13802892, 5352503, 2, 3954)\n",
      "IBS: 0.13584495657113635\n",
      "Mean AUC: 0.742727843953689\n"
     ]
    },
    {
     "data": {
      "text/plain": [
       "((0.7222418123930751, 13802892, 5352503, 2, 3954),\n",
       " 0.13584495657113635,\n",
       " 0.742727843953689)"
      ]
     },
     "execution_count": 102,
     "metadata": {},
     "output_type": "execute_result"
    }
   ],
   "source": [
    "evaluate_model(est_early_stopping, X_test, y_test, y_train, times)"
   ]
  },
  {
   "cell_type": "code",
   "execution_count": 103,
   "metadata": {},
   "outputs": [],
   "source": [
    "import pickle\n",
    "\n",
    "pickle_file = 'TrainedModels/GBSA_0.722_lr0.2_leaving_early_stopping.pkl'\n",
    "\n",
    "with open(pickle_file, 'wb') as f:\n",
    "    pickle.dump(est_early_stopping, f)\n"
   ]
  }
 ],
 "metadata": {
  "kernelspec": {
   "display_name": "kidney-life",
   "language": "python",
   "name": "python3"
  },
  "language_info": {
   "codemirror_mode": {
    "name": "ipython",
    "version": 3
   },
   "file_extension": ".py",
   "mimetype": "text/x-python",
   "name": "python",
   "nbconvert_exporter": "python",
   "pygments_lexer": "ipython3",
   "version": "3.11.5"
  }
 },
 "nbformat": 4,
 "nbformat_minor": 2
}
