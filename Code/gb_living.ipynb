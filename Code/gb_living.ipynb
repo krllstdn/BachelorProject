{
 "cells": [
  {
   "cell_type": "code",
   "execution_count": 3,
   "metadata": {},
   "outputs": [],
   "source": [
    "import pickle\n",
    "import pandas as pd\n",
    "import numpy as np\n",
    "from sklearn.compose import ColumnTransformer\n",
    "from sklearn.pipeline import Pipeline\n",
    "from sklearn.preprocessing import StandardScaler, OneHotEncoder\n",
    "from sksurv.preprocessing import OneHotEncoder as SurvOneHotEncoder\n",
    "from sksurv.util import Surv\n",
    "\n",
    "from sksurv.column import encode_categorical\n",
    "from sksurv.column import standardize\n",
    "from sksurv.util import Surv\n",
    "\n",
    "from sklearn.model_selection import train_test_split\n",
    "from sksurv.ensemble import RandomSurvivalForest\n",
    "from sksurv.linear_model import CoxnetSurvivalAnalysis\n"
   ]
  },
  {
   "cell_type": "code",
   "execution_count": 4,
   "metadata": {},
   "outputs": [],
   "source": [
    "from sksurv.metrics import (\n",
    "    concordance_index_censored,\n",
    "    concordance_index_ipcw,\n",
    "    cumulative_dynamic_auc,\n",
    "    integrated_brier_score,\n",
    ")\n",
    "\n",
    "def evaluate_model_uno_c(model, test_X, test_y, train_y, times):\n",
    "    pred = model.predict(test_X)\n",
    "    uno_concordance = concordance_index_ipcw(train_y, test_y, pred, tau=times[-1])\n",
    "    return uno_concordance"
   ]
  },
  {
   "cell_type": "code",
   "execution_count": 13,
   "metadata": {},
   "outputs": [],
   "source": [
    "# pickle_file = 'data/COX_DATA_FULL_LIVING.pkl'\n",
    "pickle_file = 'data/COX_DATA_FULL_LIVING_EXPERIMENTAL.pkl'\n",
    "\n",
    "with open(pickle_file, 'rb') as f:\n",
    "    dataset = pickle.load(f)\n",
    "\n",
    "dataset.drop(['DIAG_KI', 'COD_KI'], axis=1, inplace=True)"
   ]
  },
  {
   "cell_type": "code",
   "execution_count": 21,
   "metadata": {},
   "outputs": [],
   "source": [
    "yes_categorical=[\n",
    "                \"ON_DIALYSIS\", \n",
    "                \"ETHCAT\", \n",
    "                \"ETHCAT_DON\",\n",
    "                'DIAB',\n",
    "                'LIV_DON_TY',\n",
    "                \"ABO_MAT\", \n",
    "                'HBV_CORE', \n",
    "                'HCV_SEROSTATUS',  # negative importance\n",
    "                \"PRE_TX_TXFUS\", # negative importance\n",
    "                \"GENDER\", # negative importance\n",
    "                \n",
    "            ]\n",
    "yes_numerical = [   \n",
    "                # \"SERUM_CREAT\", # might be data leakage, as it is after the transplant\n",
    "                \"AGE\", \n",
    "                \"AGE_DON\",\n",
    "                \"DIALYSIS_TIME\",                \n",
    "                \"NPKID\", \n",
    "                \"HGT_CM_CALC\",  \n",
    "                \"BMI_DON_CALC\",\n",
    "                \"KI_CREAT_PREOP\", # negative importance\n",
    "                ]"
   ]
  },
  {
   "cell_type": "code",
   "execution_count": 15,
   "metadata": {},
   "outputs": [
    {
     "data": {
      "text/plain": [
       "SERUM_CREAT      float64\n",
       "AGE              float64\n",
       "AGE_DON          float64\n",
       "DIALYSIS_TIME    float64\n",
       "NPKID            float64\n",
       "HGT_CM_CALC      float64\n",
       "BMI_DON_CALC     float64\n",
       "dtype: object"
      ]
     },
     "execution_count": 15,
     "metadata": {},
     "output_type": "execute_result"
    }
   ],
   "source": [
    "dataset[yes_numerical] = dataset[yes_numerical].astype(float)\n",
    "\n",
    "dataset[yes_numerical].dtypes"
   ]
  },
  {
   "cell_type": "code",
   "execution_count": 22,
   "metadata": {},
   "outputs": [],
   "source": [
    "numeric_features = [x for x in yes_numerical if x != \"PTIME\" and x != \"PSTATUS\"]\n",
    "\n",
    "numeric_transformer = Pipeline(steps=[\n",
    "    ('scaler', StandardScaler())\n",
    "])\n",
    "\n",
    "categorical_transformer = Pipeline(steps=[\n",
    "    ('encoder', OneHotEncoder(handle_unknown='ignore')) # maybe it's better to use not ignore\n",
    "])\n",
    "\n",
    "# Combine transformations for all features\n",
    "preprocessor = ColumnTransformer(\n",
    "    transformers=[\n",
    "        ('num', numeric_transformer, yes_numerical),\n",
    "        ('cat', categorical_transformer, yes_categorical)\n",
    "    ]\n",
    ")\n",
    "\n",
    "# Set up the final pipeline\n",
    "pipeline = Pipeline(steps=[\n",
    "    ('preprocessor', preprocessor)\n",
    "])\n",
    "\n",
    "# Apply preprocessing to X\n",
    "X = pipeline.fit_transform(dataset[yes_categorical + yes_numerical])\n",
    "\n",
    "# For calculating feature importance\n",
    "categorical_x = encode_categorical(dataset[yes_categorical])\n",
    "numerical_x = standardize(dataset[yes_numerical])\n",
    "X = pd.concat([numerical_x, categorical_x], axis=1)\n",
    "\n",
    "survival_time = dataset[\"PTIME\"].astype(np.float64)\n",
    "event = dataset[\"PSTATUS\"].astype(float).astype(bool)\n",
    "\n",
    "y = Surv.from_arrays(event, survival_time, \"Status\", \"Days\")"
   ]
  },
  {
   "cell_type": "code",
   "execution_count": 23,
   "metadata": {},
   "outputs": [],
   "source": [
    "X_train, X_test, y_train, y_test = train_test_split(X, y, test_size=0.2, stratify=y[\"Status\"], random_state=42)"
   ]
  },
  {
   "cell_type": "code",
   "execution_count": 18,
   "metadata": {},
   "outputs": [
    {
     "data": {
      "text/plain": [
       "(42465, 45)"
      ]
     },
     "execution_count": 18,
     "metadata": {},
     "output_type": "execute_result"
    }
   ],
   "source": [
    "X_train.shape"
   ]
  },
  {
   "cell_type": "code",
   "execution_count": 30,
   "metadata": {},
   "outputs": [],
   "source": [
    "def evaluate_model(model, test_X, test_y, train_y, times):\n",
    "    pred = model.predict(test_X)\n",
    "    surv_fn = model.predict_survival_function(X_test, return_array=False)\n",
    "    surv_prob = np.row_stack([fn(times) for fn in surv_fn])\n",
    "\n",
    "    uno_concordance = concordance_index_ipcw(train_y, test_y, pred, tau=times[-1])\n",
    "    ibs = integrated_brier_score(y_train, y_test, surv_prob, times)\n",
    "    auc, mean_auc = cumulative_dynamic_auc(y_train, y_test, pred, times)\n",
    "\n",
    "    print(f\"Concordance Uno: {uno_concordance}\")\n",
    "    print(f\"IBS: {ibs}\")\n",
    "    print(f\"Mean AUC: {mean_auc}\")\n",
    "\n",
    "    return uno_concordance, ibs, mean_auc"
   ]
  },
  {
   "cell_type": "code",
   "execution_count": 24,
   "metadata": {},
   "outputs": [],
   "source": [
    "lower, upper = np.percentile(y[\"Days\"], [10, 90])\n",
    "times = np.arange(lower, upper + 1)"
   ]
  },
  {
   "cell_type": "markdown",
   "metadata": {},
   "source": []
  },
  {
   "cell_type": "markdown",
   "metadata": {},
   "source": [
    "# GBSA"
   ]
  },
  {
   "cell_type": "code",
   "execution_count": 32,
   "metadata": {},
   "outputs": [
    {
     "name": "stdout",
     "output_type": "stream",
     "text": [
      "      Iter       Train Loss      OOB Improve   Remaining Time \n"
     ]
    },
    {
     "name": "stdout",
     "output_type": "stream",
     "text": [
      "         1       60310.9849         200.4216          826.86m\n",
      "         2       59766.1284         183.9330          663.47m\n",
      "         3       59258.1937         169.2727          604.36m\n",
      "         4       59235.4181         147.4785          580.35m\n",
      "         5       59535.7240         137.2431          561.12m\n",
      "         6       59711.1900         115.9502          544.19m\n",
      "         7       59177.8086         105.1847          540.07m\n",
      "         8       59633.2583          94.5945          544.24m\n",
      "         9       59505.8846          85.5352          541.50m\n",
      "        10       60224.5523          77.0831          546.21m\n",
      "        20       59097.7690          27.1868          592.00m\n",
      "        30       58592.9880          11.3915          552.08m\n",
      "        40       58107.5265           4.0157          532.28m\n",
      "        50       58516.5212           2.5436          518.21m\n",
      "        60       57407.1238           1.2628          511.26m\n",
      "        70       57548.5319          -1.1917          507.81m\n",
      "        80       58329.9343           0.5367          501.65m\n",
      "        90       58851.3593           0.8057          497.73m\n",
      "       100       57747.1988          -0.2993          491.04m\n",
      "Fitted base learners: 139\n",
      "Performance on test set 0.718\n"
     ]
    }
   ],
   "source": [
    "from sksurv.ensemble import GradientBoostingSurvivalAnalysis\n",
    "\n",
    "class EarlyStoppingMonitor:\n",
    "    def __init__(self, window_size, max_iter_without_improvement):\n",
    "        self.window_size = window_size\n",
    "        self.max_iter_without_improvement = max_iter_without_improvement\n",
    "        self._best_step = -1\n",
    "\n",
    "    def __call__(self, iteration, estimator, args):\n",
    "        # continue training for first self.window_size iterations\n",
    "        if iteration < self.window_size:\n",
    "            return False\n",
    "\n",
    "        # compute average improvement in last self.window_size iterations.\n",
    "        # oob_improvement_ is the different in negative log partial likelihood\n",
    "        # between the previous and current iteration.\n",
    "        start = iteration - self.window_size + 1\n",
    "        end = iteration + 1\n",
    "        improvement = np.mean(estimator.oob_improvement_[start:end])\n",
    "\n",
    "        if improvement > 1e-6:\n",
    "            self._best_step = iteration\n",
    "            return False  # continue fitting\n",
    "\n",
    "        # stop fitting if there was no improvement\n",
    "        # in last max_iter_without_improvement iterations\n",
    "        diff = iteration - self._best_step\n",
    "        return diff >= self.max_iter_without_improvement\n",
    "\n",
    "\n",
    "est_early_stopping = GradientBoostingSurvivalAnalysis(\n",
    "    n_estimators=1000, learning_rate=0.2, subsample=0.5, max_depth=4, random_state=0, verbose=1\n",
    ")\n",
    "\n",
    "monitor = EarlyStoppingMonitor(25, 50)\n",
    "\n",
    "est_early_stopping.fit(X_train, y_train, monitor=monitor)\n",
    "\n",
    "print(\"Fitted base learners:\", est_early_stopping.n_estimators_)\n",
    "\n",
    "cindex = est_early_stopping.score(X_test, y_test)\n",
    "print(\"Performance on test set\", round(cindex, 3))"
   ]
  },
  {
   "cell_type": "code",
   "execution_count": 38,
   "metadata": {},
   "outputs": [
    {
     "data": {
      "image/png": "[encoded data removed]",
      "text/plain": [
       "<Figure size 640x480 with 1 Axes>"
      ]
     },
     "metadata": {},
     "output_type": "display_data"
    }
   ],
   "source": [
    "improvement = pd.Series(\n",
    "    est_early_stopping.oob_improvement_, index=np.arange(1, 1 + len(est_early_stopping.oob_improvement_))\n",
    ")\n",
    "ax = improvement.plot(xlabel=\"iteration\", ylabel=\"oob improvement\")\n",
    "ax.axhline(0.0, linestyle=\"--\", color=\"gray\")\n",
    "cutoff = len(improvement) - monitor.max_iter_without_improvement\n",
    "ax.axvline(cutoff, linestyle=\"--\", color=\"C3\")\n",
    "ax.title.set_text(\"GBSA training\")\n",
    "\n",
    "_ = improvement.rolling(monitor.window_size).mean().plot(ax=ax, linestyle=\":\")"
   ]
  },
  {
   "cell_type": "code",
   "execution_count": 34,
   "metadata": {},
   "outputs": [
    {
     "name": "stdout",
     "output_type": "stream",
     "text": [
      "Concordance Uno: (0.7204980185453689, 13744007, 5411367, 23, 3954)\n",
      "IBS: 0.13624879306320417\n",
      "Mean AUC: 0.739827065529256\n"
     ]
    },
    {
     "data": {
      "text/plain": [
       "((0.7204980185453689, 13744007, 5411367, 23, 3954),\n",
       " 0.13624879306320417,\n",
       " 0.739827065529256)"
      ]
     },
     "execution_count": 34,
     "metadata": {},
     "output_type": "execute_result"
    }
   ],
   "source": [
    "evaluate_model(est_early_stopping, X_test, y_test, y_train, times)"
   ]
  },
  {
   "cell_type": "code",
   "execution_count": 39,
   "metadata": {},
   "outputs": [],
   "source": [
    "from sklearn.inspection import permutation_importance\n",
    "\n",
    "result = permutation_importance(est_early_stopping, X_test, y_test, n_repeats=10, random_state=0, n_jobs=-1)\n"
   ]
  },
  {
   "cell_type": "code",
   "execution_count": 40,
   "metadata": {},
   "outputs": [
    {
     "name": "stdout",
     "output_type": "stream",
     "text": [
      "                    Importance\n",
      "AGE               1.180354e-01\n",
      "DIAB=3.0          2.151681e-02\n",
      "DIAB=5.0          1.239792e-02\n",
      "DIALYSIS_TIME     1.201799e-02\n",
      "DIAB=2.0          9.971276e-03\n",
      "ON_DIALYSIS=Y     5.404182e-03\n",
      "NPKID             2.279073e-03\n",
      "ETHCAT=5          1.751872e-03\n",
      "ETHCAT=4          1.127729e-03\n",
      "ETHCAT_DON=4.0    1.124795e-03\n",
      "HGT_CM_CALC       9.974839e-04\n",
      "BMI_DON_CALC      9.383570e-04\n",
      "AGE_DON           5.499834e-04\n",
      "ETHCAT=2          2.426496e-04\n",
      "ETHCAT_DON=2.0    1.899386e-04\n",
      "HBV_CORE=ND       1.572925e-04\n",
      "LIV_DON_TY=2.0    1.253354e-04\n",
      "ETHCAT=9          7.523989e-05\n",
      "ETHCAT=6          6.188595e-05\n",
      "LIV_DON_TY=999.0  5.417533e-05\n",
      "DIAB=4.0          5.011642e-05\n",
      "LIV_DON_TY=11.0   4.202210e-05\n",
      "LIV_DON_TY=8.0    2.497991e-05\n",
      "ETHCAT_DON=5.0    2.115070e-05\n",
      "ETHCAT_DON=9.0    1.422054e-05\n",
      "ETHCAT_DON=6.0    1.211408e-05\n",
      "ETHCAT=7          7.825471e-06\n",
      "LIV_DON_TY=9.0    7.804589e-06\n",
      "ETHCAT_DON=7.0    6.520356e-06\n",
      "LIV_DON_TY=5.0    2.792947e-06\n",
      "ABO_MAT=3.0       3.445504e-07\n",
      "LIV_DON_TY=12.0   0.000000e+00\n",
      "LIV_DON_TY=3.0   -8.352737e-08\n",
      "DIAB=998.0       -1.085856e-06\n",
      "LIV_DON_TY=4.0   -1.471387e-05\n",
      "LIV_DON_TY=7.0   -2.938075e-05\n",
      "LIV_DON_TY=6.0   -4.300094e-05\n",
      "ABO_MAT=2.0      -4.484637e-05\n",
      "LIV_DON_TY=10.0  -6.812701e-05\n",
      "HBV_CORE=P       -6.895446e-05\n"
     ]
    }
   ],
   "source": [
    "pd.set_option('display.max_rows', None)\n",
    "\n",
    "# columns = numeric_features + categorical_features\n",
    "\n",
    "importances_df = pd.DataFrame(result.importances_mean, index=X_train.columns)\n",
    "importances_df.columns = ['Importance']\n",
    "importances_df.sort_values(by='Importance', ascending=False, inplace=True)\n",
    "\n",
    "# Print out feature importances\n",
    "print(importances_df)"
   ]
  },
  {
   "cell_type": "code",
   "execution_count": 35,
   "metadata": {},
   "outputs": [],
   "source": [
    "import pickle\n",
    "\n",
    "# it is commented out to avoid saving the wrong model and overwriting the correct one\n",
    "# pickle_file = 'TrainedModels/GBSA_0.722_lr0.2_leaving_early_stopping.pkl'\n",
    "\n",
    "# with open(pickle_file, 'wb') as f:\n",
    "#     pickle.dump(est_early_stopping, f)\n"
   ]
  },
  {
   "cell_type": "markdown",
   "metadata": {},
   "source": [
    "# Trained model evaluation"
   ]
  },
  {
   "cell_type": "code",
   "execution_count": 11,
   "metadata": {},
   "outputs": [],
   "source": [
    "import pickle\n",
    "import pandas as pd\n",
    "import numpy as np\n",
    "\n",
    "lower, upper = np.percentile(y[\"Days\"], [10, 90])\n",
    "times = np.arange(lower, upper + 1)\n",
    "\n",
    "with open('TrainedModels/GBSA_0.722_lr0.2_leaving_early_stopping.pkl', 'rb') as file:\n",
    "    best_model = pickle.load(file)"
   ]
  },
  {
   "cell_type": "code",
   "execution_count": null,
   "metadata": {},
   "outputs": [],
   "source": [
    "import matplotlib.pyplot as plt\n",
    "from sksurv.metrics import brier_score\n",
    "\n",
    "surv_fn = best_model.predict_survival_function(X_test, return_array=False)\n",
    "\n",
    "surv_prob = np.row_stack([fn(times) for fn in surv_fn])\n",
    "\n",
    "bs = brier_score(y_train, y_test, surv_prob, times)\n",
    "\n",
    "# plt.figure(figsize=(10,6))\n",
    "# plt.plot(bs[0], bs[1], marker=\",\")\n",
    "# # plt.axhline(ibs, linestyle=\"--\")\n",
    "# # plt.text(5, 0, \"{model}\", fontsize=12)\n",
    "# plt.title(\"Time-dependent Brier Score for the Random Survival Forest\")\n",
    "# plt.xlabel(\"days\")\n",
    "# plt.ylabel(\"time-dependent Brier Score\")"
   ]
  },
  {
   "cell_type": "code",
   "execution_count": null,
   "metadata": {},
   "outputs": [],
   "source": [
    "import pickle\n",
    "\n",
    "with open('pickle/brier/BS_GBSA_LIVING_FINAL.pickle', 'wb') as f:\n",
    "    pickle.dump(bs, f)\n"
   ]
  },
  {
   "cell_type": "code",
   "execution_count": null,
   "metadata": {},
   "outputs": [],
   "source": [
    "lower, upper = np.percentile(y_train[\"Days\"], [10, 90])\n",
    "times = np.arange(lower, upper + 1)\n",
    "cph_risk_scores = best_model.predict(X_test)\n",
    "auc, mean_auc = cumulative_dynamic_auc(y_train, y_test, cph_risk_scores, times)"
   ]
  },
  {
   "cell_type": "code",
   "execution_count": null,
   "metadata": {},
   "outputs": [],
   "source": [
    "with open('pickle/AUC/AUC_GBSA_LIVING_FINAL.pickle', 'wb') as f:\n",
    "    pickle.dump((times, auc, mean_auc), f)"
   ]
  }
 ],
 "metadata": {
  "kernelspec": {
   "display_name": "kidney-life",
   "language": "python",
   "name": "python3"
  },
  "language_info": {
   "codemirror_mode": {
    "name": "ipython",
    "version": 3
   },
   "file_extension": ".py",
   "mimetype": "text/x-python",
   "name": "python",
   "nbconvert_exporter": "python",
   "pygments_lexer": "ipython3",
   "version": "3.11.5"
  }
 },
 "nbformat": 4,
 "nbformat_minor": 2
}
