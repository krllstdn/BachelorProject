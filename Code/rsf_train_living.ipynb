{
 "cells": [
  {
   "attachments": {},
   "cell_type": "markdown",
   "metadata": {},
   "source": [
    "- [ ] To add livig_donor_type\n",
    "    - add to nan handling\n",
    "    - make sure that it does not destroy the dataset\n",
    "    - make sure that it is in the dataset\n",
    "    - train the best rsf with the updated dataset and compare results\n"
   ]
  },
  {
   "cell_type": "code",
   "execution_count": 1,
   "metadata": {},
   "outputs": [
    {
     "name": "stdout",
     "output_type": "stream",
     "text": [
      "/mnt/lustre/helios-home/stadnkyr\n"
     ]
    }
   ],
   "source": [
    "import os\n",
    "os.chdir('/mnt/lustre/helios-home/stadnkyr')\n",
    "print(os.getcwd())\n",
    "\n",
    "import logging\n",
    "from typing import Tuple\n",
    "import pickle\n",
    "import datetime\n",
    "\n",
    "import pandas as pd\n",
    "import numpy as np\n",
    "from sksurv.column import encode_categorical\n",
    "from sksurv.column import standardize\n",
    "from sksurv.util import Surv\n",
    "\n",
    "# from columns import COLUMNS\n",
    "from surv_data_pipeline.columns import COLUMNS\n",
    "from sklearn.model_selection import train_test_split\n",
    "from sksurv.ensemble import RandomSurvivalForest\n",
    "\n",
    "\n",
    "logger = logging.getLogger(__name__)\n",
    "logger.setLevel(logging.DEBUG)\n",
    "console_handler = logging.StreamHandler()\n",
    "console_handler.setLevel(logging.DEBUG)\n",
    "formatter = logging.Formatter('%(asctime)s - %(message)s')\n",
    "console_handler.setFormatter(formatter)\n",
    "logger.addHandler(console_handler)\n",
    "\n",
    "\n",
    "class ScikitSurvivalDataLoader:\n",
    "    df = None\n",
    "    target = None\n",
    "\n",
    "    ''' ideas\n",
    "     - return already smaller dataset with df = df.sample(frac=1).reset_index(drop=True) (draws sample percentage of the dataset)\n",
    "     - return another variable - validation set (or do that in code itself)\n",
    "     - add self.validation_set - without filling nan values with median\n",
    "     - try to train only on newer transplantations - today the chances of survival are much higher than it was in 80s.\n",
    "     - try to add kidney compatibility indices\n",
    "     - make defining of the features only here and not to use columns.py\n",
    "    '''\n",
    "\n",
    "    yes_categorical=[\n",
    "                    \"PRE_TX_TXFUS\", \"AGE_GROUP\", \"DON_TY\",  \n",
    "                    \"GENDER\",\n",
    "                    \"ON_DIALYSIS\", \n",
    "                    # \"ABO_MAT\", \n",
    "                    # 'HBV_CORE', \n",
    "                    \"ETHCAT\", \n",
    "                    \"ETHCAT_DON\",\n",
    "                    'DIAB',\n",
    "                    'HCV_SEROSTATUS',  \n",
    "                    'LIV_DON_TY',\n",
    "\n",
    "                ]\n",
    "    yes_numerical = [\n",
    "                    \"SERUM_CREAT\",\n",
    "                    \"AGE\", \n",
    "                    \"AGE_DON\",\n",
    "                    \"TX_DATE\", \"DIALYSIS_DATE\", #'KDPI', 'KDRI_RAO'\n",
    "                    # \"KI_CREAT_PREOP\",\n",
    "                    # \"NPKID\", \n",
    "                    # \"HGT_CM_CALC\", \n",
    "                    # \"BMI_DON_CALC\",\n",
    "                    ]\n",
    "\n",
    "    def __init__(self, patient_survival: bool = True) -> None:\n",
    "        self.target = [\"PTIME\", \"PSTATUS\"] \n",
    "\n",
    "        self.yes_numerical.insert(0,self.target[1])\n",
    "        self.yes_numerical.insert(0,self.target[0])\n",
    "\n",
    "    def load(self, n_samples_to_load=None, fill_na_with_median:bool = True) -> Tuple[pd.DataFrame, any]:\n",
    "        self._load_pd_df()\n",
    "        self._apply_exclusion_criteria()\n",
    "\n",
    "        if n_samples_to_load is not None:\n",
    "            self.df = self.df.sample(n_samples_to_load, random_state=42)\n",
    "\n",
    "        # self._divide_train_test_validation()\n",
    "\n",
    "        self.df = self._handle_nan(fill_na_with_median)\n",
    "        # self.test = self._handle_nan(fill_na_with_median, self.test)\n",
    "        # self.validate = self._handle_nan(fill_na_with_median, self.validate)\n",
    "\n",
    "        return self._get_X_y()\n",
    "    \n",
    "    def get_test_X_y(self):\n",
    "        return self._get_X_y(self.test)\n",
    "\n",
    "    def get_validate_X_y(self):\n",
    "        return self._get_X_y(self.validate)\n",
    "    \n",
    "    def _divide_train_test_validation(self):\n",
    "        self.test = None\n",
    "        self.validate = None\n",
    "\n",
    "        logger.info(\"Dividing the dataset into train, test and validation sets...\")\n",
    "\n",
    "        self.df, self.test = train_test_split(self.df, test_size=0.2, \n",
    "                                                       random_state=42)\n",
    "        \n",
    "        # self.df, test_validation_df = train_test_split(self.df, test_size=0.3, \n",
    "        #                                                random_state=42, \n",
    "        #                                                stratify=self.df['PSTATUS'])\n",
    "\n",
    "        # self.test, self.validate = train_test_split(test_validation_df, \n",
    "        #                                             test_size=0.5, \n",
    "        #                                             random_state=42, \n",
    "        #                                             stratify=self.df['PSTATUS'])\n",
    "\n",
    "        logger.info(\"Done!\")\n",
    "\n",
    "    def _load_pd_df(self, columns = COLUMNS):\n",
    "        logger.info(\"Loading data into pandas DataFrame...\")\n",
    "        self.df = pd.read_parquet(\n",
    "            \"/mnt/lustre/helios-home/stadnkyr/Kidney_transplants.parquet\", \n",
    "            engine='auto', columns=list(set(columns+self.yes_categorical+self.yes_numerical)))\n",
    "\n",
    "        logger.info(f\"Done! Loaded df of shape {self.df.shape}\")\n",
    "\n",
    "    def _apply_exclusion_criteria(self):\n",
    "        '''\n",
    "        ideas: try to censor unrelated reasons\n",
    "        '''\n",
    "        UNRELATED_COD = {998,999, 2801,2803,8065,8064,8063,8062,8050,7237, 7226, \n",
    "                         7227, 6853,5808,3899, 3800}\n",
    "        \n",
    "        self.df = self.df[self.df['PSTATUS'].notnull()]\n",
    "        self.df = self.df[self.df['AGE_GROUP'] == \"A\"]\n",
    "        self.df = self.df[self.df['DON_TY'] != \"F\"]\n",
    "        self.df = self.df[self.df['DIABETES_DON'] != \"U\"]\n",
    "        self.df = self.df[self.df['PRE_TX_TXFUS'] != \"U\"]\n",
    "        # self.df = self.df[self.df['HBV_CORE'] != \"U\"]\n",
    "        # self.df = self.df[self.df['HBV_SUR_ANTIGEN'] != \"U\"]\n",
    "        self.df = self.df[self.df['HCV_SEROSTATUS'] != \"U\"]\n",
    "        # remove multiracial and unknowns\n",
    "        self.df = self.df[self.df['ETHCAT'] != \"998\"]\n",
    "        # self.df = self.df[self.df['LIV_DON_TY'] != \"998\"]\n",
    "        # self.df = self.df[self.df['ETHCAT'] != \"9\"]\n",
    "\n",
    "        self.df = self.df[self.df['DIAB'] != \"998\"]\n",
    "        self.df = self.df[self.df['DIAB'] != 998]\n",
    "\n",
    "        # remove death of unrelated  reasons\n",
    "        mask = ~self.df['COD_KI'].isin(UNRELATED_COD)\n",
    "        self.df = self.df[mask] \n",
    "\n",
    "        self.df = self.df[self.df['DON_TY'] == \"L\"] # living donor specification\n",
    "\n",
    "        self.df['DIALYSIS_TIME'] = self.df.apply(lambda row: \n",
    "                                                 self._get_difference_in_days(row['DIALYSIS_DATE'], row['TX_DATE']) \n",
    "                                                 if row['DIALYSIS_DATE'] is not None and row['TX_DATE'] \n",
    "                                                 is not None else 0, axis=1)\n",
    "\n",
    "        self.yes_numerical = [x for x in self.yes_numerical if x != 'DIALYSIS_DATE' and x != \"TX_DATE\"]\n",
    "        self.yes_numerical.append('DIALYSIS_TIME')\n",
    "\n",
    "        logger.info(f\"{self.df.shape}\")\n",
    "\n",
    "    def _handle_nan(self, fill_na_with_median:bool, dataset = None):\n",
    "        '''\n",
    "        evaluation set should not have values that were calculated\n",
    "        '''\n",
    "        if dataset is None:\n",
    "            dataset = self.df\n",
    "            fill_na_with_median=False\n",
    "        else:\n",
    "            fill_na_with_median=False\n",
    "\n",
    "        if fill_na_with_median:\n",
    "            logger.info(\"Handling nan values...\")\n",
    "        else:\n",
    "            logger.info(\"Dropping nan values...\")\n",
    "        \n",
    "        # print(dataset.shape)\n",
    "        self.yes_categorical = [item for item in self.yes_categorical if item !=\"COD_KI\"]\n",
    "        dataset.dropna(subset=list(set(self.yes_categorical+self.yes_numerical)), inplace=True)\n",
    "\n",
    "        dataset.dropna(subset=self.yes_numerical, inplace=True)\n",
    "        # print(dataset.shape)\n",
    "        logger.info(\"Done!\")\n",
    "        return dataset\n",
    "\n",
    "    def _get_X_y(self, dataset = None) -> Tuple[pd.DataFrame, any]:\n",
    "        if dataset is None:\n",
    "            dataset = self.df\n",
    "        logger.info(\"Dividing data into X and y...\")\n",
    "\n",
    "        with open('pickle/COX_DATA_FULL_LIVING.pkl', 'wb') as file:\n",
    "            pickle.dump(dataset, file)\n",
    "\n",
    "        categorical_x = encode_categorical(dataset[self.yes_categorical])\n",
    "        numerical_x = standardize(dataset[self.yes_numerical])\n",
    "\n",
    "        X = pd.concat([numerical_x, categorical_x], axis=1)\n",
    "        X.drop([self.target[0], self.target[1]], axis=1, inplace=True)\n",
    "\n",
    "        survival_time = dataset[self.target[0]].astype(np.float64)\n",
    "        event = dataset[self.target[1]].astype(float).astype(np.bool)\n",
    "\n",
    "        y = Surv.from_arrays(event, survival_time, \"Status\", \"Days\")\n",
    "\n",
    "        self.df = None\n",
    "\n",
    "        logger.info(\"Done!\")\n",
    "\n",
    "        return X, y\n",
    "    \n",
    "    def _calculate_egfr(self, creatinine, age, gender, race):\n",
    "        pass\n",
    "\n",
    "    def _get_difference_in_days(self, date1, date2):\n",
    "        date1_dict = eval(str(date1))\n",
    "        date2_dict = eval(str(date2))\n",
    "        \n",
    "        date1 = date1_dict['$date']\n",
    "        date2 = date2_dict['$date']\n",
    "\n",
    "        if isinstance(date1, str) and (date2, str):\n",
    "            date1_object = datetime.datetime.strptime(date1, \"%Y-%m-%dT%H:%M:%SZ\")\n",
    "            date2_object = datetime.datetime.strptime(date2, \"%Y-%m-%dT%H:%M:%SZ\")\n",
    "\n",
    "            difference = date2_object - date1_object\n",
    "            return difference.days\n",
    "        else:\n",
    "            return"
   ]
  },
  {
   "cell_type": "code",
   "execution_count": 2,
   "metadata": {},
   "outputs": [
    {
     "name": "stderr",
     "output_type": "stream",
     "text": [
      "2024-02-24 21:52:23,277 - Loading data into pandas DataFrame...\n",
      "2024-02-24 21:52:53,568 - Done! Loaded df of shape (993806, 57)\n",
      "2024-02-24 21:53:03,994 - (112949, 58)\n",
      "2024-02-24 21:53:03,996 - Dropping nan values...\n",
      "2024-02-24 21:53:04,296 - Done!\n",
      "2024-02-24 21:53:04,298 - Dividing data into X and y...\n",
      "dropped categorical variable 'AGE_GROUP', because it has only 1 values\n",
      "dropped categorical variable 'DON_TY', because it has only 1 values\n",
      "2024-02-24 21:53:04,600 - Done!\n"
     ]
    }
   ],
   "source": [
    "loader = ScikitSurvivalDataLoader()\n",
    "\n",
    "X, y = loader.load()"
   ]
  },
  {
   "cell_type": "code",
   "execution_count": 3,
   "metadata": {},
   "outputs": [
    {
     "data": {
      "text/plain": [
       "(61545, 39)"
      ]
     },
     "execution_count": 3,
     "metadata": {},
     "output_type": "execute_result"
    }
   ],
   "source": [
    "X.shape"
   ]
  },
  {
   "cell_type": "code",
   "execution_count": 4,
   "metadata": {},
   "outputs": [],
   "source": [
    "X_train, X_test, y_train, y_test = train_test_split(X, y, test_size=0.2, stratify=y[\"Status\"], random_state=42)"
   ]
  },
  {
   "cell_type": "markdown",
   "metadata": {},
   "source": [
    "# RSF fine-tuning"
   ]
  },
  {
   "cell_type": "code",
   "execution_count": 29,
   "metadata": {},
   "outputs": [
    {
     "data": {
      "application/vnd.jupyter.widget-view+json": {
       "model_id": "7515a9a4cb0d4f389f1f2ff19d22ba08",
       "version_major": 2,
       "version_minor": 0
      },
      "text/plain": [
       "Hyperparameter Tuning:   0%|          | 0/3 [00:00<?, ?it/s]"
      ]
     },
     "metadata": {},
     "output_type": "display_data"
    }
   ],
   "source": [
    "from tqdm.notebook import tqdm\n",
    "from sksurv.metrics import concordance_index_ipcw\n",
    "\n",
    "train_num = 1000\n",
    "test_num = 100\n",
    "\n",
    "n_estimators = [50,] # 1, 5, 10, 30, 50, 70]\n",
    "max_depth = [12] # 2,4, 6, 8, 10, 12, 14 # picked\n",
    "min_samples_split = [16] # 2, 4, 6, 8  10, 12, 14, 16, 18 # picked\n",
    "max_features = [ None]\n",
    "\n",
    "lower, upper = np.percentile(y[\"Days\"], [10, 90])\n",
    "times = np.arange(lower, upper + 1)\n",
    "\n",
    "rsf = RandomSurvivalForest(n_jobs=-1)\n",
    "\n",
    "best_rsf_model = None\n",
    "highest_cindex = 0\n",
    "best_params = None\n",
    "\n",
    "pbar = tqdm(total = len(n_estimators)*len(max_depth)*len(min_samples_split)*len(max_features), desc='Hyperparameter Tuning')\n",
    "\n",
    "for n_estimator in n_estimators:\n",
    "    for depth in max_depth:\n",
    "        for split in min_samples_split:\n",
    "            for feature in max_features:\n",
    "                rsf.set_params(n_estimators=n_estimator, max_depth=depth, min_samples_split=split, max_features=feature)\n",
    "                rsf.fit(X_train[train_num:], y_train[train_num:])\n",
    "                pred = rsf.predict(X_test[test_num:])\n",
    "                uno_concordance = concordance_index_ipcw(y_train[train_num:], y_test[test_num:], pred, tau=times[-1])\n",
    "                uno = float(uno_concordance[0])\n",
    "                if uno > highest_cindex:\n",
    "                    highest_cindex = uno\n",
    "                    best_params = (n_estimator, depth, split, feature)\n",
    "                    best_rsf_model = rsf\n",
    "                pbar.update(1)"
   ]
  },
  {
   "cell_type": "code",
   "execution_count": 30,
   "metadata": {},
   "outputs": [
    {
     "name": "stdout",
     "output_type": "stream",
     "text": [
      "Best params: (50, 12, 16, None)\n",
      "Best Uno: 0.7228909778597444\n"
     ]
    }
   ],
   "source": [
    "print(f\"Best params: {best_params}\")\n",
    "print(f\"Best Uno: {highest_cindex}\")"
   ]
  },
  {
   "cell_type": "markdown",
   "metadata": {},
   "source": [
    "Best params: (10, 6, 4, None)\n",
    "Best Uno: 0.7116080806020363 - 33min on 1000 records, 18 iterations\n",
    "\n",
    "Best params: (10, 10, 6, None)\n",
    "Best Uno: 0.7191111961388634\n",
    "\n",
    "Best params: (50, 10, 8, None)\n",
    "Best Uno: 0.7231445056145038\n",
    "\n",
    "Best params: (50, 12, 14, None)\n",
    "Best Uno: 0.7225197045158794 // 0.7730664440676259 on unseen data\n",
    "\n",
    "Best params: (50, 12, 16, None)\n",
    "Best Uno: 0.7228909778597444 // 0.723011869663161 on the whole test set\n",
    "the first observation - RSF is able to learn to generalize pretty well on small amount of data (1000 samples)"
   ]
  },
  {
   "cell_type": "code",
   "execution_count": 31,
   "metadata": {},
   "outputs": [
    {
     "data": {
      "text/plain": [
       "0.723011869663161"
      ]
     },
     "execution_count": 31,
     "metadata": {},
     "output_type": "execute_result"
    }
   ],
   "source": [
    "pred = rsf.predict(X_test)\n",
    "uno_concordance = concordance_index_ipcw(y_train[train_num:], y_test, pred, tau=times[-1])\n",
    "uno = float(uno_concordance[0])\n",
    "uno"
   ]
  },
  {
   "cell_type": "markdown",
   "metadata": {},
   "source": [
    "## RSF train"
   ]
  },
  {
   "cell_type": "code",
   "execution_count": 32,
   "metadata": {},
   "outputs": [
    {
     "data": {
      "text/plain": [
       "RandomSurvivalForest(max_depth=12, max_features=None, min_samples_split=16,\n",
       "                     n_estimators=50)"
      ]
     },
     "execution_count": 32,
     "metadata": {},
     "output_type": "execute_result"
    }
   ],
   "source": [
    "best_rsf = RandomSurvivalForest(n_estimators=50, max_depth=12, min_samples_split=16, max_features=None)\n",
    "best_rsf.fit(X_train, y_train)"
   ]
  },
  {
   "cell_type": "code",
   "execution_count": 33,
   "metadata": {},
   "outputs": [
    {
     "data": {
      "text/plain": [
       "0.7228369196476826"
      ]
     },
     "execution_count": 33,
     "metadata": {},
     "output_type": "execute_result"
    }
   ],
   "source": [
    "pred = best_rsf.predict(X_test)\n",
    "uno_concordance = concordance_index_ipcw(y_train, y_test, pred, tau=times[-1])\n",
    "uno = float(uno_concordance[0])\n",
    "uno"
   ]
  },
  {
   "cell_type": "code",
   "execution_count": 37,
   "metadata": {},
   "outputs": [
    {
     "name": "stdout",
     "output_type": "stream",
     "text": [
      "Integrated Brier Score: 0.1390655175499429\n"
     ]
    }
   ],
   "source": [
    "from sksurv.metrics import brier_score, integrated_brier_score\n",
    "\n",
    "# surv_fn = best_rsf.predict_survival_function(X_test, return_array=False)\n",
    "surv_fn = rsf.predict_survival_function(X_test, return_array=False)\n",
    "\n",
    "surv_prob = np.row_stack([fn(times) for fn in surv_fn])\n",
    "\n",
    "bs = brier_score(y_train, y_test, surv_prob, times)\n",
    "ibs = integrated_brier_score(y_train, y_test, surv_prob, times)#times)\n",
    "print('Integrated Brier Score:', ibs)\n",
    "\n",
    "# full model: Integrated Brier Score: 0.13900993221935395\n",
    "# 1000 instances: Integrated Brier Score: 0.1390655175499429"
   ]
  },
  {
   "cell_type": "markdown",
   "metadata": {},
   "source": [
    "### RSF on small amount of samples"
   ]
  },
  {
   "cell_type": "code",
   "execution_count": 5,
   "metadata": {},
   "outputs": [
    {
     "data": {
      "text/plain": [
       "RandomSurvivalForest(max_depth=12, max_features=None, min_samples_split=16,\n",
       "                     n_estimators=80)"
      ]
     },
     "execution_count": 5,
     "metadata": {},
     "output_type": "execute_result"
    }
   ],
   "source": [
    "rsf100 = RandomSurvivalForest(n_estimators=80, max_depth=12, min_samples_split=16, max_features=None)\n",
    "rsf100.fit(X_train[1500:], y_train[1500:])"
   ]
  },
  {
   "cell_type": "code",
   "execution_count": 9,
   "metadata": {},
   "outputs": [
    {
     "name": "stdout",
     "output_type": "stream",
     "text": [
      "Uno Concordance:  0.7228517146540674\n",
      "Integrated Brier Score: 0.13903697824746727\n"
     ]
    }
   ],
   "source": [
    "from sksurv.metrics import (\n",
    "    concordance_index_ipcw,\n",
    "    integrated_brier_score,\n",
    "    brier_score\n",
    ")\n",
    "\n",
    "lower, upper = np.percentile(y[\"Days\"], [10, 90])\n",
    "times = np.arange(lower, upper + 1)\n",
    "\n",
    "pred = rsf100.predict(X_test)\n",
    "uno_concordance = concordance_index_ipcw(y_train, y_test, pred, tau=times[-1])\n",
    "uno = float(uno_concordance[0])\n",
    "print(\"Uno Concordance: \", uno)\n",
    "\n",
    "surv_fn = rsf100.predict_survival_function(X_test, return_array=False)\n",
    "surv_prob = np.row_stack([fn(times) for fn in surv_fn])\n",
    "\n",
    "bs = brier_score(y_train, y_test, surv_prob, times)\n",
    "ibs = integrated_brier_score(y_train, y_test, surv_prob, times)#times)\n",
    "print('Integrated Brier Score:', ibs)"
   ]
  },
  {
   "cell_type": "markdown",
   "metadata": {},
   "source": [
    "Upping estimators does not make sense. No change for too much time.\n",
    "Small training set "
   ]
  },
  {
   "cell_type": "code",
   "execution_count": 35,
   "metadata": {},
   "outputs": [],
   "source": [
    "# import pickle\n",
    "\n",
    "# with open('pickle/models/RSF_LIVING_FINAL.pkl', 'wb') as file:\n",
    "#             pickle.dump(best_rsf, file)"
   ]
  },
  {
   "cell_type": "markdown",
   "metadata": {},
   "source": [
    "# COXNET"
   ]
  },
  {
   "cell_type": "code",
   "execution_count": null,
   "metadata": {},
   "outputs": [
    {
     "name": "stderr",
     "output_type": "stream",
     "text": [
      "/mnt/lustre/helios-home/stadnkyr/jupyter_virtual_env/lib64/python3.6/site-packages/ipykernel_launcher.py:4: ConvergenceWarning: Optimization terminated early, you might want to increase the number of iterations (max_iter=100).\n",
      "  after removing the cwd from sys.path.\n"
     ]
    }
   ],
   "source": [
    "from sksurv.linear_model import CoxnetSurvivalAnalysis\n",
    "\n",
    "cox = CoxnetSurvivalAnalysis(l1_ratio=0.9, alpha_min_ratio=0.01, max_iter=100)\n",
    "cox.fit(X_train, y_train)\n",
    "\n",
    "estimated_alphas = cox.alphas_\n",
    "l1_ratios = [0.0001]"
   ]
  },
  {
   "cell_type": "code",
   "execution_count": null,
   "metadata": {},
   "outputs": [
    {
     "data": {
      "application/vnd.jupyter.widget-view+json": {
       "model_id": "1bea3b11ecbc42368ec3ac9aa09910f0",
       "version_major": 2,
       "version_minor": 0
      },
      "text/plain": [
       "Hyperparameter Tuning:   0%|          | 0/62 [00:00<?, ?it/s]"
      ]
     },
     "metadata": {},
     "output_type": "display_data"
    }
   ],
   "source": [
    "from tqdm.notebook import tqdm\n",
    "from surv_data_pipeline.estimator_evaluation import SurvivalEstimatorEvaluation\n",
    "\n",
    "best_params = None\n",
    "highest_cindex=0\n",
    "\n",
    "lower, upper = np.percentile(y[\"Days\"], [10, 90])\n",
    "times = np.arange(lower, upper + 1)\n",
    "\n",
    "cox_grid=CoxnetSurvivalAnalysis()\n",
    "\n",
    "pbar = tqdm(total = len(estimated_alphas)*len(l1_ratios), desc='Hyperparameter Tuning')\n",
    "\n",
    "for ratio in l1_ratios:\n",
    "    for alpha in estimated_alphas:\n",
    "        cox_grid.set_params(l1_ratio=ratio, alphas=[alpha])\n",
    "\n",
    "        cox_grid.fit(X_train, y_train)\n",
    "        uno_score = SurvivalEstimatorEvaluation.evaluate_model_uno_c(cox_grid, X_test, y_test, y_train, times)\n",
    "\n",
    "        uno = float(uno_score[0])\n",
    "        if uno > highest_cindex:\n",
    "            highest_cindex = uno\n",
    "            best_params = (ratio, alpha)\n",
    "            best_rsf_model = cox_grid\n",
    "\n",
    "        # Update the progress bar\n",
    "        pbar.update()"
   ]
  },
  {
   "cell_type": "code",
   "execution_count": null,
   "metadata": {},
   "outputs": [
    {
     "data": {
      "text/plain": [
       "0.7027093682996722"
      ]
     },
     "execution_count": 13,
     "metadata": {},
     "output_type": "execute_result"
    }
   ],
   "source": [
    "highest_cindex"
   ]
  },
  {
   "cell_type": "code",
   "execution_count": null,
   "metadata": {},
   "outputs": [
    {
     "data": {
      "text/plain": [
       "(0.0001, 0.16961976023444314)"
      ]
     },
     "execution_count": 14,
     "metadata": {},
     "output_type": "execute_result"
    }
   ],
   "source": [
    "best_params"
   ]
  },
  {
   "cell_type": "code",
   "execution_count": null,
   "metadata": {},
   "outputs": [
    {
     "data": {
      "text/plain": [
       "CoxnetSurvivalAnalysis(alphas=[0.12078532560892971], fit_baseline_model=True,\n",
       "                       l1_ratio=0.001)"
      ]
     },
     "execution_count": 15,
     "metadata": {},
     "output_type": "execute_result"
    }
   ],
   "source": [
    "fixed_best_params = (0.001, 0.12078532560892971)\n",
    "coxnet_pred = CoxnetSurvivalAnalysis(l1_ratio=fixed_best_params[0],alphas=[fixed_best_params[1]], fit_baseline_model=True)\n",
    "# coxnet_pred = CoxnetSurvivalAnalysis(l1_ratio=best_params[0],alphas=[best_params[1]], fit_baseline_model=True)\n",
    "coxnet_pred.fit(X_train, y_train)"
   ]
  },
  {
   "cell_type": "code",
   "execution_count": null,
   "metadata": {},
   "outputs": [
    {
     "data": {
      "text/plain": [
       "(0.7051079287152411, 13464745, 5690651, 1, 3954)"
      ]
     },
     "execution_count": 16,
     "metadata": {},
     "output_type": "execute_result"
    }
   ],
   "source": [
    "from surv_data_pipeline.estimator_evaluation import SurvivalEstimatorEvaluation\n",
    "\n",
    "lower, upper = np.percentile(y[\"Days\"], [10, 90])\n",
    "times = np.arange(lower, upper + 1)\n",
    "\n",
    "SurvivalEstimatorEvaluation.evaluate_model_uno_c(coxnet_pred, X_test, y_test, y_train, times)"
   ]
  },
  {
   "cell_type": "markdown",
   "metadata": {},
   "source": [
    "0.712\n"
   ]
  },
  {
   "cell_type": "code",
   "execution_count": null,
   "metadata": {},
   "outputs": [],
   "source": [
    "from sklearn.inspection import permutation_importance\n",
    "\n",
    "result = permutation_importance(coxnet_pred, X_test[:5000], y_test[:5000], n_repeats=5, random_state=0, n_jobs=1)"
   ]
  },
  {
   "cell_type": "code",
   "execution_count": null,
   "metadata": {},
   "outputs": [],
   "source": [
    "pd.set_option('display.max_rows', 500)\n",
    "\n",
    "importances_df = pd.DataFrame(result.importances_mean, index=X.columns)\n",
    "importances_df.columns = ['Importance']\n",
    "importances_df.sort_values(by='Importance', ascending=False, inplace=True)\n",
    "\n",
    "# Print out feature importances\n",
    "importances_df"
   ]
  },
  {
   "cell_type": "code",
   "execution_count": null,
   "metadata": {},
   "outputs": [],
   "source": [
    "pd.set_option('display.max_rows', 500)\n",
    "SurvivalEstimatorEvaluation.print_feature_importances(coxnet_pred, X_test, y_test)\n",
    "# SurvivalEstimatorEvaluation.print_feature_importances(coxnet_pred, X_test[1000:], y_test[1000:])"
   ]
  },
  {
   "cell_type": "code",
   "execution_count": null,
   "metadata": {},
   "outputs": [
    {
     "ename": "NameError",
     "evalue": "name 'adfs' is not defined",
     "output_type": "error",
     "traceback": [
      "\u001b[0;31m---------------------------------------------------------------------------\u001b[0m",
      "\u001b[0;31mNameError\u001b[0m                                 Traceback (most recent call last)",
      "\u001b[0;32m<ipython-input-36-3534c63fdf67>\u001b[0m in \u001b[0;36m<module>\u001b[0;34m\u001b[0m\n\u001b[0;32m----> 1\u001b[0;31m \u001b[0madfs\u001b[0m\u001b[0;34m\u001b[0m\u001b[0;34m\u001b[0m\u001b[0m\n\u001b[0m",
      "\u001b[0;31mNameError\u001b[0m: name 'adfs' is not defined"
     ]
    }
   ],
   "source": [
    "adfs"
   ]
  },
  {
   "cell_type": "markdown",
   "metadata": {},
   "source": [
    "## Summer work"
   ]
  },
  {
   "cell_type": "code",
   "execution_count": null,
   "metadata": {},
   "outputs": [],
   "source": [
    "from sklearn.model_selection import train_test_split\n",
    "from surv_data_pipeline.estimator_evaluation import SurvivalEstimatorEvaluation\n",
    "\n",
    "from sksurv.metrics import (\n",
    "    concordance_index_censored,\n",
    "    concordance_index_ipcw,\n",
    "    cumulative_dynamic_auc,\n",
    "    integrated_brier_score,\n",
    "    brier_score\n",
    ")\n",
    "import matplotlib.pyplot as plt\n",
    "\n",
    "\n",
    "def train_model(model, x, y):\n",
    "    lower, upper = np.percentile(y[\"Days\"], [10, 90])\n",
    "    times = np.arange(lower, upper + 1)\n",
    "\n",
    "    X_train, X_test, y_train, y_test = train_test_split(x, y, test_size=.2, random_state=42)\n",
    "\n",
    "    model.fit(X_train, y_train, fit_baseline_model=True)\n",
    "    # model.fit(X_train, y_train)\n",
    "\n",
    "    # score = model.score(X_test, y_test)\n",
    "    # print(\"Model's score: \", round(score, 3))\n",
    "\n",
    "    # uno_score = SurvivalEstimatorEvaluation.evaluate_model_uno_c(model, X_test, y_test, y_train, times)\n",
    "    # print(\"Uno's score: \", round(uno_score[0], 3))\n",
    "    # auc_score, mean_auc = SurvivalEstimatorEvaluation.evaluate_model_auc(model, X_test.iloc[:5000], y_test[:5000], y, times)\n",
    "    # print(\"Mean AUC: \", round(mean_auc, 3))\n",
    "\n",
    "    lower, upper = np.percentile(y[\"Days\"], [10, 90])\n",
    "    times = np.arange(lower, upper + 1)\n",
    "\n",
    "    surv = model.predict_survival_function(X_test)#, return_array=False)\n",
    "    surv_prob = np.row_stack([fn(times) for fn in surv])\n",
    "\n",
    "    ibs = integrated_brier_score(y_train, y_test, surv_prob, times)#best_rsf.event_times_)\n",
    "    # print('Integrated Brier Score:', round(ibs,3))\n",
    "    # print('Integrated Brier Score:', ibs)\n",
    "\n",
    "    return model, ibs#, ibs"
   ]
  },
  {
   "cell_type": "code",
   "execution_count": null,
   "metadata": {},
   "outputs": [],
   "source": [
    "def plot_time_dependent_auc(model, x_test, y_test, y_train, name=None):\n",
    "    lower, upper = np.percentile(y_train[\"Days\"], [10, 90])\n",
    "    times = np.arange(lower, upper + 1)\n",
    "    print(\"predicting....\")\n",
    "    cph_risk_scores = model.predict(x_test)\n",
    "    print(\"calculating auc...\")\n",
    "    auc, mean_auc = cumulative_dynamic_auc(y_train, y_test, cph_risk_scores, times)\n",
    "    print(\"plotting inside...\")\n",
    "    plt.plot(times, auc, marker=\"o\")\n",
    "    plt.axhline(mean_auc, linestyle=\"--\")\n",
    "    # plt.text(5, 0, \"{model}\", fontsize=12)\n",
    "    plt.xlabel(\"days\")\n",
    "    plt.ylabel(\"time-dependent AUC\")\n",
    "    plt.grid(True)\n",
    "    if name is not None:\n",
    "        plt.savefig(f\"/mnt/lustre/helios-home/stadnkyr/AUC_results/{name}_MAUC_{mean_auc}.png\")\n",
    "    plt.show()"
   ]
  },
  {
   "cell_type": "code",
   "execution_count": null,
   "metadata": {},
   "outputs": [],
   "source": [
    "from sklearn.model_selection import train_test_split\n",
    "\n",
    "from sksurv.metrics import (\n",
    "    concordance_index_censored,\n",
    "    concordance_index_ipcw,\n",
    "    cumulative_dynamic_auc,\n",
    "    integrated_brier_score,\n",
    ")\n",
    "import matplotlib.pyplot as plt\n"
   ]
  },
  {
   "cell_type": "code",
   "execution_count": null,
   "metadata": {},
   "outputs": [
    {
     "name": "stderr",
     "output_type": "stream",
     "text": [
      "2023-12-05 12:26:55,935 - Loading data into pandas DataFrame...\n",
      "2023-12-05 12:27:17,388 - Done! Loaded df of shape (993806, 53)\n",
      "2023-12-05 12:27:20,046 - (429588, 53)\n",
      "2023-12-05 12:27:20,048 - Dividing the dataset into train, test and validation sets...\n",
      "2023-12-05 12:27:20,961 - Done!\n",
      "2023-12-05 12:27:20,962 - Dropping nan values...\n",
      "2023-12-05 12:27:21,509 - Done!\n",
      "2023-12-05 12:27:21,510 - Dropping nan values...\n",
      "2023-12-05 12:27:21,627 - Done!\n",
      "2023-12-05 12:27:21,628 - Dropping nan values...\n",
      "2023-12-05 12:27:21,777 - Done!\n",
      "2023-12-05 12:27:21,779 - Dividing data into X and y...\n",
      "dropped categorical variable 'DON_TY', because it has only 1 values\n",
      "dropped categorical variable 'AGE_GROUP', because it has only 1 values\n",
      "2023-12-05 12:27:21,910 - Done!\n"
     ]
    }
   ],
   "source": [
    "loader = ScikitSurvivalDataLoader()\n",
    "\n",
    "X, y = loader.load()"
   ]
  },
  {
   "cell_type": "code",
   "execution_count": null,
   "metadata": {},
   "outputs": [
    {
     "data": {
      "text/plain": [
       "(34951, 82)"
      ]
     },
     "execution_count": 6,
     "metadata": {},
     "output_type": "execute_result"
    }
   ],
   "source": [
    "X.shape"
   ]
  },
  {
   "cell_type": "code",
   "execution_count": null,
   "metadata": {},
   "outputs": [],
   "source": [
    "# stratify = y[\"event\"].astype(int)\n",
    "X_train, X_test, y_train, y_test = train_test_split(X, y, test_size=0.2, stratify=y[\"Status\"], random_state=42)"
   ]
  },
  {
   "cell_type": "code",
   "execution_count": null,
   "metadata": {},
   "outputs": [
    {
     "name": "stderr",
     "output_type": "stream",
     "text": [
      "/mnt/lustre/helios-home/stadnkyr/jupyter_virtual_env/lib64/python3.6/site-packages/ipykernel_launcher.py:4: ConvergenceWarning: Optimization terminated early, you might want to increase the number of iterations (max_iter=100).\n",
      "  after removing the cwd from sys.path.\n"
     ]
    }
   ],
   "source": [
    "from sksurv.linear_model import CoxnetSurvivalAnalysis\n",
    "\n",
    "cox = CoxnetSurvivalAnalysis(l1_ratio=0.9, alpha_min_ratio=0.01, max_iter=100)\n",
    "cox.fit(X_train, y_train)\n",
    "\n",
    "estimated_alphas = cox.alphas_\n",
    "l1_ratios = np.arange(0.1, 1.1, 0.1)"
   ]
  },
  {
   "cell_type": "code",
   "execution_count": null,
   "metadata": {},
   "outputs": [
    {
     "name": "stderr",
     "output_type": "stream",
     "text": [
      "Hyperparameter Tuning:  80%|████████  | 696/870 [06:36<01:41,  1.72it/s]/mnt/lustre/helios-home/stadnkyr/jupyter_virtual_env/lib64/python3.6/site-packages/ipykernel_launcher.py:18: UserWarning: all coefficients are zero, consider decreasing alpha.\n",
      "Hyperparameter Tuning:  90%|█████████ | 783/870 [07:24<00:49,  1.75it/s]/mnt/lustre/helios-home/stadnkyr/jupyter_virtual_env/lib64/python3.6/site-packages/ipykernel_launcher.py:18: UserWarning: all coefficients are zero, consider decreasing alpha.\n",
      "Hyperparameter Tuning:  90%|█████████ | 784/870 [07:25<00:48,  1.79it/s]/mnt/lustre/helios-home/stadnkyr/jupyter_virtual_env/lib64/python3.6/site-packages/ipykernel_launcher.py:18: UserWarning: all coefficients are zero, consider decreasing alpha.\n",
      "Hyperparameter Tuning:  90%|█████████ | 785/870 [07:26<00:46,  1.82it/s]/mnt/lustre/helios-home/stadnkyr/jupyter_virtual_env/lib64/python3.6/site-packages/ipykernel_launcher.py:18: UserWarning: all coefficients are zero, consider decreasing alpha.\n",
      "Hyperparameter Tuning: 100%|██████████| 870/870 [08:12<00:00,  1.76it/s]"
     ]
    }
   ],
   "source": [
    "from tqdm import tqdm\n",
    "from surv_data_pipeline.estimator_evaluation import SurvivalEstimatorEvaluation\n",
    "\n",
    "best_params = None\n",
    "highest_cindex=0\n",
    "\n",
    "lower, upper = np.percentile(y[\"Days\"], [10, 90])\n",
    "times = np.arange(lower, upper + 1)\n",
    "\n",
    "cox_grid=CoxnetSurvivalAnalysis()\n",
    "\n",
    "pbar = tqdm(total = len(estimated_alphas)*len(l1_ratios), desc='Hyperparameter Tuning')\n",
    "\n",
    "for ratio in l1_ratios:\n",
    "    for alpha in estimated_alphas:\n",
    "        cox_grid.set_params(l1_ratio=ratio, alphas=[alpha])\n",
    "\n",
    "        cox_grid.fit(X_train, y_train)\n",
    "        uno_score = SurvivalEstimatorEvaluation.evaluate_model_uno_c(cox_grid, X_test, y_test, y_train, times)\n",
    "\n",
    "        uno = float(uno_score[0])\n",
    "        if uno > highest_cindex:\n",
    "            highest_cindex = uno\n",
    "            best_params = (ratio, alpha)\n",
    "            best_rsf_model = cox_grid\n",
    "\n",
    "        # Update the progress bar\n",
    "        pbar.update()"
   ]
  },
  {
   "cell_type": "code",
   "execution_count": null,
   "metadata": {},
   "outputs": [
    {
     "data": {
      "text/plain": [
       "0.7077330240691684"
      ]
     },
     "execution_count": 10,
     "metadata": {},
     "output_type": "execute_result"
    }
   ],
   "source": [
    "highest_cindex"
   ]
  },
  {
   "cell_type": "code",
   "execution_count": null,
   "metadata": {},
   "outputs": [
    {
     "data": {
      "text/plain": [
       "(0.1, 0.04825889367871719)"
      ]
     },
     "execution_count": 14,
     "metadata": {},
     "output_type": "execute_result"
    }
   ],
   "source": [
    "best_params"
   ]
  },
  {
   "cell_type": "code",
   "execution_count": null,
   "metadata": {},
   "outputs": [
    {
     "data": {
      "text/plain": [
       "CoxnetSurvivalAnalysis(alphas=[0.04825889367871719], fit_baseline_model=True,\n",
       "                       l1_ratio=0.1)"
      ]
     },
     "execution_count": 11,
     "metadata": {},
     "output_type": "execute_result"
    }
   ],
   "source": [
    "coxnet_pred = CoxnetSurvivalAnalysis(l1_ratio=best_params[0],alphas=[best_params[1]], fit_baseline_model=True)\n",
    "coxnet_pred.fit(X_train, y_train)"
   ]
  },
  {
   "cell_type": "code",
   "execution_count": null,
   "metadata": {},
   "outputs": [
    {
     "data": {
      "text/plain": [
       "(0.7077330240691684, 5426784, 2278170, 0, 1730)"
      ]
     },
     "execution_count": 12,
     "metadata": {},
     "output_type": "execute_result"
    }
   ],
   "source": [
    "SurvivalEstimatorEvaluation.evaluate_model_uno_c(coxnet_pred, X_test, y_test, y_train, times)"
   ]
  },
  {
   "cell_type": "code",
   "execution_count": null,
   "metadata": {},
   "outputs": [],
   "source": [
    "import pickle\n",
    "\n",
    "with open('pickle/COXNET_LIVING_MODEL.pickle', 'wb') as f:\n",
    "    pickle.dump(coxnet_pred, f)"
   ]
  },
  {
   "cell_type": "code",
   "execution_count": null,
   "metadata": {},
   "outputs": [
    {
     "name": "stderr",
     "output_type": "stream",
     "text": [
      "[Parallel(n_jobs=-1)]: Using backend ThreadingBackend with 16 concurrent workers.\n"
     ]
    },
    {
     "ename": "KeyboardInterrupt",
     "evalue": "",
     "output_type": "error",
     "traceback": [
      "\u001b[0;31m---------------------------------------------------------------------------\u001b[0m",
      "\u001b[0;31mKeyboardInterrupt\u001b[0m                         Traceback (most recent call last)",
      "\u001b[0;32m<ipython-input-13-58bcbef45f15>\u001b[0m in \u001b[0;36m<module>\u001b[0;34m\u001b[0m\n\u001b[1;32m      6\u001b[0m                                \u001b[0mverbose\u001b[0m\u001b[0;34m=\u001b[0m\u001b[0;36m1\u001b[0m\u001b[0;34m\u001b[0m\u001b[0;34m\u001b[0m\u001b[0m\n\u001b[1;32m      7\u001b[0m                               )\n\u001b[0;32m----> 8\u001b[0;31m \u001b[0mbest_rsf\u001b[0m\u001b[0;34m.\u001b[0m\u001b[0mfit\u001b[0m\u001b[0;34m(\u001b[0m\u001b[0mX_train\u001b[0m\u001b[0;34m,\u001b[0m \u001b[0my_train\u001b[0m\u001b[0;34m)\u001b[0m\u001b[0;34m\u001b[0m\u001b[0;34m\u001b[0m\u001b[0m\n\u001b[0m",
      "\u001b[0;32m~/jupyter_virtual_env/lib64/python3.6/site-packages/sksurv/ensemble/forest.py\u001b[0m in \u001b[0;36mfit\u001b[0;34m(self, X, y, sample_weight)\u001b[0m\n\u001b[1;32m    297\u001b[0m                     \u001b[0mverbose\u001b[0m\u001b[0;34m=\u001b[0m\u001b[0mself\u001b[0m\u001b[0;34m.\u001b[0m\u001b[0mverbose\u001b[0m\u001b[0;34m,\u001b[0m\u001b[0;34m\u001b[0m\u001b[0;34m\u001b[0m\u001b[0m\n\u001b[1;32m    298\u001b[0m                     n_samples_bootstrap=n_samples_bootstrap)\n\u001b[0;32m--> 299\u001b[0;31m                 for i, t in enumerate(trees))\n\u001b[0m\u001b[1;32m    300\u001b[0m \u001b[0;34m\u001b[0m\u001b[0m\n\u001b[1;32m    301\u001b[0m             \u001b[0;31m# Collect newly grown trees\u001b[0m\u001b[0;34m\u001b[0m\u001b[0;34m\u001b[0m\u001b[0;34m\u001b[0m\u001b[0m\n",
      "\u001b[0;32m~/jupyter_virtual_env/lib64/python3.6/site-packages/joblib/parallel.py\u001b[0m in \u001b[0;36m__call__\u001b[0;34m(self, iterable)\u001b[0m\n\u001b[1;32m   1052\u001b[0m \u001b[0;34m\u001b[0m\u001b[0m\n\u001b[1;32m   1053\u001b[0m             \u001b[0;32mwith\u001b[0m \u001b[0mself\u001b[0m\u001b[0;34m.\u001b[0m\u001b[0m_backend\u001b[0m\u001b[0;34m.\u001b[0m\u001b[0mretrieval_context\u001b[0m\u001b[0;34m(\u001b[0m\u001b[0;34m)\u001b[0m\u001b[0;34m:\u001b[0m\u001b[0;34m\u001b[0m\u001b[0;34m\u001b[0m\u001b[0m\n\u001b[0;32m-> 1054\u001b[0;31m                 \u001b[0mself\u001b[0m\u001b[0;34m.\u001b[0m\u001b[0mretrieve\u001b[0m\u001b[0;34m(\u001b[0m\u001b[0;34m)\u001b[0m\u001b[0;34m\u001b[0m\u001b[0;34m\u001b[0m\u001b[0m\n\u001b[0m\u001b[1;32m   1055\u001b[0m             \u001b[0;31m# Make sure that we get a last message telling us we are done\u001b[0m\u001b[0;34m\u001b[0m\u001b[0;34m\u001b[0m\u001b[0;34m\u001b[0m\u001b[0m\n\u001b[1;32m   1056\u001b[0m             \u001b[0melapsed_time\u001b[0m \u001b[0;34m=\u001b[0m \u001b[0mtime\u001b[0m\u001b[0;34m.\u001b[0m\u001b[0mtime\u001b[0m\u001b[0;34m(\u001b[0m\u001b[0;34m)\u001b[0m \u001b[0;34m-\u001b[0m \u001b[0mself\u001b[0m\u001b[0;34m.\u001b[0m\u001b[0m_start_time\u001b[0m\u001b[0;34m\u001b[0m\u001b[0;34m\u001b[0m\u001b[0m\n",
      "\u001b[0;32m~/jupyter_virtual_env/lib64/python3.6/site-packages/joblib/parallel.py\u001b[0m in \u001b[0;36mretrieve\u001b[0;34m(self)\u001b[0m\n\u001b[1;32m    931\u001b[0m             \u001b[0;32mtry\u001b[0m\u001b[0;34m:\u001b[0m\u001b[0;34m\u001b[0m\u001b[0;34m\u001b[0m\u001b[0m\n\u001b[1;32m    932\u001b[0m                 \u001b[0;32mif\u001b[0m \u001b[0mgetattr\u001b[0m\u001b[0;34m(\u001b[0m\u001b[0mself\u001b[0m\u001b[0;34m.\u001b[0m\u001b[0m_backend\u001b[0m\u001b[0;34m,\u001b[0m \u001b[0;34m'supports_timeout'\u001b[0m\u001b[0;34m,\u001b[0m \u001b[0;32mFalse\u001b[0m\u001b[0;34m)\u001b[0m\u001b[0;34m:\u001b[0m\u001b[0;34m\u001b[0m\u001b[0;34m\u001b[0m\u001b[0m\n\u001b[0;32m--> 933\u001b[0;31m                     \u001b[0mself\u001b[0m\u001b[0;34m.\u001b[0m\u001b[0m_output\u001b[0m\u001b[0;34m.\u001b[0m\u001b[0mextend\u001b[0m\u001b[0;34m(\u001b[0m\u001b[0mjob\u001b[0m\u001b[0;34m.\u001b[0m\u001b[0mget\u001b[0m\u001b[0;34m(\u001b[0m\u001b[0mtimeout\u001b[0m\u001b[0;34m=\u001b[0m\u001b[0mself\u001b[0m\u001b[0;34m.\u001b[0m\u001b[0mtimeout\u001b[0m\u001b[0;34m)\u001b[0m\u001b[0;34m)\u001b[0m\u001b[0;34m\u001b[0m\u001b[0;34m\u001b[0m\u001b[0m\n\u001b[0m\u001b[1;32m    934\u001b[0m                 \u001b[0;32melse\u001b[0m\u001b[0;34m:\u001b[0m\u001b[0;34m\u001b[0m\u001b[0;34m\u001b[0m\u001b[0m\n\u001b[1;32m    935\u001b[0m                     \u001b[0mself\u001b[0m\u001b[0;34m.\u001b[0m\u001b[0m_output\u001b[0m\u001b[0;34m.\u001b[0m\u001b[0mextend\u001b[0m\u001b[0;34m(\u001b[0m\u001b[0mjob\u001b[0m\u001b[0;34m.\u001b[0m\u001b[0mget\u001b[0m\u001b[0;34m(\u001b[0m\u001b[0;34m)\u001b[0m\u001b[0;34m)\u001b[0m\u001b[0;34m\u001b[0m\u001b[0;34m\u001b[0m\u001b[0m\n",
      "\u001b[0;32m/usr/lib64/python3.6/multiprocessing/pool.py\u001b[0m in \u001b[0;36mget\u001b[0;34m(self, timeout)\u001b[0m\n\u001b[1;32m    636\u001b[0m \u001b[0;34m\u001b[0m\u001b[0m\n\u001b[1;32m    637\u001b[0m     \u001b[0;32mdef\u001b[0m \u001b[0mget\u001b[0m\u001b[0;34m(\u001b[0m\u001b[0mself\u001b[0m\u001b[0;34m,\u001b[0m \u001b[0mtimeout\u001b[0m\u001b[0;34m=\u001b[0m\u001b[0;32mNone\u001b[0m\u001b[0;34m)\u001b[0m\u001b[0;34m:\u001b[0m\u001b[0;34m\u001b[0m\u001b[0;34m\u001b[0m\u001b[0m\n\u001b[0;32m--> 638\u001b[0;31m         \u001b[0mself\u001b[0m\u001b[0;34m.\u001b[0m\u001b[0mwait\u001b[0m\u001b[0;34m(\u001b[0m\u001b[0mtimeout\u001b[0m\u001b[0;34m)\u001b[0m\u001b[0;34m\u001b[0m\u001b[0;34m\u001b[0m\u001b[0m\n\u001b[0m\u001b[1;32m    639\u001b[0m         \u001b[0;32mif\u001b[0m \u001b[0;32mnot\u001b[0m \u001b[0mself\u001b[0m\u001b[0;34m.\u001b[0m\u001b[0mready\u001b[0m\u001b[0;34m(\u001b[0m\u001b[0;34m)\u001b[0m\u001b[0;34m:\u001b[0m\u001b[0;34m\u001b[0m\u001b[0;34m\u001b[0m\u001b[0m\n\u001b[1;32m    640\u001b[0m             \u001b[0;32mraise\u001b[0m \u001b[0mTimeoutError\u001b[0m\u001b[0;34m\u001b[0m\u001b[0;34m\u001b[0m\u001b[0m\n",
      "\u001b[0;32m/usr/lib64/python3.6/multiprocessing/pool.py\u001b[0m in \u001b[0;36mwait\u001b[0;34m(self, timeout)\u001b[0m\n\u001b[1;32m    633\u001b[0m \u001b[0;34m\u001b[0m\u001b[0m\n\u001b[1;32m    634\u001b[0m     \u001b[0;32mdef\u001b[0m \u001b[0mwait\u001b[0m\u001b[0;34m(\u001b[0m\u001b[0mself\u001b[0m\u001b[0;34m,\u001b[0m \u001b[0mtimeout\u001b[0m\u001b[0;34m=\u001b[0m\u001b[0;32mNone\u001b[0m\u001b[0;34m)\u001b[0m\u001b[0;34m:\u001b[0m\u001b[0;34m\u001b[0m\u001b[0;34m\u001b[0m\u001b[0m\n\u001b[0;32m--> 635\u001b[0;31m         \u001b[0mself\u001b[0m\u001b[0;34m.\u001b[0m\u001b[0m_event\u001b[0m\u001b[0;34m.\u001b[0m\u001b[0mwait\u001b[0m\u001b[0;34m(\u001b[0m\u001b[0mtimeout\u001b[0m\u001b[0;34m)\u001b[0m\u001b[0;34m\u001b[0m\u001b[0;34m\u001b[0m\u001b[0m\n\u001b[0m\u001b[1;32m    636\u001b[0m \u001b[0;34m\u001b[0m\u001b[0m\n\u001b[1;32m    637\u001b[0m     \u001b[0;32mdef\u001b[0m \u001b[0mget\u001b[0m\u001b[0;34m(\u001b[0m\u001b[0mself\u001b[0m\u001b[0;34m,\u001b[0m \u001b[0mtimeout\u001b[0m\u001b[0;34m=\u001b[0m\u001b[0;32mNone\u001b[0m\u001b[0;34m)\u001b[0m\u001b[0;34m:\u001b[0m\u001b[0;34m\u001b[0m\u001b[0;34m\u001b[0m\u001b[0m\n",
      "\u001b[0;32m/usr/lib64/python3.6/threading.py\u001b[0m in \u001b[0;36mwait\u001b[0;34m(self, timeout)\u001b[0m\n\u001b[1;32m    549\u001b[0m             \u001b[0msignaled\u001b[0m \u001b[0;34m=\u001b[0m \u001b[0mself\u001b[0m\u001b[0;34m.\u001b[0m\u001b[0m_flag\u001b[0m\u001b[0;34m\u001b[0m\u001b[0;34m\u001b[0m\u001b[0m\n\u001b[1;32m    550\u001b[0m             \u001b[0;32mif\u001b[0m \u001b[0;32mnot\u001b[0m \u001b[0msignaled\u001b[0m\u001b[0;34m:\u001b[0m\u001b[0;34m\u001b[0m\u001b[0;34m\u001b[0m\u001b[0m\n\u001b[0;32m--> 551\u001b[0;31m                 \u001b[0msignaled\u001b[0m \u001b[0;34m=\u001b[0m \u001b[0mself\u001b[0m\u001b[0;34m.\u001b[0m\u001b[0m_cond\u001b[0m\u001b[0;34m.\u001b[0m\u001b[0mwait\u001b[0m\u001b[0;34m(\u001b[0m\u001b[0mtimeout\u001b[0m\u001b[0;34m)\u001b[0m\u001b[0;34m\u001b[0m\u001b[0;34m\u001b[0m\u001b[0m\n\u001b[0m\u001b[1;32m    552\u001b[0m             \u001b[0;32mreturn\u001b[0m \u001b[0msignaled\u001b[0m\u001b[0;34m\u001b[0m\u001b[0;34m\u001b[0m\u001b[0m\n\u001b[1;32m    553\u001b[0m \u001b[0;34m\u001b[0m\u001b[0m\n",
      "\u001b[0;32m/usr/lib64/python3.6/threading.py\u001b[0m in \u001b[0;36mwait\u001b[0;34m(self, timeout)\u001b[0m\n\u001b[1;32m    293\u001b[0m         \u001b[0;32mtry\u001b[0m\u001b[0;34m:\u001b[0m    \u001b[0;31m# restore state no matter what (e.g., KeyboardInterrupt)\u001b[0m\u001b[0;34m\u001b[0m\u001b[0;34m\u001b[0m\u001b[0m\n\u001b[1;32m    294\u001b[0m             \u001b[0;32mif\u001b[0m \u001b[0mtimeout\u001b[0m \u001b[0;32mis\u001b[0m \u001b[0;32mNone\u001b[0m\u001b[0;34m:\u001b[0m\u001b[0;34m\u001b[0m\u001b[0;34m\u001b[0m\u001b[0m\n\u001b[0;32m--> 295\u001b[0;31m                 \u001b[0mwaiter\u001b[0m\u001b[0;34m.\u001b[0m\u001b[0macquire\u001b[0m\u001b[0;34m(\u001b[0m\u001b[0;34m)\u001b[0m\u001b[0;34m\u001b[0m\u001b[0;34m\u001b[0m\u001b[0m\n\u001b[0m\u001b[1;32m    296\u001b[0m                 \u001b[0mgotit\u001b[0m \u001b[0;34m=\u001b[0m \u001b[0;32mTrue\u001b[0m\u001b[0;34m\u001b[0m\u001b[0;34m\u001b[0m\u001b[0m\n\u001b[1;32m    297\u001b[0m             \u001b[0;32melse\u001b[0m\u001b[0;34m:\u001b[0m\u001b[0;34m\u001b[0m\u001b[0;34m\u001b[0m\u001b[0m\n",
      "\u001b[0;31mKeyboardInterrupt\u001b[0m: "
     ]
    }
   ],
   "source": [
    "best_rsf = RandomSurvivalForest(n_jobs=-1,\n",
    "                              n_estimators=70,\n",
    "                              max_depth=10,\n",
    "                              min_samples_split=10,\n",
    "                              max_features=None,\n",
    "                               verbose=1\n",
    "                              )\n",
    "best_rsf.fit(X_train, y_train)\n"
   ]
  },
  {
   "cell_type": "code",
   "execution_count": null,
   "metadata": {},
   "outputs": [
    {
     "name": "stderr",
     "output_type": "stream",
     "text": [
      "[Parallel(n_jobs=16)]: Using backend ThreadingBackend with 16 concurrent workers.\n",
      "[Parallel(n_jobs=16)]: Done  18 tasks      | elapsed:    0.7s\n",
      "[Parallel(n_jobs=16)]: Done  70 out of  70 | elapsed:    1.7s finished\n"
     ]
    },
    {
     "data": {
      "text/plain": [
       "(0.7259655087331299, 5545230, 2159184, 540, 1730)"
      ]
     },
     "execution_count": 9,
     "metadata": {},
     "output_type": "execute_result"
    }
   ],
   "source": [
    "lower, upper = np.percentile(y[\"Days\"], [10, 90])\n",
    "times = np.arange(lower, upper + 1)\n",
    "\n",
    "SurvivalEstimatorEvaluation.evaluate_model_uno_c(best_rsf, X_test, y_test, y_train, times)"
   ]
  },
  {
   "cell_type": "code",
   "execution_count": null,
   "metadata": {},
   "outputs": [
    {
     "name": "stderr",
     "output_type": "stream",
     "text": [
      "[Parallel(n_jobs=16)]: Using backend ThreadingBackend with 16 concurrent workers.\n",
      "[Parallel(n_jobs=16)]: Done  18 tasks      | elapsed:    0.7s\n",
      "[Parallel(n_jobs=16)]: Done  70 out of  70 | elapsed:    1.7s finished\n"
     ]
    }
   ],
   "source": [
    "auc_score, mean_auc = SurvivalEstimatorEvaluation.evaluate_model_auc(best_rsf, X_test, y_test, y_train, times)"
   ]
  },
  {
   "cell_type": "code",
   "execution_count": null,
   "metadata": {},
   "outputs": [
    {
     "data": {
      "text/plain": [
       "Text(0, 0.5, 'Time-dependent AUC')"
      ]
     },
     "execution_count": 11,
     "metadata": {},
     "output_type": "execute_result"
    },
    {
     "data": {
      "image/png": "[encoded data removed]",
      "text/plain": [
       "<Figure size 720x432 with 1 Axes>"
      ]
     },
     "metadata": {
      "needs_background": "light"
     },
     "output_type": "display_data"
    }
   ],
   "source": [
    "#print AUC\n",
    "\n",
    "plt.figure(figsize=(10,6))\n",
    "plt.plot(times, auc_score, marker=\",\")\n",
    "plt.axhline(mean_auc, linestyle=\"--\", label=\"Mean AUC\")\n",
    "# plt.text(5, 0, \"{model}\", fontsize=12)\n",
    "plt.title(\"Time-dependent Area under the ROC for the Random Survival Forest\")\n",
    "plt.xlabel(\"Days\")\n",
    "plt.legend(loc='lower right')\n",
    "plt.ylabel(\"Time-dependent AUC\")"
   ]
  },
  {
   "cell_type": "code",
   "execution_count": null,
   "metadata": {},
   "outputs": [
    {
     "name": "stderr",
     "output_type": "stream",
     "text": [
      "[Parallel(n_jobs=16)]: Using backend ThreadingBackend with 16 concurrent workers.\n",
      "[Parallel(n_jobs=16)]: Done  18 tasks      | elapsed:    1.4s\n",
      "[Parallel(n_jobs=16)]: Done  70 out of  70 | elapsed:    4.5s finished\n"
     ]
    },
    {
     "name": "stdout",
     "output_type": "stream",
     "text": [
      "Integrated Brier Score: 0.12877587894572215\n"
     ]
    }
   ],
   "source": [
    "surv_fn = best_rsf.predict_survival_function(X_test, return_array=False)\n",
    "\n",
    "surv_prob = np.row_stack([fn(times) for fn in surv_fn])\n",
    "\n",
    "bs = brier_score(y_train, y_test, surv_prob, times)\n",
    "ibs = integrated_brier_score(y_train, y_test, surv_prob, times)#times)\n",
    "print('Integrated Brier Score:', ibs)"
   ]
  },
  {
   "cell_type": "code",
   "execution_count": null,
   "metadata": {},
   "outputs": [
    {
     "data": {
      "text/plain": [
       "Text(0, 0.5, 'time-dependent Brier Score')"
      ]
     },
     "execution_count": 13,
     "metadata": {},
     "output_type": "execute_result"
    },
    {
     "data": {
      "image/png": "[encoded data removed]",
      "text/plain": [
       "<Figure size 720x432 with 1 Axes>"
      ]
     },
     "metadata": {
      "needs_background": "light"
     },
     "output_type": "display_data"
    }
   ],
   "source": [
    "plt.figure(figsize=(10,6))\n",
    "plt.plot(bs[0], bs[1], marker=\",\")\n",
    "# plt.axhline(ibs, linestyle=\"--\")\n",
    "# plt.text(5, 0, \"{model}\", fontsize=12)\n",
    "plt.title(\"Time-dependent Brier Score for the Random Survival Forest\")\n",
    "plt.xlabel(\"days\")\n",
    "plt.ylabel(\"time-dependent Brier Score\")"
   ]
  },
  {
   "cell_type": "code",
   "execution_count": null,
   "metadata": {},
   "outputs": [],
   "source": [
    "# SurvivalEstimatorEvaluation.print_feature_importances(best_rsf,X_train[500:],y_train[500:])"
   ]
  },
  {
   "cell_type": "code",
   "execution_count": null,
   "metadata": {},
   "outputs": [],
   "source": [
    "# lower, upper = np.percentile(y[\"Days\"], [10, 90])\n",
    "# times = np.arange(lower, upper + 1)\n",
    "\n",
    "# surv = best_rsf.predict_survival_function(X_test, return_array=False)"
   ]
  },
  {
   "cell_type": "code",
   "execution_count": null,
   "metadata": {},
   "outputs": [
    {
     "ename": "NameError",
     "evalue": "name 'x' is not defined",
     "output_type": "error",
     "traceback": [
      "\u001b[0;31m---------------------------------------------------------------------------\u001b[0m",
      "\u001b[0;31mNameError\u001b[0m                                 Traceback (most recent call last)",
      "\u001b[0;32m<ipython-input-16-6842f4329f50>\u001b[0m in \u001b[0;36m<module>\u001b[0;34m\u001b[0m\n\u001b[1;32m      3\u001b[0m \u001b[0;31m# ibs = integrated_brier_score(y_train, y_test, surv_prob, times)#best_rsf.event_times_)\u001b[0m\u001b[0;34m\u001b[0m\u001b[0;34m\u001b[0m\u001b[0;34m\u001b[0m\u001b[0m\n\u001b[1;32m      4\u001b[0m \u001b[0;31m# print('Integrated Brier Score:', round(ibs,3))\u001b[0m\u001b[0;34m\u001b[0m\u001b[0;34m\u001b[0m\u001b[0;34m\u001b[0m\u001b[0m\n\u001b[0;32m----> 5\u001b[0;31m \u001b[0mx\u001b[0m\u001b[0;34m\u001b[0m\u001b[0;34m\u001b[0m\u001b[0m\n\u001b[0m",
      "\u001b[0;31mNameError\u001b[0m: name 'x' is not defined"
     ]
    }
   ],
   "source": [
    "# surv_prob = np.row_stack([fn(times) for fn in surv])\n",
    "\n",
    "# ibs = integrated_brier_score(y_train, y_test, surv_prob, times)#best_rsf.event_times_)\n",
    "# print('Integrated Brier Score:', round(ibs,3))\n"
   ]
  },
  {
   "cell_type": "code",
   "execution_count": null,
   "metadata": {},
   "outputs": [
    {
     "name": "stderr",
     "output_type": "stream",
     "text": [
      "/mnt/lustre/helios-home/stadnkyr/jupyter_virtual_env/lib64/python3.6/site-packages/ipykernel_launcher.py:4: ConvergenceWarning: Optimization terminated early, you might want to increase the number of iterations (max_iter=100).\n",
      "  after removing the cwd from sys.path.\n"
     ]
    },
    {
     "data": {
      "text/plain": [
       "CoxnetSurvivalAnalysis(alpha_min_ratio=0.01, l1_ratio=0.9, max_iter=100)"
      ]
     },
     "execution_count": 17,
     "metadata": {},
     "output_type": "execute_result"
    }
   ],
   "source": [
    "from sksurv.linear_model import CoxnetSurvivalAnalysis\n",
    "\n",
    "cox = CoxnetSurvivalAnalysis(l1_ratio=0.9, alpha_min_ratio=0.01, max_iter=100)\n",
    "cox.fit(X_train, y_train)\n"
   ]
  },
  {
   "cell_type": "code",
   "execution_count": null,
   "metadata": {},
   "outputs": [
    {
     "data": {
      "text/plain": [
       "array([0.1, 0.2, 0.3, 0.4, 0.5, 0.6, 0.7, 0.8, 0.9])"
      ]
     },
     "execution_count": 18,
     "metadata": {},
     "output_type": "execute_result"
    }
   ],
   "source": [
    "estimated_alphas = cox.alphas_\n",
    "l1_ratios = np.arange(0.1, 1, 0.1)\n",
    "l1_ratios"
   ]
  },
  {
   "cell_type": "code",
   "execution_count": null,
   "metadata": {},
   "outputs": [
    {
     "name": "stderr",
     "output_type": "stream",
     "text": [
      "Hyperparameter Tuning:   0%|          | 0/87 [00:52<?, ?it/s]"
     ]
    },
    {
     "name": "stderr",
     "output_type": "stream",
     "text": [
      "\n",
      "Hyperparameter Tuning: 696it [06:32,  1.77it/s]                       /mnt/lustre/helios-home/stadnkyr/jupyter_virtual_env/lib64/python3.6/site-packages/ipykernel_launcher.py:13: UserWarning: all coefficients are zero, consider decreasing alpha.\n",
      "  del sys.path[0]\n",
      "Hyperparameter Tuning: 783it [07:20,  1.75it/s]"
     ]
    }
   ],
   "source": [
    "from tqdm import tqdm\n",
    "\n",
    "best_params = None\n",
    "highest_cindex=0\n",
    "\n",
    "cox_grid=CoxnetSurvivalAnalysis()\n",
    "\n",
    "pbar = tqdm(total = len(estimated_alphas)*len(l1_ratios), desc='Hyperparameter Tuning')\n",
    "for ratio in l1_ratios:\n",
    "    for alpha in estimated_alphas:\n",
    "        cox_grid.set_params(l1_ratio=ratio, alphas=[alpha])\n",
    "\n",
    "        cox_grid.fit(X_train, y_train)\n",
    "        uno_score = SurvivalEstimatorEvaluation.evaluate_model_uno_c(cox_grid, X_test, y_test, y_train, times)\n",
    "\n",
    "        uno = float(uno_score[0])\n",
    "        if uno > highest_cindex:\n",
    "            highest_cindex = uno\n",
    "            best_params = (ratio, alpha)\n",
    "            best_rsf_model = cox_grid\n",
    "\n",
    "        # Update the progress bar\n",
    "        pbar.update()"
   ]
  },
  {
   "cell_type": "code",
   "execution_count": null,
   "metadata": {},
   "outputs": [
    {
     "data": {
      "text/plain": [
       "0.7077310938443733"
      ]
     },
     "execution_count": 26,
     "metadata": {},
     "output_type": "execute_result"
    }
   ],
   "source": [
    "highest_cindex"
   ]
  },
  {
   "attachments": {},
   "cell_type": "markdown",
   "metadata": {},
   "source": [
    "l_1 ratio: Uno: 0.689226981553399"
   ]
  },
  {
   "cell_type": "code",
   "execution_count": null,
   "metadata": {},
   "outputs": [
    {
     "data": {
      "text/plain": [
       "(0.1, 0.04825889367871719)"
      ]
     },
     "execution_count": 27,
     "metadata": {},
     "output_type": "execute_result"
    }
   ],
   "source": [
    "best_params"
   ]
  },
  {
   "cell_type": "code",
   "execution_count": null,
   "metadata": {},
   "outputs": [
    {
     "data": {
      "text/plain": [
       "CoxnetSurvivalAnalysis(alphas=[0.04825889367871719], fit_baseline_model=True,\n",
       "                       l1_ratio=0.1)"
      ]
     },
     "execution_count": 54,
     "metadata": {},
     "output_type": "execute_result"
    }
   ],
   "source": [
    "coxnet_pred = CoxnetSurvivalAnalysis(l1_ratio=best_params[0],alphas=[best_params[1]], fit_baseline_model=True)\n",
    "coxnet_pred.fit(X_train, y_train)"
   ]
  },
  {
   "cell_type": "code",
   "execution_count": null,
   "metadata": {},
   "outputs": [],
   "source": [
    "cox_auc_score, cox_mean_auc = SurvivalEstimatorEvaluation.evaluate_model_auc(coxnet_pred, X_test, y_test, y_train, times)"
   ]
  },
  {
   "cell_type": "code",
   "execution_count": null,
   "metadata": {},
   "outputs": [
    {
     "data": {
      "text/plain": [
       "Text(0, 0.5, 'Time-dependent AUC')"
      ]
     },
     "execution_count": 56,
     "metadata": {},
     "output_type": "execute_result"
    },
    {
     "data": {
      "image/png": "[encoded data removed]",
      "text/plain": [
       "<Figure size 720x432 with 1 Axes>"
      ]
     },
     "metadata": {
      "needs_background": "light"
     },
     "output_type": "display_data"
    }
   ],
   "source": [
    "# mean_auc\n",
    "plt.figure(figsize=(10,6))\n",
    "plt.plot(times, cox_auc_score, marker=\",\")\n",
    "plt.axhline(cox_mean_auc, linestyle=\"--\", label=\"Mean AUC\")\n",
    "# plt.text(5, 0, \"{model}\", fontsize=12)\n",
    "plt.title(\"Time-dependent Area under the ROC for the Coxnet\")\n",
    "plt.xlabel(\"Days\")\n",
    "plt.legend(loc='lower right')\n",
    "plt.ylabel(\"Time-dependent AUC\")"
   ]
  },
  {
   "cell_type": "code",
   "execution_count": null,
   "metadata": {},
   "outputs": [
    {
     "name": "stdout",
     "output_type": "stream",
     "text": [
      "Integrated Brier Score: 0.13074072519101868\n"
     ]
    }
   ],
   "source": [
    "cox_surv_fn = coxnet_pred.predict_survival_function(X_test)\n",
    "\n",
    "cox_surv_prob = np.row_stack([fn(times) for fn in cox_surv_fn])\n",
    "\n",
    "cox_bs = brier_score(y_train, y_test, cox_surv_prob, times)\n",
    "cox_ibs = integrated_brier_score(y_train, y_test, cox_surv_prob, times)#times)\n",
    "print('Integrated Brier Score:', cox_ibs)"
   ]
  },
  {
   "cell_type": "code",
   "execution_count": null,
   "metadata": {},
   "outputs": [],
   "source": [
    "import pickle\n",
    "\n",
    "# cox_auc_score, cox_mean_auc\n",
    "with open('pickle/cox_auc.pickle', 'wb') as f:\n",
    "    pickle.dump((cox_auc_score, cox_mean_auc), f, protocol=pickle.HIGHEST_PROTOCOL)\n",
    "\n",
    "# auc_score, mean_auc\n",
    "with open('pickle/rsf_auc.pickle', 'wb') as f:\n",
    "    pickle.dump((auc_score, mean_auc), f, protocol=pickle.HIGHEST_PROTOCOL)\n",
    "\n",
    "# cox_bs\n",
    "with open('pickle/cox_bs.pickle', 'wb') as f:\n",
    "    pickle.dump(cox_bs, f, protocol=pickle.HIGHEST_PROTOCOL)\n",
    "\n",
    "# bs\n",
    "with open('pickle/rsf_bs.pickle', 'wb') as f:\n",
    "    pickle.dump(bs, f, protocol=pickle.HIGHEST_PROTOCOL)\n",
    "\n",
    "with open('pickle/living_times.pickle', 'wb') as f:\n",
    "    pickle.dump(times, f, protocol=pickle.HIGHEST_PROTOCOL)\n"
   ]
  },
  {
   "cell_type": "code",
   "execution_count": null,
   "metadata": {},
   "outputs": [
    {
     "data": {
      "text/plain": [
       "Text(0, 0.5, 'time-dependent Brier Score')"
      ]
     },
     "execution_count": 59,
     "metadata": {},
     "output_type": "execute_result"
    },
    {
     "data": {
      "image/png": "[encoded data removed]",
      "text/plain": [
       "<Figure size 720x432 with 1 Axes>"
      ]
     },
     "metadata": {
      "needs_background": "light"
     },
     "output_type": "display_data"
    }
   ],
   "source": [
    "plt.figure(figsize=(10,6))\n",
    "plt.plot(cox_bs[0], cox_bs[1], marker=\",\")\n",
    "# plt.axhline(ibs, linestyle=\"--\")\n",
    "# plt.text(5, 0, \"{model}\", fontsize=12)\n",
    "plt.title(\"Time-dependent Brier Score for the Coxnet\")\n",
    "plt.xlabel(\"Days\")\n",
    "plt.ylabel(\"time-dependent Brier Score\")"
   ]
  },
  {
   "cell_type": "code",
   "execution_count": null,
   "metadata": {},
   "outputs": [
    {
     "data": {
      "text/plain": [
       "Text(0, 0.5, 'time-dependent Brier Score')"
      ]
     },
     "execution_count": 60,
     "metadata": {},
     "output_type": "execute_result"
    },
    {
     "data": {
      "image/png": "[encoded data removed]",
      "text/plain": [
       "<Figure size 720x432 with 1 Axes>"
      ]
     },
     "metadata": {
      "needs_background": "light"
     },
     "output_type": "display_data"
    }
   ],
   "source": [
    "plt.figure(figsize=(10,6))\n",
    "plt.plot(cox_bs[0], cox_bs[1], marker=\",\", label=\"Coxnet\")\n",
    "plt.plot(bs[0], bs[1], marker=\",\", label=\"Random Survival Forest\")\n",
    "# plt.axhline(ibs, linestyle=\"--\")\n",
    "# plt.text(5, 0, \"{model}\", fontsize=12)\n",
    "plt.legend(loc='lower right')\n",
    "plt.title(\"Time-dependent Brier Score for the Coxnet vs. RSF\")\n",
    "plt.xlabel(\"Days\")\n",
    "plt.ylabel(\"time-dependent Brier Score\")"
   ]
  },
  {
   "cell_type": "code",
   "execution_count": null,
   "metadata": {},
   "outputs": [
    {
     "data": {
      "text/plain": [
       "Text(0, 0.5, 'Time-dependent AUC')"
      ]
     },
     "execution_count": 61,
     "metadata": {},
     "output_type": "execute_result"
    },
    {
     "data": {
      "image/png": "[encoded data removed]",
      "text/plain": [
       "<Figure size 720x432 with 1 Axes>"
      ]
     },
     "metadata": {
      "needs_background": "light"
     },
     "output_type": "display_data"
    }
   ],
   "source": [
    "plt.figure(figsize=(10,6))\n",
    "plt.plot(times, cox_auc_score, marker=\",\", label=\"Cox AUC\")\n",
    "plt.plot(times, auc_score, marker=\",\", label=\"RSF AUC\")\n",
    "plt.axhline(cox_mean_auc, linestyle=\"--\", label=\"Cox Mean AUC\")\n",
    "plt.axhline(mean_auc, linestyle=\"--\", label=\"Mean AUC\")\n",
    "# plt.text(5, 0, \"{model}\", fontsize=12)\n",
    "plt.title(\"Time-dependent Area under the ROC for the Coxnet vs. RSF\")\n",
    "plt.xlabel(\"Days\")\n",
    "plt.legend(loc='lower right')\n",
    "plt.ylabel(\"Time-dependent AUC\")"
   ]
  },
  {
   "cell_type": "code",
   "execution_count": null,
   "metadata": {},
   "outputs": [
    {
     "data": {
      "text/plain": [
       "0.13074072519101868"
      ]
     },
     "execution_count": 62,
     "metadata": {},
     "output_type": "execute_result"
    }
   ],
   "source": [
    "cox_ibs"
   ]
  },
  {
   "cell_type": "code",
   "execution_count": null,
   "metadata": {},
   "outputs": [
    {
     "data": {
      "text/plain": [
       "0.12877587894572215"
      ]
     },
     "execution_count": 63,
     "metadata": {},
     "output_type": "execute_result"
    }
   ],
   "source": [
    "ibs"
   ]
  },
  {
   "cell_type": "code",
   "execution_count": null,
   "metadata": {},
   "outputs": [
    {
     "data": {
      "text/plain": [
       "0.7236868193847488"
      ]
     },
     "execution_count": 64,
     "metadata": {},
     "output_type": "execute_result"
    }
   ],
   "source": [
    "cox_mean_auc"
   ]
  },
  {
   "cell_type": "code",
   "execution_count": null,
   "metadata": {},
   "outputs": [
    {
     "data": {
      "text/plain": [
       "0.7420656023514658"
      ]
     },
     "execution_count": 65,
     "metadata": {},
     "output_type": "execute_result"
    }
   ],
   "source": [
    "mean_auc"
   ]
  },
  {
   "cell_type": "markdown",
   "metadata": {},
   "source": [
    "# RSF finetuning"
   ]
  },
  {
   "cell_type": "code",
   "execution_count": null,
   "metadata": {},
   "outputs": [
    {
     "name": "stderr",
     "output_type": "stream",
     "text": [
      "Hyperparameter Tuning: 783it [2:56:48, 13.55s/it]\n"
     ]
    },
    {
     "ename": "TypeError",
     "evalue": "fit() got an unexpected keyword argument 'fit_baseline_model'",
     "output_type": "error",
     "traceback": [
      "\u001b[0;31m---------------------------------------------------------------------------\u001b[0m",
      "\u001b[0;31mTypeError\u001b[0m                                 Traceback (most recent call last)",
      "\u001b[0;32m<ipython-input-66-bebecee55d25>\u001b[0m in \u001b[0;36m<module>\u001b[0;34m\u001b[0m\n\u001b[1;32m     31\u001b[0m                                   max_features=max_feat)\n\u001b[1;32m     32\u001b[0m                 rsf_gr, ibs = train_model(rsf_gr, \n\u001b[0;32m---> 33\u001b[0;31m                                           X, y)\n\u001b[0m\u001b[1;32m     34\u001b[0m \u001b[0;34m\u001b[0m\u001b[0m\n\u001b[1;32m     35\u001b[0m                 \u001b[0;31m# ibs = float(uno[0])\u001b[0m\u001b[0;34m\u001b[0m\u001b[0;34m\u001b[0m\u001b[0;34m\u001b[0m\u001b[0m\n",
      "\u001b[0;32m<ipython-input-22-27a95c6a3768>\u001b[0m in \u001b[0;36mtrain_model\u001b[0;34m(model, x, y)\u001b[0m\n\u001b[1;32m     18\u001b[0m     \u001b[0mX_train\u001b[0m\u001b[0;34m,\u001b[0m \u001b[0mX_test\u001b[0m\u001b[0;34m,\u001b[0m \u001b[0my_train\u001b[0m\u001b[0;34m,\u001b[0m \u001b[0my_test\u001b[0m \u001b[0;34m=\u001b[0m \u001b[0mtrain_test_split\u001b[0m\u001b[0;34m(\u001b[0m\u001b[0mx\u001b[0m\u001b[0;34m,\u001b[0m \u001b[0my\u001b[0m\u001b[0;34m,\u001b[0m \u001b[0mtest_size\u001b[0m\u001b[0;34m=\u001b[0m\u001b[0;36m.2\u001b[0m\u001b[0;34m,\u001b[0m \u001b[0mrandom_state\u001b[0m\u001b[0;34m=\u001b[0m\u001b[0;36m42\u001b[0m\u001b[0;34m)\u001b[0m\u001b[0;34m\u001b[0m\u001b[0;34m\u001b[0m\u001b[0m\n\u001b[1;32m     19\u001b[0m \u001b[0;34m\u001b[0m\u001b[0m\n\u001b[0;32m---> 20\u001b[0;31m     \u001b[0mmodel\u001b[0m\u001b[0;34m.\u001b[0m\u001b[0mfit\u001b[0m\u001b[0;34m(\u001b[0m\u001b[0mX_train\u001b[0m\u001b[0;34m,\u001b[0m \u001b[0my_train\u001b[0m\u001b[0;34m,\u001b[0m \u001b[0mfit_baseline_model\u001b[0m\u001b[0;34m=\u001b[0m\u001b[0;32mTrue\u001b[0m\u001b[0;34m)\u001b[0m\u001b[0;34m\u001b[0m\u001b[0;34m\u001b[0m\u001b[0m\n\u001b[0m\u001b[1;32m     21\u001b[0m     \u001b[0;31m# model.fit(X_train, y_train)\u001b[0m\u001b[0;34m\u001b[0m\u001b[0;34m\u001b[0m\u001b[0;34m\u001b[0m\u001b[0m\n\u001b[1;32m     22\u001b[0m \u001b[0;34m\u001b[0m\u001b[0m\n",
      "\u001b[0;31mTypeError\u001b[0m: fit() got an unexpected keyword argument 'fit_baseline_model'"
     ]
    }
   ],
   "source": [
    "from sksurv.ensemble import RandomSurvivalForest\n",
    "from tqdm import tqdm\n",
    "\n",
    "# n_estimators = [70, 80, 90]\n",
    "# max_depth = [5,7]\n",
    "# min_samples_split = [10, 12, 14]\n",
    "# max_features = [None]\n",
    "\n",
    "n_estimators = [30, 50, 70]\n",
    "max_depth = [6, 8, 10, 12]\n",
    "min_samples_split = [10, 12, 14]\n",
    "max_features = [ None]\n",
    "\n",
    "best_params = None\n",
    "lowest_ibs = 1\n",
    "best_rsf_model = None\n",
    "\n",
    "\n",
    "\n",
    "rsf_gr = RandomSurvivalForest(n_jobs=-1)\n",
    "pbar = tqdm(total = len(n_estimators)*len(max_depth)*len(min_samples_split)\n",
    "            *len(max_features), desc='Hyperparameter Tuning')\n",
    "\n",
    "for n in n_estimators:\n",
    "    for depth in max_depth:\n",
    "        for min_split in min_samples_split:\n",
    "            for max_feat in max_features:\n",
    "                rsf_gr.set_params(n_estimators=n, \n",
    "                                  max_depth=depth, \n",
    "                                  min_samples_split=min_split, \n",
    "                                  max_features=max_feat)\n",
    "                rsf_gr, ibs = train_model(rsf_gr, \n",
    "                                          X, y)\n",
    "\n",
    "                # ibs = float(uno[0])\n",
    "                if ibs < lowest_ibs:\n",
    "                    lowest_ibs = ibs\n",
    "                    best_params = (n, depth, min_split, max_feat)\n",
    "                    best_rsf_model = rsf_gr\n",
    "\n",
    "                # Update the progress bar\n",
    "                pbar.update()\n",
    "\n",
    "# Close the progress bar\n",
    "pbar.close() \n",
    "\n",
    "print(best_params, lowest_ibs)"
   ]
  },
  {
   "cell_type": "code",
   "execution_count": null,
   "metadata": {},
   "outputs": [],
   "source": [
    "print(best_params, lowest_ibs)"
   ]
  }
 ],
 "metadata": {
  "kernelspec": {
   "display_name": "Python 3",
   "language": "python",
   "name": "python3"
  },
  "orig_nbformat": 4
 },
 "nbformat": 4,
 "nbformat_minor": 2
}
