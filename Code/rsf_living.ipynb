{
 "cells": [
  {
   "cell_type": "code",
   "execution_count": 2,
   "metadata": {},
   "outputs": [
    {
     "name": "stdout",
     "output_type": "stream",
     "text": [
      "/mnt/lustre/helios-home/stadnkyr\n"
     ]
    }
   ],
   "source": [
    "import os\n",
    "os.chdir('/mnt/lustre/helios-home/stadnkyr')\n",
    "print(os.getcwd())\n",
    "\n",
    "import logging\n",
    "from typing import Tuple\n",
    "import pickle\n",
    "import datetime\n",
    "\n",
    "import pandas as pd\n",
    "import numpy as np\n",
    "from sksurv.column import encode_categorical\n",
    "from sksurv.column import standardize\n",
    "from sksurv.util import Surv\n",
    "\n",
    "# from columns import COLUMNS\n",
    "from surv_data_pipeline.columns import COLUMNS\n",
    "from sklearn.model_selection import train_test_split\n",
    "from sksurv.ensemble import RandomSurvivalForest\n",
    "\n",
    "\n",
    "logger = logging.getLogger(__name__)\n",
    "logger.setLevel(logging.DEBUG)\n",
    "console_handler = logging.StreamHandler()\n",
    "console_handler.setLevel(logging.DEBUG)\n",
    "formatter = logging.Formatter('%(asctime)s - %(message)s')\n",
    "console_handler.setFormatter(formatter)\n",
    "logger.addHandler(console_handler)\n",
    "\n",
    "\n",
    "class ScikitSurvivalDataLoader:\n",
    "    df = None\n",
    "    target = None\n",
    "\n",
    "    yes_categorical=[\n",
    "                    \"PRE_TX_TXFUS\", \"AGE_GROUP\", \"DON_TY\",  \n",
    "                    \"GENDER\",\n",
    "                    \"ON_DIALYSIS\", \n",
    "                    # \"ABO_MAT\", \n",
    "                    'HBV_CORE', \n",
    "                    \"ETHCAT\", \n",
    "                    \"ETHCAT_DON\",\n",
    "                    'DIAB',\n",
    "                    'HCV_SEROSTATUS',  \n",
    "                    'LIV_DON_TY',\n",
    "\n",
    "                ]\n",
    "    \n",
    "    yes_numerical = [\n",
    "                    # \"SERUM_CREAT\",\n",
    "                    \"AGE\", \n",
    "                    \"AGE_DON\",\n",
    "                    \"TX_DATE\", \n",
    "                    \"DIALYSIS_DATE\",\n",
    "                      #'KDPI', 'KDRI_RAO'\n",
    "                    # \"KI_CREAT_PREOP\",\n",
    "                    # \"NPKID\", \n",
    "                    # \"HGT_CM_CALC\", \n",
    "                    # \"BMI_DON_CALC\",\n",
    "                    ]\n",
    "\n",
    "    def __init__(self, patient_survival: bool = True) -> None:\n",
    "        self.target = [\"PTIME\", \"PSTATUS\"] \n",
    "\n",
    "        self.yes_numerical.insert(0,self.target[1])\n",
    "        self.yes_numerical.insert(0,self.target[0])\n",
    "\n",
    "    def load(self, n_samples_to_load=None, fill_na_with_median:bool = True) -> Tuple[pd.DataFrame, any]:\n",
    "        self._load_pd_df()\n",
    "        self._apply_exclusion_criteria()\n",
    "\n",
    "        if n_samples_to_load is not None:\n",
    "            self.df = self.df.sample(n_samples_to_load, random_state=42)\n",
    "\n",
    "        # self._divide_train_test_validation()\n",
    "\n",
    "        self.df = self._handle_nan(fill_na_with_median)\n",
    "        # self.test = self._handle_nan(fill_na_with_median, self.test)\n",
    "        # self.validate = self._handle_nan(fill_na_with_median, self.validate)\n",
    "\n",
    "        return self._get_X_y()\n",
    "    \n",
    "    def get_test_X_y(self):\n",
    "        return self._get_X_y(self.test)\n",
    "\n",
    "    def get_validate_X_y(self):\n",
    "        return self._get_X_y(self.validate)\n",
    "    \n",
    "    def _divide_train_test_validation(self):\n",
    "        self.test = None\n",
    "        self.validate = None\n",
    "\n",
    "        logger.info(\"Dividing the dataset into train, test and validation sets...\")\n",
    "\n",
    "        self.df, self.test = train_test_split(self.df, test_size=0.2, \n",
    "                                                       random_state=42)\n",
    "        \n",
    "        # self.df, test_validation_df = train_test_split(self.df, test_size=0.3, \n",
    "        #                                                random_state=42, \n",
    "        #                                                stratify=self.df['PSTATUS'])\n",
    "\n",
    "        # self.test, self.validate = train_test_split(test_validation_df, \n",
    "        #                                             test_size=0.5, \n",
    "        #                                             random_state=42, \n",
    "        #                                             stratify=self.df['PSTATUS'])\n",
    "\n",
    "        logger.info(\"Done!\")\n",
    "\n",
    "    def _load_pd_df(self, columns = COLUMNS):\n",
    "        logger.info(\"Loading data into pandas DataFrame...\")\n",
    "        self.df = pd.read_parquet(\n",
    "            \"/mnt/lustre/helios-home/stadnkyr/Kidney_transplants.parquet\", \n",
    "            engine='auto', columns=list(set(columns+self.yes_categorical+self.yes_numerical)))\n",
    "\n",
    "        logger.info(f\"Done! Loaded df of shape {self.df.shape}\")\n",
    "\n",
    "    def _apply_exclusion_criteria(self):\n",
    "        '''\n",
    "        ideas: try to censor unrelated reasons\n",
    "        '''\n",
    "        UNRELATED_COD = {998,999, 2801,2803,8065,8064,8063,8062,8050,7237, 7226, \n",
    "                         7227, 6853,5808,3899, 3800}\n",
    "        \n",
    "        self.df = self.df[self.df['PSTATUS'].notnull()]\n",
    "        self.df = self.df[self.df['AGE_GROUP'] == \"A\"]\n",
    "        self.df = self.df[self.df['DON_TY'] != \"F\"]\n",
    "        self.df = self.df[self.df['DIABETES_DON'] != \"U\"]\n",
    "        self.df = self.df[self.df['PRE_TX_TXFUS'] != \"U\"]\n",
    "        # self.df = self.df[self.df['HBV_CORE'] != \"U\"]\n",
    "        # self.df = self.df[self.df['HBV_SUR_ANTIGEN'] != \"U\"]\n",
    "        self.df = self.df[self.df['HCV_SEROSTATUS'] != \"U\"]\n",
    "        # remove multiracial and unknowns\n",
    "        self.df = self.df[self.df['ETHCAT'] != \"998\"]\n",
    "        # self.df = self.df[self.df['LIV_DON_TY'] != \"998\"]\n",
    "        # self.df = self.df[self.df['ETHCAT'] != \"9\"]\n",
    "\n",
    "        self.df = self.df[self.df['DIAB'] != \"998\"]\n",
    "        self.df = self.df[self.df['DIAB'] != 998]\n",
    "\n",
    "        # remove death of unrelated  reasons\n",
    "        mask = ~self.df['COD_KI'].isin(UNRELATED_COD)\n",
    "        self.df = self.df[mask] \n",
    "\n",
    "        self.df = self.df[self.df['DON_TY'] == \"L\"] # living donor specification\n",
    "\n",
    "        self.df['DIALYSIS_TIME'] = self.df.apply(lambda row: \n",
    "                                                 self._get_difference_in_days(row['DIALYSIS_DATE'], row['TX_DATE']) \n",
    "                                                 if row['DIALYSIS_DATE'] is not None and row['TX_DATE'] \n",
    "                                                 is not None else 0, axis=1)\n",
    "\n",
    "        self.yes_numerical = [x for x in self.yes_numerical if x != 'DIALYSIS_DATE' and x != \"TX_DATE\"]\n",
    "        self.yes_numerical.append('DIALYSIS_TIME')\n",
    "\n",
    "        logger.info(f\"{self.df.shape}\")\n",
    "\n",
    "    def _handle_nan(self, fill_na_with_median:bool, dataset = None):\n",
    "        '''\n",
    "        evaluation set should not have values that were calculated\n",
    "        '''\n",
    "        if dataset is None:\n",
    "            dataset = self.df\n",
    "            fill_na_with_median=False\n",
    "        else:\n",
    "            fill_na_with_median=False\n",
    "\n",
    "        if fill_na_with_median:\n",
    "            logger.info(\"Handling nan values...\")\n",
    "        else:\n",
    "            logger.info(\"Dropping nan values...\")\n",
    "        \n",
    "        # print(dataset.shape)\n",
    "        self.yes_categorical = [item for item in self.yes_categorical if item !=\"COD_KI\"]\n",
    "        dataset.dropna(subset=list(set(self.yes_categorical+self.yes_numerical)), inplace=True)\n",
    "\n",
    "        dataset.dropna(subset=self.yes_numerical, inplace=True)\n",
    "        # print(dataset.shape)\n",
    "        logger.info(\"Done!\")\n",
    "        return dataset\n",
    "\n",
    "    def _get_X_y(self, dataset = None) -> Tuple[pd.DataFrame, any]:\n",
    "        if dataset is None:\n",
    "            dataset = self.df\n",
    "        logger.info(\"Dividing data into X and y...\")\n",
    "\n",
    "        with open('pickle/COX_DATA_FULL_LIVING.pkl', 'wb') as file:\n",
    "            pickle.dump(dataset, file)\n",
    "\n",
    "        categorical_x = encode_categorical(dataset[self.yes_categorical])\n",
    "        numerical_x = standardize(dataset[self.yes_numerical])\n",
    "\n",
    "        X = pd.concat([numerical_x, categorical_x], axis=1)\n",
    "        X.drop([self.target[0], self.target[1]], axis=1, inplace=True)\n",
    "\n",
    "        survival_time = dataset[self.target[0]].astype(np.float64)\n",
    "        event = dataset[self.target[1]].astype(float).astype(np.bool)\n",
    "\n",
    "        y = Surv.from_arrays(event, survival_time, \"Status\", \"Days\")\n",
    "\n",
    "        self.df = None\n",
    "\n",
    "        logger.info(\"Done!\")\n",
    "\n",
    "        return X, y\n",
    "    \n",
    "    def _calculate_egfr(self, creatinine, age, gender, race):\n",
    "        pass\n",
    "\n",
    "    def _get_difference_in_days(self, date1, date2):\n",
    "        date1_dict = eval(str(date1))\n",
    "        date2_dict = eval(str(date2))\n",
    "        \n",
    "        date1 = date1_dict['$date']\n",
    "        date2 = date2_dict['$date']\n",
    "\n",
    "        if isinstance(date1, str) and (date2, str):\n",
    "            date1_object = datetime.datetime.strptime(date1, \"%Y-%m-%dT%H:%M:%SZ\")\n",
    "            date2_object = datetime.datetime.strptime(date2, \"%Y-%m-%dT%H:%M:%SZ\")\n",
    "\n",
    "            difference = date2_object - date1_object\n",
    "            return difference.days\n",
    "        else:\n",
    "            return"
   ]
  },
  {
   "cell_type": "code",
   "execution_count": 3,
   "metadata": {},
   "outputs": [
    {
     "name": "stderr",
     "output_type": "stream",
     "text": [
      "2024-02-27 18:48:18,932 - Loading data into pandas DataFrame...\n",
      "2024-02-27 18:49:31,936 - Done! Loaded df of shape (993806, 56)\n",
      "2024-02-27 18:49:42,065 - (112949, 57)\n",
      "2024-02-27 18:49:42,066 - Dropping nan values...\n",
      "2024-02-27 18:49:42,789 - Done!\n",
      "2024-02-27 18:49:42,792 - Dividing data into X and y...\n",
      "2024-02-27 18:49:43,204 - Done!\n"
     ]
    }
   ],
   "source": [
    "loader = ScikitSurvivalDataLoader()\n",
    "\n",
    "X, y = loader.load()"
   ]
  },
  {
   "cell_type": "code",
   "execution_count": 4,
   "metadata": {},
   "outputs": [
    {
     "data": {
      "text/plain": [
       "(61589, 38)"
      ]
     },
     "execution_count": 4,
     "metadata": {},
     "output_type": "execute_result"
    }
   ],
   "source": [
    "X.shape"
   ]
  },
  {
   "cell_type": "code",
   "execution_count": 5,
   "metadata": {},
   "outputs": [],
   "source": [
    "from sksurv.metrics import (\n",
    "    concordance_index_censored,\n",
    "    concordance_index_ipcw,\n",
    "    cumulative_dynamic_auc,\n",
    "    integrated_brier_score,\n",
    ")\n",
    "\n",
    "def evaluate_model(model, test_X, test_y, train_y, times):\n",
    "    pred = model.predict(test_X)\n",
    "    surv_fn = model.predict_survival_function(test_X, return_array=False)\n",
    "    surv_prob = np.row_stack([fn(times) for fn in surv_fn])\n",
    "\n",
    "    uno_concordance = concordance_index_ipcw(train_y, test_y, pred, tau=times[-1])\n",
    "    ibs = integrated_brier_score(train_y, test_y, surv_prob, times)\n",
    "    auc, mean_auc = cumulative_dynamic_auc(train_y, test_y, pred, times)\n",
    "\n",
    "    print(f\"Concordance Uno: {round(uno_concordance[0], 3)}\")\n",
    "    print(f\"IBS: {round(ibs, 3)}\")\n",
    "    print(f\"Mean AUC: {round(mean_auc,3)}\")\n",
    "\n",
    "    return uno_concordance, ibs, mean_auc"
   ]
  },
  {
   "cell_type": "code",
   "execution_count": 6,
   "metadata": {},
   "outputs": [],
   "source": [
    "X_train, X_test, y_train, y_test = train_test_split(X, y, test_size=0.2, stratify=y[\"Status\"], random_state=42)"
   ]
  },
  {
   "cell_type": "code",
   "execution_count": null,
   "metadata": {},
   "outputs": [],
   "source": [
    "import pickle\n",
    "\n",
    "lower, upper = np.percentile(y[\"Days\"], [10, 90])\n",
    "times = np.arange(lower, upper + 1)\n",
    "\n",
    "with open('pickle/models/RSF_LIVING_FINAL_50E.pkl', 'rb') as file:\n",
    "    best_model = pickle.load(file)"
   ]
  },
  {
   "cell_type": "code",
   "execution_count": null,
   "metadata": {},
   "outputs": [
    {
     "name": "stdout",
     "output_type": "stream",
     "text": [
      "Concordance Uno: 0.723\n",
      "IBS: 0.139\n",
      "Mean AUC: 0.744\n"
     ]
    },
    {
     "data": {
      "text/plain": [
       "((0.7228369196476826, 19360665, 7547153, 552, 5154),\n",
       " 0.13900993221935395,\n",
       " 0.7435592864294556)"
      ]
     },
     "execution_count": 8,
     "metadata": {},
     "output_type": "execute_result"
    }
   ],
   "source": [
    "evaluate_model(best_model, X_test, y_test, y_train, times)"
   ]
  },
  {
   "cell_type": "code",
   "execution_count": null,
   "metadata": {},
   "outputs": [
    {
     "data": {
      "text/plain": [
       "Text(0, 0.5, 'time-dependent Brier Score')"
      ]
     },
     "execution_count": 9,
     "metadata": {},
     "output_type": "execute_result"
    },
    {
     "data": {
      "image/png": "[encoded data removed]",
      "text/plain": [
       "<Figure size 720x432 with 1 Axes>"
      ]
     },
     "metadata": {
      "needs_background": "light"
     },
     "output_type": "display_data"
    }
   ],
   "source": [
    "import matplotlib.pyplot as plt\n",
    "from sksurv.metrics import brier_score\n",
    "\n",
    "surv_fn = best_model.predict_survival_function(X_test, return_array=False)\n",
    "\n",
    "surv_prob = np.row_stack([fn(times) for fn in surv_fn])\n",
    "\n",
    "bs = brier_score(y_train, y_test, surv_prob, times)\n",
    "\n",
    "# plt.figure(figsize=(10,6))\n",
    "# plt.plot(bs[0], bs[1], marker=\",\")\n",
    "# # plt.axhline(ibs, linestyle=\"--\")\n",
    "# # plt.text(5, 0, \"{model}\", fontsize=12)\n",
    "# plt.title(\"Time-dependent Brier Score for the Random Survival Forest\")\n",
    "# plt.xlabel(\"days\")\n",
    "# plt.ylabel(\"time-dependent Brier Score\")"
   ]
  },
  {
   "cell_type": "code",
   "execution_count": null,
   "metadata": {},
   "outputs": [],
   "source": [
    "# with open('pickle/models/RSF_LIVING_FINAL_BRIER_SCORE.pkl', 'wb') as file:\n",
    "#     pickle.dump(bs, file)"
   ]
  },
  {
   "cell_type": "code",
   "execution_count": null,
   "metadata": {},
   "outputs": [],
   "source": [
    "lower, upper = np.percentile(y_train[\"Days\"], [10, 90])\n",
    "times = np.arange(lower, upper + 1)\n",
    "cph_risk_scores = best_model.predict(X_test)\n",
    "auc, mean_auc = cumulative_dynamic_auc(y_train, y_test, cph_risk_scores, times)"
   ]
  },
  {
   "cell_type": "code",
   "execution_count": null,
   "metadata": {},
   "outputs": [],
   "source": [
    "\n",
    "with open('pickle/models/AUC_RSF_LIVING_FINAL.pickle', 'wb') as f:\n",
    "    pickle.dump((times, auc, mean_auc), f)"
   ]
  },
  {
   "cell_type": "code",
   "execution_count": null,
   "metadata": {},
   "outputs": [],
   "source": [
    "stop"
   ]
  },
  {
   "cell_type": "markdown",
   "metadata": {},
   "source": [
    "# RSF fine-tuning"
   ]
  },
  {
   "cell_type": "code",
   "execution_count": null,
   "metadata": {},
   "outputs": [
    {
     "data": {
      "application/vnd.jupyter.widget-view+json": {
       "model_id": "7515a9a4cb0d4f389f1f2ff19d22ba08",
       "version_major": 2,
       "version_minor": 0
      },
      "text/plain": [
       "Hyperparameter Tuning:   0%|          | 0/3 [00:00<?, ?it/s]"
      ]
     },
     "metadata": {},
     "output_type": "display_data"
    }
   ],
   "source": [
    "from tqdm.notebook import tqdm\n",
    "from sksurv.metrics import concordance_index_ipcw\n",
    "\n",
    "train_num = 1000\n",
    "test_num = 100\n",
    "\n",
    "n_estimators = [50,] # 1, 5, 10, 30, 50, 70]\n",
    "max_depth = [12] # 2,4, 6, 8, 10, 12, 14 # picked\n",
    "min_samples_split = [16] # 2, 4, 6, 8  10, 12, 14, 16, 18 # picked\n",
    "max_features = [ None]\n",
    "\n",
    "lower, upper = np.percentile(y[\"Days\"], [10, 90])\n",
    "times = np.arange(lower, upper + 1)\n",
    "\n",
    "rsf = RandomSurvivalForest(n_jobs=-1)\n",
    "\n",
    "best_rsf_model = None\n",
    "highest_cindex = 0\n",
    "best_params = None\n",
    "\n",
    "pbar = tqdm(total = len(n_estimators)*len(max_depth)*len(min_samples_split)*len(max_features), desc='Hyperparameter Tuning')\n",
    "\n",
    "for n_estimator in n_estimators:\n",
    "    for depth in max_depth:\n",
    "        for split in min_samples_split:\n",
    "            for feature in max_features:\n",
    "                rsf.set_params(n_estimators=n_estimator, max_depth=depth, min_samples_split=split, max_features=feature)\n",
    "                rsf.fit(X_train[train_num:], y_train[train_num:])\n",
    "                pred = rsf.predict(X_test[test_num:])\n",
    "                uno_concordance = concordance_index_ipcw(y_train[train_num:], y_test[test_num:], pred, tau=times[-1])\n",
    "                uno = float(uno_concordance[0])\n",
    "                if uno > highest_cindex:\n",
    "                    highest_cindex = uno\n",
    "                    best_params = (n_estimator, depth, split, feature)\n",
    "                    best_rsf_model = rsf\n",
    "                pbar.update(1)"
   ]
  },
  {
   "cell_type": "code",
   "execution_count": null,
   "metadata": {},
   "outputs": [
    {
     "name": "stdout",
     "output_type": "stream",
     "text": [
      "Best params: (50, 12, 16, None)\n",
      "Best Uno: 0.7228909778597444\n"
     ]
    }
   ],
   "source": [
    "print(f\"Best params: {best_params}\")\n",
    "print(f\"Best Uno: {highest_cindex}\")"
   ]
  },
  {
   "cell_type": "markdown",
   "metadata": {},
   "source": [
    "Best params: (10, 6, 4, None)\n",
    "Best Uno: 0.7116080806020363 - 33min on 1000 records, 18 iterations\n",
    "\n",
    "Best params: (10, 10, 6, None)\n",
    "Best Uno: 0.7191111961388634\n",
    "\n",
    "Best params: (50, 10, 8, None)\n",
    "Best Uno: 0.7231445056145038\n",
    "\n",
    "Best params: (50, 12, 14, None)\n",
    "Best Uno: 0.7225197045158794 // 0.7730664440676259 on unseen data\n",
    "\n",
    "Best params: (50, 12, 16, None)\n",
    "Best Uno: 0.7228909778597444 // 0.723011869663161 on the whole test set\n",
    "the first observation - RSF is able to learn to generalize pretty well on small amount of data (1000 samples)"
   ]
  },
  {
   "cell_type": "code",
   "execution_count": null,
   "metadata": {},
   "outputs": [
    {
     "data": {
      "text/plain": [
       "0.723011869663161"
      ]
     },
     "execution_count": 31,
     "metadata": {},
     "output_type": "execute_result"
    }
   ],
   "source": [
    "pred = rsf.predict(X_test)\n",
    "uno_concordance = concordance_index_ipcw(y_train[train_num:], y_test, pred, tau=times[-1])\n",
    "uno = float(uno_concordance[0])\n",
    "uno"
   ]
  },
  {
   "cell_type": "markdown",
   "metadata": {},
   "source": [
    "# RSF train"
   ]
  },
  {
   "cell_type": "code",
   "execution_count": 8,
   "metadata": {},
   "outputs": [
    {
     "data": {
      "text/plain": [
       "RandomSurvivalForest(max_depth=12, max_features=None, min_samples_split=16,\n",
       "                     n_estimators=50)"
      ]
     },
     "execution_count": 8,
     "metadata": {},
     "output_type": "execute_result"
    }
   ],
   "source": [
    "best_rsf = RandomSurvivalForest(n_estimators=50, max_depth=12, min_samples_split=16, max_features=None)\n",
    "best_rsf.fit(X_train, y_train)"
   ]
  },
  {
   "cell_type": "code",
   "execution_count": 10,
   "metadata": {},
   "outputs": [
    {
     "data": {
      "text/plain": [
       "0.7180275043864234"
      ]
     },
     "execution_count": 10,
     "metadata": {},
     "output_type": "execute_result"
    }
   ],
   "source": [
    "lower, upper = np.percentile(y[\"Days\"], [10, 90])\n",
    "times = np.arange(lower, upper + 1)\n",
    "\n",
    "pred = best_rsf.predict(X_test)\n",
    "uno_concordance = concordance_index_ipcw(y_train, y_test, pred, tau=times[-1])\n",
    "uno = float(uno_concordance[0])\n",
    "uno"
   ]
  },
  {
   "cell_type": "markdown",
   "metadata": {},
   "source": [
    "0.7228369196476826 - was"
   ]
  },
  {
   "cell_type": "code",
   "execution_count": null,
   "metadata": {},
   "outputs": [
    {
     "name": "stdout",
     "output_type": "stream",
     "text": [
      "Integrated Brier Score: 0.1390655175499429\n"
     ]
    }
   ],
   "source": [
    "from sksurv.metrics import brier_score, integrated_brier_score\n",
    "\n",
    "# surv_fn = best_rsf.predict_survival_function(X_test, return_array=False)\n",
    "surv_fn = rsf.predict_survival_function(X_test, return_array=False)\n",
    "\n",
    "surv_prob = np.row_stack([fn(times) for fn in surv_fn])\n",
    "\n",
    "bs = brier_score(y_train, y_test, surv_prob, times)\n",
    "ibs = integrated_brier_score(y_train, y_test, surv_prob, times)#times)\n",
    "print('Integrated Brier Score:', ibs)\n",
    "\n",
    "# full model: Integrated Brier Score: 0.13900993221935395\n",
    "# 1000 instances: Integrated Brier Score: 0.1390655175499429"
   ]
  },
  {
   "cell_type": "markdown",
   "metadata": {},
   "source": [
    "### RSF on small amount of samples"
   ]
  },
  {
   "cell_type": "code",
   "execution_count": null,
   "metadata": {},
   "outputs": [
    {
     "data": {
      "text/plain": [
       "RandomSurvivalForest(max_depth=12, max_features=None, min_samples_split=16,\n",
       "                     n_estimators=80)"
      ]
     },
     "execution_count": 5,
     "metadata": {},
     "output_type": "execute_result"
    }
   ],
   "source": [
    "rsf100 = RandomSurvivalForest(n_estimators=50, max_depth=12, min_samples_split=16, max_features=None)\n",
    "rsf100.fit(X_train[1500:], y_train[1500:])"
   ]
  },
  {
   "cell_type": "code",
   "execution_count": null,
   "metadata": {},
   "outputs": [
    {
     "name": "stdout",
     "output_type": "stream",
     "text": [
      "Uno Concordance:  0.7228517146540674\n",
      "Integrated Brier Score: 0.13903697824746727\n"
     ]
    }
   ],
   "source": [
    "from sksurv.metrics import (\n",
    "    concordance_index_ipcw,\n",
    "    integrated_brier_score,\n",
    "    brier_score\n",
    ")\n",
    "\n",
    "lower, upper = np.percentile(y[\"Days\"], [10, 90])\n",
    "times = np.arange(lower, upper + 1)\n",
    "\n",
    "pred = rsf100.predict(X_test)\n",
    "uno_concordance = concordance_index_ipcw(y_train, y_test, pred, tau=times[-1])\n",
    "uno = float(uno_concordance[0])\n",
    "print(\"Uno Concordance: \", uno)\n",
    "\n",
    "surv_fn = rsf100.predict_survival_function(X_test, return_array=False)\n",
    "surv_prob = np.row_stack([fn(times) for fn in surv_fn])\n",
    "\n",
    "bs = brier_score(y_train, y_test, surv_prob, times)\n",
    "ibs = integrated_brier_score(y_train, y_test, surv_prob, times)#times)\n",
    "print('Integrated Brier Score:', ibs)"
   ]
  },
  {
   "cell_type": "markdown",
   "metadata": {},
   "source": [
    "Upping estimators does not make sense. No change for too much time.\n",
    "Small training set "
   ]
  },
  {
   "cell_type": "markdown",
   "metadata": {},
   "source": [
    "# Eval"
   ]
  },
  {
   "cell_type": "code",
   "execution_count": null,
   "metadata": {},
   "outputs": [],
   "source": [
    "best_rsf = RandomSurvivalForest(n_jobs=-1,\n",
    "                              n_estimators=70,\n",
    "                              max_depth=10,\n",
    "                              min_samples_split=10,\n",
    "                              max_features=None,\n",
    "                               verbose=1\n",
    "                              )\n",
    "best_rsf.fit(X_train, y_train)\n"
   ]
  },
  {
   "cell_type": "code",
   "execution_count": null,
   "metadata": {},
   "outputs": [],
   "source": [
    "# import pickle\n",
    "\n",
    "# with open('pickle/models/RSF_LIVING_FINAL.pkl', 'wb') as file:\n",
    "#             pickle.dump(best_rsf, file)"
   ]
  },
  {
   "cell_type": "code",
   "execution_count": null,
   "metadata": {},
   "outputs": [
    {
     "name": "stderr",
     "output_type": "stream",
     "text": [
      "[Parallel(n_jobs=16)]: Using backend ThreadingBackend with 16 concurrent workers.\n",
      "[Parallel(n_jobs=16)]: Done  18 tasks      | elapsed:    0.7s\n",
      "[Parallel(n_jobs=16)]: Done  70 out of  70 | elapsed:    1.7s finished\n"
     ]
    },
    {
     "data": {
      "text/plain": [
       "(0.7259655087331299, 5545230, 2159184, 540, 1730)"
      ]
     },
     "execution_count": 9,
     "metadata": {},
     "output_type": "execute_result"
    }
   ],
   "source": [
    "lower, upper = np.percentile(y[\"Days\"], [10, 90])\n",
    "times = np.arange(lower, upper + 1)\n",
    "\n",
    "SurvivalEstimatorEvaluation.evaluate_model_uno_c(best_rsf, X_test, y_test, y_train, times)"
   ]
  },
  {
   "cell_type": "code",
   "execution_count": null,
   "metadata": {},
   "outputs": [
    {
     "name": "stderr",
     "output_type": "stream",
     "text": [
      "[Parallel(n_jobs=16)]: Using backend ThreadingBackend with 16 concurrent workers.\n",
      "[Parallel(n_jobs=16)]: Done  18 tasks      | elapsed:    0.7s\n",
      "[Parallel(n_jobs=16)]: Done  70 out of  70 | elapsed:    1.7s finished\n"
     ]
    }
   ],
   "source": [
    "auc_score, mean_auc = SurvivalEstimatorEvaluation.evaluate_model_auc(best_rsf, X_test, y_test, y_train, times)"
   ]
  },
  {
   "cell_type": "code",
   "execution_count": null,
   "metadata": {},
   "outputs": [
    {
     "data": {
      "text/plain": [
       "Text(0, 0.5, 'Time-dependent AUC')"
      ]
     },
     "execution_count": 11,
     "metadata": {},
     "output_type": "execute_result"
    },
    {
     "data": {
      "image/png": "[encoded data removed]",
      "text/plain": [
       "<Figure size 720x432 with 1 Axes>"
      ]
     },
     "metadata": {
      "needs_background": "light"
     },
     "output_type": "display_data"
    }
   ],
   "source": [
    "#print AUC\n",
    "\n",
    "plt.figure(figsize=(10,6))\n",
    "plt.plot(times, auc_score, marker=\",\")\n",
    "plt.axhline(mean_auc, linestyle=\"--\", label=\"Mean AUC\")\n",
    "# plt.text(5, 0, \"{model}\", fontsize=12)\n",
    "plt.title(\"Time-dependent Area under the ROC for the Random Survival Forest\")\n",
    "plt.xlabel(\"Days\")\n",
    "plt.legend(loc='lower right')\n",
    "plt.ylabel(\"Time-dependent AUC\")"
   ]
  },
  {
   "cell_type": "code",
   "execution_count": null,
   "metadata": {},
   "outputs": [
    {
     "name": "stderr",
     "output_type": "stream",
     "text": [
      "[Parallel(n_jobs=16)]: Using backend ThreadingBackend with 16 concurrent workers.\n",
      "[Parallel(n_jobs=16)]: Done  18 tasks      | elapsed:    1.4s\n",
      "[Parallel(n_jobs=16)]: Done  70 out of  70 | elapsed:    4.5s finished\n"
     ]
    },
    {
     "name": "stdout",
     "output_type": "stream",
     "text": [
      "Integrated Brier Score: 0.12877587894572215\n"
     ]
    }
   ],
   "source": [
    "surv_fn = best_rsf.predict_survival_function(X_test, return_array=False)\n",
    "\n",
    "surv_prob = np.row_stack([fn(times) for fn in surv_fn])\n",
    "\n",
    "bs = brier_score(y_train, y_test, surv_prob, times)\n",
    "ibs = integrated_brier_score(y_train, y_test, surv_prob, times)#times)\n",
    "print('Integrated Brier Score:', ibs)"
   ]
  },
  {
   "cell_type": "code",
   "execution_count": null,
   "metadata": {},
   "outputs": [
    {
     "data": {
      "text/plain": [
       "Text(0, 0.5, 'time-dependent Brier Score')"
      ]
     },
     "execution_count": 13,
     "metadata": {},
     "output_type": "execute_result"
    },
    {
     "data": {
      "image/png": "[encoded data removed]",
      "text/plain": [
       "<Figure size 720x432 with 1 Axes>"
      ]
     },
     "metadata": {
      "needs_background": "light"
     },
     "output_type": "display_data"
    }
   ],
   "source": [
    "plt.figure(figsize=(10,6))\n",
    "plt.plot(bs[0], bs[1], marker=\",\")\n",
    "# plt.axhline(ibs, linestyle=\"--\")\n",
    "# plt.text(5, 0, \"{model}\", fontsize=12)\n",
    "plt.title(\"Time-dependent Brier Score for the Random Survival Forest\")\n",
    "plt.xlabel(\"days\")\n",
    "plt.ylabel(\"time-dependent Brier Score\")"
   ]
  },
  {
   "cell_type": "code",
   "execution_count": null,
   "metadata": {},
   "outputs": [],
   "source": [
    "# SurvivalEstimatorEvaluation.print_feature_importances(best_rsf,X_train[500:],y_train[500:])"
   ]
  },
  {
   "cell_type": "code",
   "execution_count": null,
   "metadata": {},
   "outputs": [],
   "source": [
    "# lower, upper = np.percentile(y[\"Days\"], [10, 90])\n",
    "# times = np.arange(lower, upper + 1)\n",
    "\n",
    "# surv = best_rsf.predict_survival_function(X_test, return_array=False)"
   ]
  },
  {
   "cell_type": "code",
   "execution_count": null,
   "metadata": {},
   "outputs": [],
   "source": [
    "# surv_prob = np.row_stack([fn(times) for fn in surv])\n",
    "\n",
    "# ibs = integrated_brier_score(y_train, y_test, surv_prob, times)#best_rsf.event_times_)\n",
    "# print('Integrated Brier Score:', round(ibs,3))\n"
   ]
  },
  {
   "cell_type": "markdown",
   "metadata": {},
   "source": [
    "# RSF finetuning"
   ]
  },
  {
   "cell_type": "code",
   "execution_count": null,
   "metadata": {},
   "outputs": [],
   "source": [
    "from sksurv.ensemble import RandomSurvivalForest\n",
    "from tqdm import tqdm\n",
    "\n",
    "# n_estimators = [70, 80, 90]\n",
    "# max_depth = [5,7]\n",
    "# min_samples_split = [10, 12, 14]\n",
    "# max_features = [None]\n",
    "\n",
    "n_estimators = [30, 50, 70]\n",
    "max_depth = [6, 8, 10, 12]\n",
    "min_samples_split = [10, 12, 14]\n",
    "max_features = [ None]\n",
    "\n",
    "best_params = None\n",
    "lowest_ibs = 1\n",
    "best_rsf_model = None\n",
    "\n",
    "\n",
    "\n",
    "rsf_gr = RandomSurvivalForest(n_jobs=-1)\n",
    "pbar = tqdm(total = len(n_estimators)*len(max_depth)*len(min_samples_split)\n",
    "            *len(max_features), desc='Hyperparameter Tuning')\n",
    "\n",
    "for n in n_estimators:\n",
    "    for depth in max_depth:\n",
    "        for min_split in min_samples_split:\n",
    "            for max_feat in max_features:\n",
    "                rsf_gr.set_params(n_estimators=n, \n",
    "                                  max_depth=depth, \n",
    "                                  min_samples_split=min_split, \n",
    "                                  max_features=max_feat)\n",
    "                rsf_gr, ibs = train_model(rsf_gr, \n",
    "                                          X, y)\n",
    "\n",
    "                # ibs = float(uno[0])\n",
    "                if ibs < lowest_ibs:\n",
    "                    lowest_ibs = ibs\n",
    "                    best_params = (n, depth, min_split, max_feat)\n",
    "                    best_rsf_model = rsf_gr\n",
    "\n",
    "                # Update the progress bar\n",
    "                pbar.update()\n",
    "\n",
    "# Close the progress bar\n",
    "pbar.close() \n",
    "\n",
    "print(best_params, lowest_ibs)"
   ]
  },
  {
   "cell_type": "code",
   "execution_count": null,
   "metadata": {},
   "outputs": [],
   "source": [
    "print(best_params, lowest_ibs)"
   ]
  }
 ],
 "metadata": {
  "kernelspec": {
   "display_name": "Python 3",
   "language": "python",
   "name": "python3"
  },
  "language_info": {
   "codemirror_mode": {
    "name": "ipython",
    "version": 3
   },
   "file_extension": ".py",
   "mimetype": "text/x-python",
   "name": "python",
   "nbconvert_exporter": "python",
   "pygments_lexer": "ipython3",
   "version": "3.6.8"
  },
  "orig_nbformat": 4
 },
 "nbformat": 4,
 "nbformat_minor": 2
}
