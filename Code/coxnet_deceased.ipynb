{
 "cells": [
  {
   "cell_type": "code",
   "execution_count": 2,
   "metadata": {},
   "outputs": [],
   "source": [
    "import pickle\n",
    "import pandas as pd\n",
    "import numpy as np\n",
    "from sklearn.compose import ColumnTransformer\n",
    "from sklearn.pipeline import Pipeline\n",
    "from sklearn.preprocessing import StandardScaler, OneHotEncoder\n",
    "from sksurv.preprocessing import OneHotEncoder as SurvOneHotEncoder\n",
    "from sksurv.util import Surv\n",
    "\n",
    "from sksurv.column import encode_categorical\n",
    "from sksurv.column import standardize\n",
    "\n",
    "from sksurv.metrics import (\n",
    "    concordance_index_censored,\n",
    "    concordance_index_ipcw,\n",
    "    cumulative_dynamic_auc,\n",
    "    integrated_brier_score,\n",
    "    brier_score\n",
    ")\n",
    "\n",
    "# Train data\n",
    "# pickle_file = 'data/DATA_COXNET_DECEASED.pickle'\n",
    "# with open(pickle_file, 'rb') as f:\n",
    "#     X, y = pickle.load(f)\n",
    "pd.set_option('display.max_rows', 500)"
   ]
  },
  {
   "cell_type": "code",
   "execution_count": 6,
   "metadata": {},
   "outputs": [],
   "source": [
    "# pickle_file = 'data/COX_DATA_FULL_DECEASED_EXPERIMENTAL.pkl'\n",
    "# pickle_file = 'data/DATA_DECEASED.pkl'\n",
    "pickle_file = 'data/DATA_DECEASED_ex.pkl'\n",
    "\n",
    "with open(pickle_file, 'rb') as f:\n",
    "    dataset = pickle.load(f)"
   ]
  },
  {
   "cell_type": "code",
   "execution_count": 27,
   "metadata": {},
   "outputs": [],
   "source": [
    "dataset.to_csv('data/DATA_DECEASED_ex.csv', index=False)"
   ]
  },
  {
   "cell_type": "code",
   "execution_count": 4,
   "metadata": {},
   "outputs": [],
   "source": [
    "numeric_features = [\n",
    "    \"AGE\",\n",
    "    \"BMI_CALC\",\n",
    "    \"AGE_DON\",\n",
    "    \"CREAT_TRR\",\n",
    "    \"NPKID\",\n",
    "    \"COLD_ISCH_KI\",\n",
    "    \"DIALYSIS_TIME\",\n",
    "    \"KDPI\",\n",
    "]\n",
    "categorical_features = [\n",
    "    \"ON_DIALYSIS\",\n",
    "    \"PRE_TX_TXFUS\",\n",
    "    \"GENDER\",\n",
    "    \"ETHCAT\",\n",
    "    \"DIABETES_DON\",\n",
    "    \"DIAB\",\n",
    "    \"HCV_SEROSTATUS\",\n",
    "]\n"
   ]
  },
  {
   "cell_type": "code",
   "execution_count": 7,
   "metadata": {},
   "outputs": [
    {
     "data": {
      "text/plain": [
       "AGE              float64\n",
       "BMI_CALC         float64\n",
       "AGE_DON          float64\n",
       "CREAT_TRR        float64\n",
       "NPKID            float64\n",
       "COLD_ISCH_KI     float64\n",
       "DIALYSIS_TIME    float64\n",
       "KDPI             float64\n",
       "dtype: object"
      ]
     },
     "execution_count": 7,
     "metadata": {},
     "output_type": "execute_result"
    }
   ],
   "source": [
    "dataset[numeric_features].dtypes"
   ]
  },
  {
   "cell_type": "code",
   "execution_count": 8,
   "metadata": {},
   "outputs": [
    {
     "data": {
      "text/html": [
       "<div>\n",
       "<style scoped>\n",
       "    .dataframe tbody tr th:only-of-type {\n",
       "        vertical-align: middle;\n",
       "    }\n",
       "\n",
       "    .dataframe tbody tr th {\n",
       "        vertical-align: top;\n",
       "    }\n",
       "\n",
       "    .dataframe thead th {\n",
       "        text-align: right;\n",
       "    }\n",
       "</style>\n",
       "<table border=\"1\" class=\"dataframe\">\n",
       "  <thead>\n",
       "    <tr style=\"text-align: right;\">\n",
       "      <th></th>\n",
       "      <th>AGE</th>\n",
       "      <th>BMI_CALC</th>\n",
       "      <th>AGE_DON</th>\n",
       "      <th>CREAT_TRR</th>\n",
       "      <th>NPKID</th>\n",
       "      <th>COLD_ISCH_KI</th>\n",
       "      <th>DIALYSIS_TIME</th>\n",
       "      <th>KDPI</th>\n",
       "    </tr>\n",
       "  </thead>\n",
       "  <tbody>\n",
       "    <tr>\n",
       "      <th>0.01</th>\n",
       "      <td>20.0</td>\n",
       "      <td>17.5</td>\n",
       "      <td>1.0</td>\n",
       "      <td>1.8</td>\n",
       "      <td>0.0</td>\n",
       "      <td>3.1235</td>\n",
       "      <td>0.00</td>\n",
       "      <td>1.0</td>\n",
       "    </tr>\n",
       "    <tr>\n",
       "      <th>0.99</th>\n",
       "      <td>76.0</td>\n",
       "      <td>41.6</td>\n",
       "      <td>70.0</td>\n",
       "      <td>18.5</td>\n",
       "      <td>1.0</td>\n",
       "      <td>45.0000</td>\n",
       "      <td>5037.65</td>\n",
       "      <td>97.0</td>\n",
       "    </tr>\n",
       "  </tbody>\n",
       "</table>\n",
       "</div>"
      ],
      "text/plain": [
       "       AGE  BMI_CALC  AGE_DON  CREAT_TRR  NPKID  COLD_ISCH_KI  DIALYSIS_TIME  \\\n",
       "0.01  20.0      17.5      1.0        1.8    0.0        3.1235           0.00   \n",
       "0.99  76.0      41.6     70.0       18.5    1.0       45.0000        5037.65   \n",
       "\n",
       "      KDPI  \n",
       "0.01   1.0  \n",
       "0.99  97.0  "
      ]
     },
     "execution_count": 8,
     "metadata": {},
     "output_type": "execute_result"
    }
   ],
   "source": [
    "dataset[numeric_features].quantile([0.01, 0.99]) # for synthetic data generation"
   ]
  },
  {
   "cell_type": "code",
   "execution_count": 9,
   "metadata": {},
   "outputs": [],
   "source": [
    "numeric_transformer = Pipeline(steps=[\n",
    "    ('scaler', StandardScaler())\n",
    "])\n",
    "\n",
    "categorical_transformer = Pipeline(steps=[\n",
    "    ('encoder', OneHotEncoder(handle_unknown='ignore'))\n",
    "])\n",
    "\n",
    "# Combine transformations for all features\n",
    "preprocessor = ColumnTransformer(\n",
    "    transformers=[\n",
    "        ('num', numeric_transformer, numeric_features),\n",
    "        ('cat', categorical_transformer, categorical_features)\n",
    "    ]\n",
    ")\n",
    "\n",
    "# Set up the final pipeline\n",
    "pipeline = Pipeline(steps=[\n",
    "    ('preprocessor', preprocessor)\n",
    "])\n",
    "\n",
    "# Apply preprocessing to X\n",
    "X = pipeline.fit_transform(dataset[categorical_features + numeric_features ])\n",
    "\n",
    "# categorical_x = encode_categorical(dataset[categorical_features])\n",
    "# numerical_x = standardize(dataset[numeric_features])\n",
    "# X = pd.concat([numerical_x, categorical_x], axis=1)\n",
    "\n",
    "survival_time = dataset[\"PTIME\"].astype(np.float64)\n",
    "event = dataset[\"PSTATUS\"].astype(float).astype(bool)\n",
    "\n",
    "y = Surv.from_arrays(event, survival_time, \"Status\", \"Days\")\n",
    "\n",
    "with open('pickle/trained_pipeline.pkl', 'wb') as file:\n",
    "    pickle.dump(pipeline, file)"
   ]
  },
  {
   "cell_type": "code",
   "execution_count": 10,
   "metadata": {},
   "outputs": [],
   "source": [
    "from sksurv.column import encode_categorical\n",
    "from sksurv.column import standardize\n",
    "from sksurv.util import Surv\n",
    "\n",
    "from surv_data_pipeline.columns import COLUMNS\n",
    "from sklearn.model_selection import train_test_split\n",
    "from sksurv.ensemble import RandomSurvivalForest\n",
    "\n",
    "X_train, X_test, y_train, y_test = train_test_split(X, y, test_size=0.2, stratify=y[\"Status\"], random_state=42)\n"
   ]
  },
  {
   "cell_type": "code",
   "execution_count": 11,
   "metadata": {},
   "outputs": [],
   "source": [
    "from sksurv.linear_model import CoxnetSurvivalAnalysis\n",
    "\n",
    "cox = CoxnetSurvivalAnalysis(l1_ratio=0.9, alpha_min_ratio=0.01, max_iter=1000)\n",
    "cox.fit(X_train, y_train)\n",
    "\n",
    "estimated_alphas = cox.alphas_\n",
    "l1_ratios = [0.8]"
   ]
  },
  {
   "cell_type": "code",
   "execution_count": 12,
   "metadata": {},
   "outputs": [],
   "source": [
    "from sksurv.metrics import (\n",
    "    concordance_index_censored,\n",
    "    concordance_index_ipcw,\n",
    "    cumulative_dynamic_auc,\n",
    "    integrated_brier_score,\n",
    ")\n",
    "\n",
    "def evaluate_model_uno_c(model, test_X, test_y, train_y, times):\n",
    "    pred = model.predict(test_X)\n",
    "    uno_concordance = concordance_index_ipcw(train_y, test_y, pred, tau=times[-1])\n",
    "    return uno_concordance"
   ]
  },
  {
   "cell_type": "code",
   "execution_count": 13,
   "metadata": {},
   "outputs": [
    {
     "name": "stderr",
     "output_type": "stream",
     "text": [
      "Hyperparameter Tuning: 100%|██████████| 100/100 [01:42<00:00,  1.04s/it]"
     ]
    }
   ],
   "source": [
    "from tqdm import tqdm\n",
    "import numpy as np\n",
    "\n",
    "best_params = None\n",
    "highest_cindex=0\n",
    "\n",
    "lower, upper = np.percentile(y[\"Days\"], [10, 90])\n",
    "times = np.arange(lower, upper + 1)\n",
    "\n",
    "cox_grid=CoxnetSurvivalAnalysis()\n",
    "\n",
    "pbar = tqdm(total = len(estimated_alphas)*len(l1_ratios), desc='Hyperparameter Tuning')\n",
    "\n",
    "for ratio in l1_ratios:\n",
    "    for alpha in estimated_alphas:\n",
    "        cox_grid.set_params(l1_ratio=ratio, alphas=[alpha])\n",
    "\n",
    "        cox_grid.fit(X_train, y_train)\n",
    "        uno_score = evaluate_model_uno_c(cox_grid, X_test, y_test, y_train, times)\n",
    "\n",
    "        uno = float(uno_score[0])\n",
    "        if uno > highest_cindex:\n",
    "            highest_cindex = uno\n",
    "            best_params = (ratio, alpha)\n",
    "            best_rsf_model = cox_grid\n",
    "\n",
    "        # Update the progress bar\n",
    "        pbar.update()"
   ]
  },
  {
   "cell_type": "code",
   "execution_count": 14,
   "metadata": {},
   "outputs": [
    {
     "data": {
      "text/plain": [
       "0.6945789845558723"
      ]
     },
     "execution_count": 14,
     "metadata": {},
     "output_type": "execute_result"
    }
   ],
   "source": [
    "highest_cindex"
   ]
  },
  {
   "cell_type": "code",
   "execution_count": 15,
   "metadata": {},
   "outputs": [
    {
     "data": {
      "text/plain": [
       "(0.8, 0.002711947206189305)"
      ]
     },
     "execution_count": 15,
     "metadata": {},
     "output_type": "execute_result"
    }
   ],
   "source": [
    "best_params"
   ]
  },
  {
   "cell_type": "code",
   "execution_count": 16,
   "metadata": {},
   "outputs": [
    {
     "data": {
      "text/html": [
       "<style>#sk-container-id-1 {color: black;}#sk-container-id-1 pre{padding: 0;}#sk-container-id-1 div.sk-toggleable {background-color: white;}#sk-container-id-1 label.sk-toggleable__label {cursor: pointer;display: block;width: 100%;margin-bottom: 0;padding: 0.3em;box-sizing: border-box;text-align: center;}#sk-container-id-1 label.sk-toggleable__label-arrow:before {content: \"▸\";float: left;margin-right: 0.25em;color: #696969;}#sk-container-id-1 label.sk-toggleable__label-arrow:hover:before {color: black;}#sk-container-id-1 div.sk-estimator:hover label.sk-toggleable__label-arrow:before {color: black;}#sk-container-id-1 div.sk-toggleable__content {max-height: 0;max-width: 0;overflow: hidden;text-align: left;background-color: #f0f8ff;}#sk-container-id-1 div.sk-toggleable__content pre {margin: 0.2em;color: black;border-radius: 0.25em;background-color: #f0f8ff;}#sk-container-id-1 input.sk-toggleable__control:checked~div.sk-toggleable__content {max-height: 200px;max-width: 100%;overflow: auto;}#sk-container-id-1 input.sk-toggleable__control:checked~label.sk-toggleable__label-arrow:before {content: \"▾\";}#sk-container-id-1 div.sk-estimator input.sk-toggleable__control:checked~label.sk-toggleable__label {background-color: #d4ebff;}#sk-container-id-1 div.sk-label input.sk-toggleable__control:checked~label.sk-toggleable__label {background-color: #d4ebff;}#sk-container-id-1 input.sk-hidden--visually {border: 0;clip: rect(1px 1px 1px 1px);clip: rect(1px, 1px, 1px, 1px);height: 1px;margin: -1px;overflow: hidden;padding: 0;position: absolute;width: 1px;}#sk-container-id-1 div.sk-estimator {font-family: monospace;background-color: #f0f8ff;border: 1px dotted black;border-radius: 0.25em;box-sizing: border-box;margin-bottom: 0.5em;}#sk-container-id-1 div.sk-estimator:hover {background-color: #d4ebff;}#sk-container-id-1 div.sk-parallel-item::after {content: \"\";width: 100%;border-bottom: 1px solid gray;flex-grow: 1;}#sk-container-id-1 div.sk-label:hover label.sk-toggleable__label {background-color: #d4ebff;}#sk-container-id-1 div.sk-serial::before {content: \"\";position: absolute;border-left: 1px solid gray;box-sizing: border-box;top: 0;bottom: 0;left: 50%;z-index: 0;}#sk-container-id-1 div.sk-serial {display: flex;flex-direction: column;align-items: center;background-color: white;padding-right: 0.2em;padding-left: 0.2em;position: relative;}#sk-container-id-1 div.sk-item {position: relative;z-index: 1;}#sk-container-id-1 div.sk-parallel {display: flex;align-items: stretch;justify-content: center;background-color: white;position: relative;}#sk-container-id-1 div.sk-item::before, #sk-container-id-1 div.sk-parallel-item::before {content: \"\";position: absolute;border-left: 1px solid gray;box-sizing: border-box;top: 0;bottom: 0;left: 50%;z-index: -1;}#sk-container-id-1 div.sk-parallel-item {display: flex;flex-direction: column;z-index: 1;position: relative;background-color: white;}#sk-container-id-1 div.sk-parallel-item:first-child::after {align-self: flex-end;width: 50%;}#sk-container-id-1 div.sk-parallel-item:last-child::after {align-self: flex-start;width: 50%;}#sk-container-id-1 div.sk-parallel-item:only-child::after {width: 0;}#sk-container-id-1 div.sk-dashed-wrapped {border: 1px dashed gray;margin: 0 0.4em 0.5em 0.4em;box-sizing: border-box;padding-bottom: 0.4em;background-color: white;}#sk-container-id-1 div.sk-label label {font-family: monospace;font-weight: bold;display: inline-block;line-height: 1.2em;}#sk-container-id-1 div.sk-label-container {text-align: center;}#sk-container-id-1 div.sk-container {/* jupyter's `normalize.less` sets `[hidden] { display: none; }` but bootstrap.min.css set `[hidden] { display: none !important; }` so we also need the `!important` here to be able to override the default hidden behavior on the sphinx rendered scikit-learn.org. See: https://github.com/scikit-learn/scikit-learn/issues/21755 */display: inline-block !important;position: relative;}#sk-container-id-1 div.sk-text-repr-fallback {display: none;}</style><div id=\"sk-container-id-1\" class=\"sk-top-container\"><div class=\"sk-text-repr-fallback\"><pre>CoxnetSurvivalAnalysis(alphas=[0.002711947206189305], fit_baseline_model=True,\n",
       "                       l1_ratio=0.8)</pre><b>In a Jupyter environment, please rerun this cell to show the HTML representation or trust the notebook. <br />On GitHub, the HTML representation is unable to render, please try loading this page with nbviewer.org.</b></div><div class=\"sk-container\" hidden><div class=\"sk-item\"><div class=\"sk-estimator sk-toggleable\"><input class=\"sk-toggleable__control sk-hidden--visually\" id=\"sk-estimator-id-1\" type=\"checkbox\" checked><label for=\"sk-estimator-id-1\" class=\"sk-toggleable__label sk-toggleable__label-arrow\">CoxnetSurvivalAnalysis</label><div class=\"sk-toggleable__content\"><pre>CoxnetSurvivalAnalysis(alphas=[0.002711947206189305], fit_baseline_model=True,\n",
       "                       l1_ratio=0.8)</pre></div></div></div></div></div>"
      ],
      "text/plain": [
       "CoxnetSurvivalAnalysis(alphas=[0.002711947206189305], fit_baseline_model=True,\n",
       "                       l1_ratio=0.8)"
      ]
     },
     "execution_count": 16,
     "metadata": {},
     "output_type": "execute_result"
    }
   ],
   "source": [
    "coxnet_pred = CoxnetSurvivalAnalysis(l1_ratio=best_params[0],alphas=[best_params[1]], fit_baseline_model=True)\n",
    "coxnet_pred.fit(X_train, y_train)"
   ]
  },
  {
   "cell_type": "code",
   "execution_count": 17,
   "metadata": {},
   "outputs": [
    {
     "data": {
      "text/plain": [
       "(0.6945789845558723, 102863351, 45651937, 2, 22189)"
      ]
     },
     "execution_count": 17,
     "metadata": {},
     "output_type": "execute_result"
    }
   ],
   "source": [
    "lower, upper = np.percentile(y[\"Days\"], [10, 90])\n",
    "times = np.arange(lower, upper + 1)\n",
    "\n",
    "evaluate_model_uno_c(coxnet_pred, X_test, y_test, y_train, times)"
   ]
  },
  {
   "cell_type": "markdown",
   "metadata": {},
   "source": [
    "0.689 without HLA. without scikit pipeline\n",
    "0.688 with HLA with scikit pipeline"
   ]
  },
  {
   "cell_type": "code",
   "execution_count": 18,
   "metadata": {},
   "outputs": [],
   "source": [
    "import pickle\n",
    "\n",
    "with open('pickle/COXNET_DECEASED_MODEL.pickle', 'wb') as f:\n",
    "    pickle.dump(coxnet_pred, f)"
   ]
  },
  {
   "cell_type": "code",
   "execution_count": 19,
   "metadata": {},
   "outputs": [
    {
     "data": {
      "text/plain": [
       "(23508,)"
      ]
     },
     "execution_count": 19,
     "metadata": {},
     "output_type": "execute_result"
    }
   ],
   "source": [
    "prediction = coxnet_pred.predict_survival_function(X_test)\n",
    "prediction.shape"
   ]
  },
  {
   "cell_type": "markdown",
   "metadata": {},
   "source": [
    "# Model Evaluation"
   ]
  },
  {
   "cell_type": "code",
   "execution_count": 20,
   "metadata": {},
   "outputs": [],
   "source": [
    "from surv_data_pipeline.estimator_evaluation import SurvivalEstimatorEvaluation\n",
    "import matplotlib.pyplot as plt\n",
    "\n",
    "# SurvivalEstimatorEvaluation.plot_time_dependent_auc(coxnet_pred, X_test, y_test, times)\n",
    "def plot_time_dependent_auc(model, x_test, y_test, y_train, name=None):\n",
    "    lower, upper = np.percentile(y_train[\"Days\"], [10, 90])\n",
    "    times = np.arange(lower, upper + 1)\n",
    "    print(\"predicting....\")\n",
    "    cph_risk_scores = model.predict(x_test)\n",
    "    print(\"calculating auc...\")\n",
    "    auc, mean_auc = cumulative_dynamic_auc(y_train, y_test, cph_risk_scores, times)\n",
    "    print(\"plotting inside...\")\n",
    "    plt.plot(times, auc, marker=\",\")\n",
    "    plt.axhline(mean_auc, linestyle=\"--\")\n",
    "    # plt.text(5, 0, \"{model}\", fontsize=12)\n",
    "    plt.xlabel(\"days\")\n",
    "    plt.ylabel(\"time-dependent AUC\")\n",
    "    plt.grid(True)\n",
    "    if name is not None:\n",
    "        plt.savefig(f\"/mnt/lustre/helios-home/stadnkyr/AUC_results/{name}_MAUC_{mean_auc}.png\")\n",
    "    plt.show()"
   ]
  },
  {
   "cell_type": "code",
   "execution_count": 21,
   "metadata": {},
   "outputs": [
    {
     "name": "stdout",
     "output_type": "stream",
     "text": [
      "predicting....\n",
      "calculating auc...\n",
      "plotting inside...\n"
     ]
    },
    {
     "data": {
      "image/png": "[encoded data removed]",
      "text/plain": [
       "<Figure size 640x480 with 1 Axes>"
      ]
     },
     "metadata": {},
     "output_type": "display_data"
    }
   ],
   "source": [
    "plot_time_dependent_auc(coxnet_pred, X_test, y_test, y_train)"
   ]
  },
  {
   "cell_type": "code",
   "execution_count": 22,
   "metadata": {},
   "outputs": [
    {
     "name": "stdout",
     "output_type": "stream",
     "text": [
      "Integrated Brier Score: 0.16348991091329643\n"
     ]
    }
   ],
   "source": [
    "surv_fn = coxnet_pred.predict_survival_function(X_test, return_array=False)\n",
    "\n",
    "surv_prob = np.row_stack([fn(times) for fn in surv_fn])\n",
    "\n",
    "bs = brier_score(y_train, y_test, surv_prob, times)\n",
    "ibs = integrated_brier_score(y_train, y_test, surv_prob, times)#times)\n",
    "print('Integrated Brier Score:', ibs)"
   ]
  },
  {
   "cell_type": "markdown",
   "metadata": {},
   "source": [
    "Integrated Brier Score: 0.16520201404135063"
   ]
  },
  {
   "cell_type": "code",
   "execution_count": 26,
   "metadata": {},
   "outputs": [],
   "source": [
    "# plt.figure(figsize=(10,6))\n",
    "# plt.plot(bs[0], bs[1], marker=\",\")\n",
    "# # plt.axhline(ibs, linestyle=\"--\")\n",
    "# # plt.text(5, 0, \"{model}\", fontsize=12)\n",
    "# plt.title(\"Time-dependent Brier Score for the Random Survival Forest\")\n",
    "# plt.xlabel(\"days\")\n",
    "# plt.ylabel(\"time-dependent Brier Score\")"
   ]
  },
  {
   "cell_type": "markdown",
   "metadata": {},
   "source": [
    "# Feature importance"
   ]
  },
  {
   "cell_type": "code",
   "execution_count": 24,
   "metadata": {},
   "outputs": [],
   "source": [
    "from sklearn.inspection import permutation_importance\n",
    "\n",
    "\n",
    "# result = permutation_importance(coxnet_pred, X_test, y_test, n_repeats=10, random_state=0, n_jobs=1)"
   ]
  },
  {
   "cell_type": "code",
   "execution_count": 25,
   "metadata": {},
   "outputs": [
    {
     "ename": "NameError",
     "evalue": "name 'result' is not defined",
     "output_type": "error",
     "traceback": [
      "\u001b[0;31m---------------------------------------------------------------------------\u001b[0m",
      "\u001b[0;31mNameError\u001b[0m                                 Traceback (most recent call last)",
      "Cell \u001b[0;32mIn[25], line 5\u001b[0m\n\u001b[1;32m      1\u001b[0m pd\u001b[38;5;241m.\u001b[39mset_option(\u001b[38;5;124m'\u001b[39m\u001b[38;5;124mdisplay.max_rows\u001b[39m\u001b[38;5;124m'\u001b[39m, \u001b[38;5;241m500\u001b[39m)\n\u001b[1;32m      3\u001b[0m columns \u001b[38;5;241m=\u001b[39m numeric_features \u001b[38;5;241m+\u001b[39m categorical_features\n\u001b[0;32m----> 5\u001b[0m importances_df \u001b[38;5;241m=\u001b[39m pd\u001b[38;5;241m.\u001b[39mDataFrame(result\u001b[38;5;241m.\u001b[39mimportances_mean, index\u001b[38;5;241m=\u001b[39mX\u001b[38;5;241m.\u001b[39mcolumns)\n\u001b[1;32m      6\u001b[0m importances_df\u001b[38;5;241m.\u001b[39mcolumns \u001b[38;5;241m=\u001b[39m [\u001b[38;5;124m'\u001b[39m\u001b[38;5;124mImportance\u001b[39m\u001b[38;5;124m'\u001b[39m]\n\u001b[1;32m      7\u001b[0m importances_df\u001b[38;5;241m.\u001b[39msort_values(by\u001b[38;5;241m=\u001b[39m\u001b[38;5;124m'\u001b[39m\u001b[38;5;124mImportance\u001b[39m\u001b[38;5;124m'\u001b[39m, ascending\u001b[38;5;241m=\u001b[39m\u001b[38;5;28;01mFalse\u001b[39;00m, inplace\u001b[38;5;241m=\u001b[39m\u001b[38;5;28;01mTrue\u001b[39;00m)\n",
      "\u001b[0;31mNameError\u001b[0m: name 'result' is not defined"
     ]
    }
   ],
   "source": [
    "pd.set_option('display.max_rows', 500)\n",
    "\n",
    "columns = numeric_features + categorical_features\n",
    "\n",
    "importances_df = pd.DataFrame(result.importances_mean, index=X.columns)\n",
    "importances_df.columns = ['Importance']\n",
    "importances_df.sort_values(by='Importance', ascending=False, inplace=True)\n",
    "\n",
    "# Print out feature importances\n",
    "importances_df"
   ]
  }
 ],
 "metadata": {
  "kernelspec": {
   "display_name": "kidney-life",
   "language": "python",
   "name": "python3"
  },
  "language_info": {
   "codemirror_mode": {
    "name": "ipython",
    "version": 3
   },
   "file_extension": ".py",
   "mimetype": "text/x-python",
   "name": "python",
   "nbconvert_exporter": "python",
   "pygments_lexer": "ipython3",
   "version": "3.11.5"
  }
 },
 "nbformat": 4,
 "nbformat_minor": 2
}
