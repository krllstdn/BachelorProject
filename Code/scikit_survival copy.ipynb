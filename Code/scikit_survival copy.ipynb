{
 "cells": [
  {
   "cell_type": "code",
   "execution_count": null,
   "metadata": {},
   "outputs": [],
   "source": [
    "import pandas as pd\n",
    "import numpy as np\n",
    "\n",
    "cols = [\n",
    "    \"PTIME\", # Target\n",
    "    \"PSTATUS\", # most recent patient status (1-dead,0-alive)\n",
    "    \n",
    "    # \"GTIME_KI\", # graft survival\n",
    "    \"NPKID\", # num of tx\n",
    "    # \"PREV_TX\", # the same organ tx\n",
    "    # \"PREV_TX_ANY\", # any previous tx\n",
    "\n",
    "    # Recipient info\n",
    "    \"AGE\",\n",
    "    'AGE_GROUP',\n",
    "    'GENDER',\n",
    "    \"ABO\",\n",
    "    \"DIAG_KI\",\n",
    "    'ON_DIALYSIS',\n",
    "    \"BMI_CALC\",\n",
    "    \"WGT_KG_CALC\", # weight\n",
    "    \"HGT_CM_CALC\", #\"INIT_HGT_CM\", # height\n",
    "    # \"LIV_DON_TY\", # living donor relation to recipient\n",
    "\n",
    "    # identification of recipients who passed away\n",
    "    # \"COD_KI\", #\n",
    "    # \"COMPOSITE_DEATH_DATE\",#\n",
    "    # \"END_DATE\",# removal from waiting list\n",
    "    # \"FAILDATE_KI\", # kidney fail date\n",
    "    # \"GSTATUS_KI\", # graft failed  (1 - yes)\n",
    "\n",
    "    # 'AMIS', 'BMIS', 'DRMIS', 'HLAMIS' - columns that break everything\n",
    "    # Donor info\n",
    "    \"AGE_DON\",\n",
    "    'GENDER_DON',\n",
    "    \"ABO_DON\",\n",
    "    \"DON_TY\",\n",
    "    \"BMI_DON_CALC\",\n",
    "    \"WGT_KG_DON_CALC\",\n",
    "    \"HGT_CM_DON_CALC\",\n",
    "    # \"CREAT_DON\",\n",
    "    # \"DIABETES_DON\",\n",
    "\n",
    "    \"ABO_MAT\",\n",
    "    # \"TX_DATE\",\n",
    "\n",
    "    # \"CMV_IGG\", \"CMV_IGM\", \"CMV_STATUS\",\n",
    "    # \"PRE_TX_TXFUS\", # pretransplant transfusions\n",
    "    # \"COLD_ISCH_KI\",\n",
    "    # \"WARM_ISCH_TM_DON\",\n",
    "    # 'A1', 'A2', 'B1', 'B2', 'DR1', 'DR2', 'BW4', 'BW6', 'C1', 'C2', 'DR51', 'DR51_2', 'DR52',\n",
    "    # 'DR52_2', 'DR53', 'DR53_2', 'DQ1', 'DQ2', 'DA1', 'DA2', 'DB1', 'DB2', 'DDR1', 'DDR2', 'RA1',\n",
    "    # 'RA2', 'RB1', 'RB2', 'RDR1', 'RDR2',\n",
    "    # \"KDPI\", \"KDRI_MED\", 'KDRI_RAO',\n",
    "\n",
    "    # \"WL_ID_CODE\", # registration identifier\n",
    "    # 'DONOR_ID',\n",
    "    # 'PT_CODE' # recipient id\n",
    "\n",
    "    ]\n",
    "\n",
    "dats = pd.read_parquet(\"/mnt/lustre/helios-home/stadnkyr/Kidney_transplants.parquet\", engine='auto', columns=cols)"
   ]
  },
  {
   "cell_type": "code",
   "execution_count": null,
   "metadata": {},
   "outputs": [],
   "source": [
    "dats.head()"
   ]
  },
  {
   "cell_type": "code",
   "execution_count": null,
   "metadata": {},
   "outputs": [],
   "source": [
    "pd.set_option('display.max_columns', None)\n",
    "display(dats.describe())"
   ]
  },
  {
   "attachments": {},
   "cell_type": "markdown",
   "metadata": {},
   "source": [
    "# dataframe"
   ]
  },
  {
   "cell_type": "code",
   "execution_count": null,
   "metadata": {},
   "outputs": [],
   "source": [
    "df = dats[dats[\"PSTATUS\"].notnull()]\n",
    "df.shape"
   ]
  },
  {
   "cell_type": "code",
   "execution_count": null,
   "metadata": {},
   "outputs": [],
   "source": [
    "display(df.head())"
   ]
  },
  {
   "cell_type": "code",
   "execution_count": null,
   "metadata": {},
   "outputs": [],
   "source": [
    "display(df[\"AGE_GROUP\"].value_counts())"
   ]
  },
  {
   "cell_type": "code",
   "execution_count": null,
   "metadata": {},
   "outputs": [],
   "source": [
    "df['ON_DIALYSIS'].fillna('N', inplace=True) # could be a bad idea\n",
    "df.dropna(subset=[\"GENDER_DON\", \"ABO_DON\", \"ABO_MAT\"], inplace=True)\n",
    "df.shape\n"
   ]
  },
  {
   "cell_type": "code",
   "execution_count": null,
   "metadata": {},
   "outputs": [],
   "source": [
    "categorical_values = [\"AGE_GROUP\", \"GENDER\", \"ABO\",\"DON_TY\", \"ON_DIALYSIS\", \"GENDER_DON\", \"ABO_DON\", \"ABO_MAT\"]\n",
    "numerical_values = [\"NPKID\", \"AGE\", \"BMI_CALC\", \"WGT_KG_CALC\", \"HGT_CM_CALC\", \"AGE_DON\", \"BMI_DON_CALC\", \"WGT_KG_DON_CALC\", \"HGT_CM_DON_CALC\", \"PTIME\", \"PSTATUS\"] # \"DIAG_KI\","
   ]
  },
  {
   "cell_type": "code",
   "execution_count": null,
   "metadata": {},
   "outputs": [],
   "source": [
    "import numpy as np\n",
    "\n",
    "for column in numerical_values:\n",
    "    df[column] = df[column].astype(np.float)"
   ]
  },
  {
   "cell_type": "code",
   "execution_count": null,
   "metadata": {},
   "outputs": [],
   "source": [
    "for column in categorical_values:\n",
    "    print(df[column].shape, df[column].dtypes, df[column].isna().sum())"
   ]
  },
  {
   "cell_type": "code",
   "execution_count": null,
   "metadata": {},
   "outputs": [],
   "source": [
    "# DONOR HEIGHT\n",
    "median_adult_men_donor_height = df[df[\"GENDER_DON\"] == \"M\"][\"HGT_CM_DON_CALC\"].astype(float).median()\n",
    "median_adult_women_donor_height = df[df[\"GENDER_DON\"] == \"F\"][\"HGT_CM_DON_CALC\"].astype(float).median() \n",
    "\n",
    "df.loc[(df['GENDER_DON'] == 'M') & (df['HGT_CM_DON_CALC'].isnull()), 'HGT_CM_DON_CALC'] = median_adult_men_donor_height\n",
    "df.loc[(df['GENDER_DON'] == 'F') & (df['HGT_CM_DON_CALC'].isnull()), 'HGT_CM_DON_CALC'] = median_adult_women_donor_height\n",
    "\n",
    "# DONOR WEIGHT\n",
    "median_adult_men_donor_weight = df[df[\"GENDER_DON\"] == \"M\"][\"WGT_KG_DON_CALC\"].astype(float).median()\n",
    "median_adult_women_donor_weight = df[df[\"GENDER_DON\"] == \"F\"][\"WGT_KG_DON_CALC\"].astype(float).median() \n",
    "\n",
    "df.loc[(df['GENDER_DON'] == 'M') & (df['WGT_KG_DON_CALC'].isnull()), 'WGT_KG_DON_CALC'] = median_adult_men_donor_weight\n",
    "df.loc[(df['GENDER_DON'] == 'F') & (df['WGT_KG_DON_CALC'].isnull()), 'WGT_KG_DON_CALC'] = median_adult_women_donor_weight\n",
    "\n",
    "# DONOR BMI\n",
    "median_adult_men_donor_bmi = men = df[df[\"GENDER_DON\"] == \"M\"][\"BMI_DON_CALC\"].astype(float).median()\n",
    "median_adult_women_donor_bmi = df[df[\"GENDER_DON\"] == \"F\"][\"BMI_DON_CALC\"].astype(float).median() \n",
    "\n",
    "df.loc[(df['GENDER_DON'] == 'M') & (df['BMI_DON_CALC'].isnull()), 'BMI_DON_CALC'] = median_adult_men_donor_bmi # COULDDO: calculate individual BMI\n",
    "df.loc[(df['GENDER_DON'] == 'F') & (df['BMI_DON_CALC'].isnull()), 'BMI_DON_CALC'] = median_adult_women_donor_bmi # COULDDO: calculate individual BMI"
   ]
  },
  {
   "cell_type": "code",
   "execution_count": null,
   "metadata": {},
   "outputs": [],
   "source": [
    "#RECIPIENT HEIGHT\n",
    "median_adult_men_recipient_height = df[df[\"GENDER_DON\"] == \"M\"][\"HGT_CM_DON_CALC\"].astype(float).median()\n",
    "median_adult_women_recipient_height = df[df[\"GENDER_DON\"] == \"F\"][\"HGT_CM_DON_CALC\"].astype(float).median() \n",
    "\n",
    "df.loc[(df['GENDER'] == 'M') & (df['HGT_CM_CALC'].isnull()) & (df['AGE_GROUP'] == 'A'), 'HGT_CM_CALC'] = median_adult_men_recipient_height\n",
    "df.loc[(df['GENDER'] == 'F') & (df['HGT_CM_CALC'].isnull()) & (df['AGE_GROUP'] == 'A'), 'HGT_CM_CALC'] = median_adult_women_recipient_height\n",
    "\n",
    "# RECIPIENT WEIGHT\n",
    "median_adult_men_recipient_weight = df[df[\"GENDER_DON\"] == \"M\"][\"WGT_KG_DON_CALC\"].astype(float).median()\n",
    "median_adult_women_recipient_weight = df[df[\"GENDER_DON\"] == \"F\"][\"WGT_KG_DON_CALC\"].astype(float).median() \n",
    "\n",
    "df.loc[(df['GENDER'] == 'M') & (df['WGT_KG_CALC'].isnull()) & (df['AGE_GROUP'] == 'A'), 'WGT_KG_CALC'] = median_adult_men_recipient_weight\n",
    "df.loc[(df['GENDER'] == 'F') & (df['WGT_KG_CALC'].isnull()) & (df['AGE_GROUP'] == 'A'), 'WGT_KG_CALC'] = median_adult_women_recipient_weight\n",
    "\n",
    "# RECIPIENT BMI\n",
    "median_adult_men_recipient_bmi = men = df[df[\"GENDER_DON\"] == \"M\"][\"BMI_DON_CALC\"].astype(float).median()\n",
    "median_adult_women_recipient_bmi = df[df[\"GENDER_DON\"] == \"F\"][\"BMI_DON_CALC\"].astype(float).median() \n",
    "\n",
    "df.loc[(df['GENDER'] == 'M') & (df['BMI_CALC'].isnull()) & (df['AGE_GROUP'] == 'A'), 'BMI_CALC'] = median_adult_men_recipient_bmi # COULDDO: calculate individual BMI\n",
    "df.loc[(df['GENDER'] == 'F') & (df['BMI_CALC'].isnull()) & (df['AGE_GROUP'] == 'A'), 'BMI_CALC'] = median_adult_women_recipient_bmi # COULDDO: calculate individual BMI\n",
    "\n",
    "df.dropna(subset=[\"BMI_CALC\", \"WGT_KG_CALC\", \"HGT_CM_CALC\", \"AGE_DON\", \"PTIME\"], inplace=True)"
   ]
  },
  {
   "cell_type": "code",
   "execution_count": null,
   "metadata": {},
   "outputs": [],
   "source": [
    "df.shape"
   ]
  },
  {
   "cell_type": "code",
   "execution_count": null,
   "metadata": {},
   "outputs": [],
   "source": [
    "# for column in categorical_columns:\n",
    "df.replace([np.inf, -np.inf], np.nan, inplace=True)\n",
    "df.reset_index()\n",
    "df.head()"
   ]
  },
  {
   "cell_type": "code",
   "execution_count": null,
   "metadata": {},
   "outputs": [],
   "source": [
    "for column in numerical_values:\n",
    "    print(column, df[column].shape, df[column].dtypes, df[column].isna().sum())"
   ]
  },
  {
   "cell_type": "code",
   "execution_count": null,
   "metadata": {},
   "outputs": [],
   "source": [
    "import numpy as np\n",
    "\n",
    "# construct Y\n",
    "from sksurv.util import Surv\n",
    "\n",
    "survival_time = df['PTIME'].astype(np.float64)\n",
    "event = df['PSTATUS'].astype(float).astype(np.bool)\n",
    "\n",
    "# numerical_values.remove('PTIME')\n",
    "# numerical_values.remove('PSTATUS')\n",
    "df['PSTATUS'] = df['PSTATUS'].astype(bool)\n",
    "\n",
    "# df.head()\n",
    "\n",
    "y = Surv.from_dataframe('PSTATUS', 'PTIME', df)\n",
    "y"
   ]
  },
  {
   "cell_type": "code",
   "execution_count": null,
   "metadata": {},
   "outputs": [],
   "source": [
    "y_oth = df"
   ]
  },
  {
   "cell_type": "code",
   "execution_count": null,
   "metadata": {},
   "outputs": [],
   "source": [
    "\n",
    "from sklearn.pipeline import Pipeline\n",
    "from sklearn.preprocessing import StandardScaler\n",
    "from sklearn.compose import ColumnTransformer\n",
    "\n",
    "from sksurv.preprocessing import OneHotEncoder\n",
    "from sksurv.column import encode_categorical\n",
    "from sksurv.column import standardize\n",
    "\n",
    "data_x = encode_categorical(df, categorical_values)"
   ]
  },
  {
   "cell_type": "code",
   "execution_count": null,
   "metadata": {},
   "outputs": [],
   "source": [
    "categorical = df[categorical_values]\n",
    "numerical = df[numerical_values]\n",
    "\n",
    "numerical_x = standardize(numerical)\n",
    "categorical_x = encode_categorical(categorical)\n",
    "\n",
    "df_prep = pd.concat([numerical_x, categorical_x], axis=1)\n",
    "# df_prep = df_prep.drop(['PTIME', 'PSTATUS'], axis=1)\n",
    "\n",
    "df_prep"
   ]
  },
  {
   "cell_type": "code",
   "execution_count": null,
   "metadata": {},
   "outputs": [],
   "source": [
    "import numpy as np\n",
    "\n",
    "# construct Y\n",
    "from sksurv.util import Surv\n",
    "\n",
    "survival_time = data_x['PTIME'].astype(np.float64)\n",
    "event = data_x['PSTATUS'].astype(float).astype(np.bool)\n",
    "\n",
    "y = Surv.from_arrays(event, survival_time, \"Status\", \"Days\")\n",
    "data_x = data_x.drop(['PTIME', 'PSTATUS'], axis=1)\n"
   ]
  },
  {
   "cell_type": "code",
   "execution_count": null,
   "metadata": {},
   "outputs": [],
   "source": [
    "# data_x.head()\n",
    "data_x.shape"
   ]
  },
  {
   "cell_type": "code",
   "execution_count": null,
   "metadata": {},
   "outputs": [],
   "source": [
    "# df_prepared_small = data_x[:10000]\n",
    "df_prepared_small = df_prep[:10000]\n",
    "y_small = y[:10000]\n",
    "\n",
    "df_prepared_small"
   ]
  },
  {
   "cell_type": "code",
   "execution_count": null,
   "metadata": {},
   "outputs": [],
   "source": [
    "# np.isnan(y_small['']).any()\n",
    "print(np.any(np.isnan(y_small['Status'])))\n",
    "print(np.all(np.isfinite(y_small['Status'])))\n",
    "\n",
    "print(np.any(np.isnan(y_small['Days'])))\n",
    "print(np.all(np.isfinite(y_small['Days'])))\n"
   ]
  },
  {
   "cell_type": "code",
   "execution_count": null,
   "metadata": {},
   "outputs": [],
   "source": [
    "from sksurv.linear_model import CoxPHSurvivalAnalysis, CoxnetSurvivalAnalysis\n",
    "\n",
    "# neco = standardize(df_prepared_small)\n",
    "\n",
    "cox_ph = CoxnetSurvivalAnalysis()\n",
    "cox_ph.fit(df_prepared_small, y_small)"
   ]
  }
 ],
 "metadata": {
  "kernelspec": {
   "display_name": "Python 3",
   "language": "python",
   "name": "python3"
  },
  "language_info": {
   "codemirror_mode": {
    "name": "ipython",
    "version": 3
   },
   "file_extension": ".py",
   "mimetype": "text/x-python",
   "name": "python",
   "nbconvert_exporter": "python",
   "pygments_lexer": "ipython3",
   "version": "3.6.8"
  },
  "orig_nbformat": 4
 },
 "nbformat": 4,
 "nbformat_minor": 2
}
