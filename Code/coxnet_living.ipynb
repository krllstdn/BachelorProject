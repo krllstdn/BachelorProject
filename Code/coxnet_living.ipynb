{
 "cells": [
  {
   "cell_type": "markdown",
   "metadata": {},
   "source": [
    "# Feature selection ;)"
   ]
  },
  {
   "cell_type": "code",
   "execution_count": 267,
   "metadata": {},
   "outputs": [],
   "source": [
    "import pickle\n",
    "import pandas as pd\n",
    "import numpy as np\n",
    "from sklearn.compose import ColumnTransformer\n",
    "from sklearn.pipeline import Pipeline\n",
    "from sklearn.preprocessing import StandardScaler, OneHotEncoder\n",
    "from sksurv.preprocessing import OneHotEncoder as SurvOneHotEncoder\n",
    "from sksurv.util import Surv\n",
    "\n",
    "from sksurv.column import encode_categorical\n",
    "from sksurv.column import standardize\n",
    "from sksurv.util import Surv\n",
    "\n",
    "from sklearn.model_selection import train_test_split\n",
    "from sksurv.ensemble import RandomSurvivalForest\n",
    "from sksurv.linear_model import CoxnetSurvivalAnalysis\n"
   ]
  },
  {
   "cell_type": "code",
   "execution_count": 268,
   "metadata": {},
   "outputs": [],
   "source": [
    "from sksurv.metrics import (\n",
    "    concordance_index_censored,\n",
    "    concordance_index_ipcw,\n",
    "    cumulative_dynamic_auc,\n",
    "    integrated_brier_score,\n",
    ")\n",
    "\n",
    "def evaluate_model_uno_c(model, test_X, test_y, train_y, times):\n",
    "    pred = model.predict(test_X)\n",
    "    uno_concordance = concordance_index_ipcw(train_y, test_y, pred, tau=times[-1])\n",
    "    return uno_concordance"
   ]
  },
  {
   "cell_type": "code",
   "execution_count": 269,
   "metadata": {},
   "outputs": [],
   "source": [
    "pickle_file = 'data/COX_DATA_FULL_LIVING.pkl'\n",
    "\n",
    "with open(pickle_file, 'rb') as f:\n",
    "    dataset = pickle.load(f)\n",
    "\n",
    "dataset.drop(['DIAG_KI', 'COD_KI'], axis=1, inplace=True)"
   ]
  },
  {
   "cell_type": "code",
   "execution_count": 270,
   "metadata": {},
   "outputs": [
    {
     "data": {
      "text/plain": [
       "(52420, 56)"
      ]
     },
     "execution_count": 270,
     "metadata": {},
     "output_type": "execute_result"
    }
   ],
   "source": [
    "dataset.shape"
   ]
  },
  {
   "cell_type": "code",
   "execution_count": 271,
   "metadata": {},
   "outputs": [
    {
     "data": {
      "text/plain": [
       "N     50899\n",
       "P       780\n",
       "ND      741\n",
       "Name: HBV_SUR_ANTIGEN, dtype: int64"
      ]
     },
     "execution_count": 271,
     "metadata": {},
     "output_type": "execute_result"
    }
   ],
   "source": [
    "dataset['HBV_SUR_ANTIGEN'].value_counts()"
   ]
  },
  {
   "cell_type": "code",
   "execution_count": 272,
   "metadata": {},
   "outputs": [],
   "source": [
    "yes_categorical=[\"PRE_TX_TXFUS\", \n",
    "                \"GENDER\",\n",
    "                \"ON_DIALYSIS\", \n",
    "                \"ABO_MAT\", \n",
    "                \"ETHCAT\", \n",
    "                \"ETHCAT_DON\",\n",
    "                'HBV_CORE', \n",
    "                'DIAB',\n",
    "                'HCV_SEROSTATUS',  \n",
    "                'LIV_DON_TY',\n",
    "                \n",
    "                # 'HBV_SUR_ANTIGEN', # negative importance\n",
    "                # \"ABO\", # negative importance\n",
    "                # \"ABO_DON\", # negative importance\n",
    "                # 'HBV_SUR_ANTIGEN_DON',  # negative importance\n",
    "                # \"GENDER_DON\", # negative importance\n",
    "                # \"DIABETES_DON\", # zero importance\n",
    "                \n",
    "            ]\n",
    "yes_numerical = [   \n",
    "                \"KI_CREAT_PREOP\",\n",
    "                \"SERUM_CREAT\",\n",
    "                \"NPKID\", \n",
    "                \"AGE\", \n",
    "                \"HGT_CM_CALC\", \n",
    "                \"BMI_DON_CALC\",\n",
    "                \"AGE_DON\", \n",
    "\n",
    "                # HLA with some importance\n",
    "                # 'DR1', \n",
    "                # 'BW6', \n",
    "                # 'BW4', \n",
    "                # 'RA1',\n",
    "                # 'A2', \n",
    "                # 'DR53', \n",
    "                # 'C1', \n",
    "                # 'C2', \n",
    "                # 'A1',\n",
    "                # 'RA2', \n",
    "                # 'DR51',\n",
    "                # 'DR52', \n",
    "                # 'DQ2', \n",
    "                # 'RDR1',\n",
    "                \n",
    "                # 'BMIS', # negative importance\n",
    "                # 'AMIS', # negative importance    \n",
    "                # \"WGT_KG_CALC\", # negative importance\n",
    "                # 'DR52_2', # zero importance\n",
    "                # 'DR53_2', # zero importance\n",
    "                # 'B2', # negative importance\n",
    "                # \"CREAT_TRR\", # negative importance\n",
    "                # 'DR2', # negative importance\n",
    "                # 'RB1',# negative importance\n",
    "                # 'B1', # negative importance\n",
    "                # \"BMI_CALC\", # negative importance \n",
    "                # \"WGT_KG_DON_CALC\", # negative importance\n",
    "                # \"HGT_CM_DON_CALC\", # negative importance\n",
    "                # 'DQ1',# negative importance\n",
    "                # 'RB2',# negative importance\n",
    "                # 'RDR2',# negative importance\n",
    "                ]"
   ]
  },
  {
   "cell_type": "code",
   "execution_count": 273,
   "metadata": {},
   "outputs": [
    {
     "data": {
      "text/html": [
       "<div>\n",
       "<style scoped>\n",
       "    .dataframe tbody tr th:only-of-type {\n",
       "        vertical-align: middle;\n",
       "    }\n",
       "\n",
       "    .dataframe tbody tr th {\n",
       "        vertical-align: top;\n",
       "    }\n",
       "\n",
       "    .dataframe thead th {\n",
       "        text-align: right;\n",
       "    }\n",
       "</style>\n",
       "<table border=\"1\" class=\"dataframe\">\n",
       "  <thead>\n",
       "    <tr style=\"text-align: right;\">\n",
       "      <th></th>\n",
       "      <th>PRE_TX_TXFUS</th>\n",
       "      <th>GENDER</th>\n",
       "      <th>ON_DIALYSIS</th>\n",
       "      <th>ABO_MAT</th>\n",
       "      <th>ETHCAT</th>\n",
       "      <th>ETHCAT_DON</th>\n",
       "      <th>HBV_CORE</th>\n",
       "      <th>DIAB</th>\n",
       "      <th>HCV_SEROSTATUS</th>\n",
       "      <th>LIV_DON_TY</th>\n",
       "      <th>KI_CREAT_PREOP</th>\n",
       "      <th>SERUM_CREAT</th>\n",
       "      <th>NPKID</th>\n",
       "      <th>AGE</th>\n",
       "      <th>HGT_CM_CALC</th>\n",
       "      <th>BMI_DON_CALC</th>\n",
       "      <th>AGE_DON</th>\n",
       "    </tr>\n",
       "    <tr>\n",
       "      <th>__null_dask_index__</th>\n",
       "      <th></th>\n",
       "      <th></th>\n",
       "      <th></th>\n",
       "      <th></th>\n",
       "      <th></th>\n",
       "      <th></th>\n",
       "      <th></th>\n",
       "      <th></th>\n",
       "      <th></th>\n",
       "      <th></th>\n",
       "      <th></th>\n",
       "      <th></th>\n",
       "      <th></th>\n",
       "      <th></th>\n",
       "      <th></th>\n",
       "      <th></th>\n",
       "      <th></th>\n",
       "    </tr>\n",
       "  </thead>\n",
       "  <tbody>\n",
       "    <tr>\n",
       "      <th>28</th>\n",
       "      <td>N</td>\n",
       "      <td>F</td>\n",
       "      <td>Y</td>\n",
       "      <td>1.0</td>\n",
       "      <td>4</td>\n",
       "      <td>4.0</td>\n",
       "      <td>N</td>\n",
       "      <td>1.0</td>\n",
       "      <td>N</td>\n",
       "      <td>2.0</td>\n",
       "      <td>0.6</td>\n",
       "      <td>1.8</td>\n",
       "      <td>0.0</td>\n",
       "      <td>44.0</td>\n",
       "      <td>160.0</td>\n",
       "      <td>26.5714817</td>\n",
       "      <td>24.0</td>\n",
       "    </tr>\n",
       "    <tr>\n",
       "      <th>34</th>\n",
       "      <td>N</td>\n",
       "      <td>M</td>\n",
       "      <td>Y</td>\n",
       "      <td>2.0</td>\n",
       "      <td>4</td>\n",
       "      <td>4.0</td>\n",
       "      <td>N</td>\n",
       "      <td>1.0</td>\n",
       "      <td>N</td>\n",
       "      <td>7.0</td>\n",
       "      <td>0.9</td>\n",
       "      <td>4.3</td>\n",
       "      <td>0.0</td>\n",
       "      <td>33.0</td>\n",
       "      <td>177.0</td>\n",
       "      <td>21.5698674</td>\n",
       "      <td>40.0</td>\n",
       "    </tr>\n",
       "    <tr>\n",
       "      <th>42</th>\n",
       "      <td>N</td>\n",
       "      <td>F</td>\n",
       "      <td>N</td>\n",
       "      <td>1.0</td>\n",
       "      <td>1</td>\n",
       "      <td>1.0</td>\n",
       "      <td>N</td>\n",
       "      <td>1.0</td>\n",
       "      <td>N</td>\n",
       "      <td>2.0</td>\n",
       "      <td>0.9</td>\n",
       "      <td>0.6</td>\n",
       "      <td>0.0</td>\n",
       "      <td>67.0</td>\n",
       "      <td>157.5</td>\n",
       "      <td>27.1250543</td>\n",
       "      <td>46.0</td>\n",
       "    </tr>\n",
       "    <tr>\n",
       "      <th>47</th>\n",
       "      <td>N</td>\n",
       "      <td>M</td>\n",
       "      <td>Y</td>\n",
       "      <td>1.0</td>\n",
       "      <td>2</td>\n",
       "      <td>2.0</td>\n",
       "      <td>ND</td>\n",
       "      <td>5.0</td>\n",
       "      <td>N</td>\n",
       "      <td>2.0</td>\n",
       "      <td>0.9</td>\n",
       "      <td>3.3</td>\n",
       "      <td>0.0</td>\n",
       "      <td>56.0</td>\n",
       "      <td>175.0</td>\n",
       "      <td>28.0569769</td>\n",
       "      <td>18.0</td>\n",
       "    </tr>\n",
       "    <tr>\n",
       "      <th>52</th>\n",
       "      <td>Y</td>\n",
       "      <td>F</td>\n",
       "      <td>Y</td>\n",
       "      <td>2.0</td>\n",
       "      <td>1</td>\n",
       "      <td>1.0</td>\n",
       "      <td>N</td>\n",
       "      <td>1.0</td>\n",
       "      <td>N</td>\n",
       "      <td>4.0</td>\n",
       "      <td>0.8</td>\n",
       "      <td>1.3</td>\n",
       "      <td>0.0</td>\n",
       "      <td>20.0</td>\n",
       "      <td>152.4</td>\n",
       "      <td>28.5262249</td>\n",
       "      <td>26.0</td>\n",
       "    </tr>\n",
       "  </tbody>\n",
       "</table>\n",
       "</div>"
      ],
      "text/plain": [
       "                    PRE_TX_TXFUS GENDER ON_DIALYSIS ABO_MAT ETHCAT ETHCAT_DON  \\\n",
       "__null_dask_index__                                                             \n",
       "28                             N      F           Y     1.0      4        4.0   \n",
       "34                             N      M           Y     2.0      4        4.0   \n",
       "42                             N      F           N     1.0      1        1.0   \n",
       "47                             N      M           Y     1.0      2        2.0   \n",
       "52                             Y      F           Y     2.0      1        1.0   \n",
       "\n",
       "                    HBV_CORE DIAB HCV_SEROSTATUS LIV_DON_TY KI_CREAT_PREOP  \\\n",
       "__null_dask_index__                                                          \n",
       "28                         N  1.0              N        2.0            0.6   \n",
       "34                         N  1.0              N        7.0            0.9   \n",
       "42                         N  1.0              N        2.0            0.9   \n",
       "47                        ND  5.0              N        2.0            0.9   \n",
       "52                         N  1.0              N        4.0            0.8   \n",
       "\n",
       "                    SERUM_CREAT NPKID   AGE HGT_CM_CALC BMI_DON_CALC AGE_DON  \n",
       "__null_dask_index__                                                           \n",
       "28                          1.8   0.0  44.0       160.0   26.5714817    24.0  \n",
       "34                          4.3   0.0  33.0       177.0   21.5698674    40.0  \n",
       "42                          0.6   0.0  67.0       157.5   27.1250543    46.0  \n",
       "47                          3.3   0.0  56.0       175.0   28.0569769    18.0  \n",
       "52                          1.3   0.0  20.0       152.4   28.5262249    26.0  "
      ]
     },
     "execution_count": 273,
     "metadata": {},
     "output_type": "execute_result"
    }
   ],
   "source": [
    "dataset[yes_categorical+yes_numerical].head()\n"
   ]
  },
  {
   "cell_type": "code",
   "execution_count": 274,
   "metadata": {},
   "outputs": [
    {
     "data": {
      "text/plain": [
       "KI_CREAT_PREOP    object\n",
       "SERUM_CREAT       object\n",
       "NPKID             object\n",
       "AGE               object\n",
       "HGT_CM_CALC       object\n",
       "BMI_DON_CALC      object\n",
       "AGE_DON           object\n",
       "dtype: object"
      ]
     },
     "execution_count": 274,
     "metadata": {},
     "output_type": "execute_result"
    }
   ],
   "source": [
    "dataset[yes_numerical].dtypes"
   ]
  },
  {
   "cell_type": "code",
   "execution_count": 275,
   "metadata": {},
   "outputs": [
    {
     "data": {
      "text/plain": [
       "KI_CREAT_PREOP    float64\n",
       "SERUM_CREAT       float64\n",
       "NPKID             float64\n",
       "AGE               float64\n",
       "HGT_CM_CALC       float64\n",
       "BMI_DON_CALC      float64\n",
       "AGE_DON           float64\n",
       "dtype: object"
      ]
     },
     "execution_count": 275,
     "metadata": {},
     "output_type": "execute_result"
    }
   ],
   "source": [
    "dataset[yes_numerical] = dataset[yes_numerical].astype(float)\n",
    "\n",
    "dataset[yes_numerical].dtypes"
   ]
  },
  {
   "cell_type": "code",
   "execution_count": 276,
   "metadata": {},
   "outputs": [
    {
     "data": {
      "text/html": [
       "<div>\n",
       "<style scoped>\n",
       "    .dataframe tbody tr th:only-of-type {\n",
       "        vertical-align: middle;\n",
       "    }\n",
       "\n",
       "    .dataframe tbody tr th {\n",
       "        vertical-align: top;\n",
       "    }\n",
       "\n",
       "    .dataframe thead th {\n",
       "        text-align: right;\n",
       "    }\n",
       "</style>\n",
       "<table border=\"1\" class=\"dataframe\">\n",
       "  <thead>\n",
       "    <tr style=\"text-align: right;\">\n",
       "      <th></th>\n",
       "      <th>KI_CREAT_PREOP</th>\n",
       "      <th>SERUM_CREAT</th>\n",
       "      <th>NPKID</th>\n",
       "      <th>AGE</th>\n",
       "      <th>HGT_CM_CALC</th>\n",
       "      <th>BMI_DON_CALC</th>\n",
       "      <th>AGE_DON</th>\n",
       "    </tr>\n",
       "  </thead>\n",
       "  <tbody>\n",
       "    <tr>\n",
       "      <th>0.1</th>\n",
       "      <td>0.6</td>\n",
       "      <td>0.87</td>\n",
       "      <td>0.0</td>\n",
       "      <td>28.0</td>\n",
       "      <td>157.5</td>\n",
       "      <td>21.516204</td>\n",
       "      <td>26.0</td>\n",
       "    </tr>\n",
       "    <tr>\n",
       "      <th>0.9</th>\n",
       "      <td>1.1</td>\n",
       "      <td>2.90</td>\n",
       "      <td>0.0</td>\n",
       "      <td>65.0</td>\n",
       "      <td>185.4</td>\n",
       "      <td>32.610473</td>\n",
       "      <td>57.0</td>\n",
       "    </tr>\n",
       "  </tbody>\n",
       "</table>\n",
       "</div>"
      ],
      "text/plain": [
       "     KI_CREAT_PREOP  SERUM_CREAT  NPKID   AGE  HGT_CM_CALC  BMI_DON_CALC  \\\n",
       "0.1             0.6         0.87    0.0  28.0        157.5     21.516204   \n",
       "0.9             1.1         2.90    0.0  65.0        185.4     32.610473   \n",
       "\n",
       "     AGE_DON  \n",
       "0.1     26.0  \n",
       "0.9     57.0  "
      ]
     },
     "execution_count": 276,
     "metadata": {},
     "output_type": "execute_result"
    }
   ],
   "source": [
    "dataset[yes_numerical].quantile([0.1, 0.90])"
   ]
  },
  {
   "cell_type": "code",
   "execution_count": 277,
   "metadata": {},
   "outputs": [
    {
     "data": {
      "text/plain": [
       "['DIABETES_DON', 'WGT_KG_CALC', 'RA2', 'BMI_CALC', 'RB2', 'RDR2', 'CREAT_TRR']"
      ]
     },
     "execution_count": 277,
     "metadata": {},
     "output_type": "execute_result"
    }
   ],
   "source": [
    "dataset.columns[dataset.isna().any()].tolist()"
   ]
  },
  {
   "cell_type": "code",
   "execution_count": 278,
   "metadata": {},
   "outputs": [],
   "source": [
    "numeric_features = [x for x in yes_numerical if x != \"PTIME\" and x != \"PSTATUS\"]\n",
    "\n",
    "numeric_transformer = Pipeline(steps=[\n",
    "    ('scaler', StandardScaler())\n",
    "])\n",
    "\n",
    "categorical_transformer = Pipeline(steps=[\n",
    "    ('encoder', OneHotEncoder(handle_unknown='ignore')) # maybe it's better to use not ignore\n",
    "])\n",
    "\n",
    "# Combine transformations for all features\n",
    "preprocessor = ColumnTransformer(\n",
    "    transformers=[\n",
    "        ('num', numeric_transformer, yes_numerical),\n",
    "        ('cat', categorical_transformer, yes_categorical)\n",
    "    ]\n",
    ")\n",
    "\n",
    "# Set up the final pipeline\n",
    "pipeline = Pipeline(steps=[\n",
    "    ('preprocessor', preprocessor)\n",
    "])\n",
    "\n",
    "# Apply preprocessing to X\n",
    "X = pipeline.fit_transform(dataset[yes_categorical + yes_numerical])\n",
    "\n",
    "# For calculating feature importance\n",
    "# categorical_x = encode_categorical(dataset[yes_categorical])\n",
    "# numerical_x = standardize(dataset[yes_numerical])\n",
    "# X = pd.concat([numerical_x, categorical_x], axis=1)\n",
    "\n",
    "survival_time = dataset[\"PTIME\"].astype(np.float64)\n",
    "event = dataset[\"PSTATUS\"].astype(float).astype(bool)\n",
    "\n",
    "y = Surv.from_arrays(event, survival_time, \"Status\", \"Days\")"
   ]
  },
  {
   "cell_type": "code",
   "execution_count": 279,
   "metadata": {},
   "outputs": [],
   "source": [
    "# save the preprocessor\n",
    "with open('pickle/pipeline_coxnet_living.pkl', 'wb') as f:\n",
    "    pickle.dump(pipeline, f)"
   ]
  },
  {
   "cell_type": "code",
   "execution_count": 280,
   "metadata": {},
   "outputs": [],
   "source": [
    "X_train, X_test, y_train, y_test = train_test_split(X, y, test_size=0.2, stratify=y[\"Status\"], random_state=42)"
   ]
  },
  {
   "cell_type": "code",
   "execution_count": 281,
   "metadata": {},
   "outputs": [
    {
     "data": {
      "application/vnd.jupyter.widget-view+json": {
       "model_id": "769a8fdaa5bf485999cde46b8b65fc61",
       "version_major": 2,
       "version_minor": 0
      },
      "text/plain": [
       "Hyperparameter Tuning:   0%|          | 0/74 [00:00<?, ?it/s]"
      ]
     },
     "metadata": {},
     "output_type": "display_data"
    },
    {
     "name": "stderr",
     "output_type": "stream",
     "text": [
      "/var/folders/c7/7_0s689j2m99wkwqx2b0skvm0000gn/T/ipykernel_62851/2652288410.py:24: UserWarning: all coefficients are zero, consider decreasing alpha.\n",
      "  cox_grid.fit(X_train, y_train)\n"
     ]
    }
   ],
   "source": [
    "from tqdm._tqdm_notebook import tqdm\n",
    "import numpy as np\n",
    "\n",
    "best_params = None\n",
    "highest_cindex=0\n",
    "\n",
    "lower, upper = np.percentile(y[\"Days\"], [10, 90])\n",
    "times = np.arange(lower, upper + 1)\n",
    "\n",
    "cox = CoxnetSurvivalAnalysis(l1_ratio=0.9, max_iter=1000)\n",
    "cox.fit(X_train, y_train)\n",
    "\n",
    "estimated_alphas = cox.alphas_\n",
    "l1_ratios = [0.9]\n",
    "\n",
    "cox_grid=CoxnetSurvivalAnalysis()\n",
    "\n",
    "pbar = tqdm(total = len(estimated_alphas)*len(l1_ratios), desc='Hyperparameter Tuning')\n",
    "\n",
    "for ratio in l1_ratios:\n",
    "    for alpha in estimated_alphas:\n",
    "        cox_grid.set_params(l1_ratio=ratio, alphas=[alpha])\n",
    "\n",
    "        cox_grid.fit(X_train, y_train)\n",
    "        uno_score = evaluate_model_uno_c(cox_grid, X_test, y_test, y_train, times)\n",
    "\n",
    "        uno = float(uno_score[0])\n",
    "        if uno > highest_cindex:\n",
    "            highest_cindex = uno\n",
    "            best_params = (ratio, alpha)\n",
    "            best_rsf_model = cox_grid\n",
    "\n",
    "        # Update the progress bar\n",
    "        pbar.update()"
   ]
  },
  {
   "cell_type": "code",
   "execution_count": 282,
   "metadata": {},
   "outputs": [
    {
     "data": {
      "text/plain": [
       "0.7289539852313759"
      ]
     },
     "execution_count": 282,
     "metadata": {},
     "output_type": "execute_result"
    }
   ],
   "source": [
    "highest_cindex # start: 0.7240850453830636 // 0.7174403712287055"
   ]
  },
  {
   "cell_type": "code",
   "execution_count": 283,
   "metadata": {},
   "outputs": [
    {
     "data": {
      "text/plain": [
       "(0.9, 0.0005931413744179138)"
      ]
     },
     "execution_count": 283,
     "metadata": {},
     "output_type": "execute_result"
    }
   ],
   "source": [
    "best_params"
   ]
  },
  {
   "cell_type": "code",
   "execution_count": 284,
   "metadata": {},
   "outputs": [
    {
     "data": {
      "text/html": [
       "<style>#sk-container-id-10 {color: black;}#sk-container-id-10 pre{padding: 0;}#sk-container-id-10 div.sk-toggleable {background-color: white;}#sk-container-id-10 label.sk-toggleable__label {cursor: pointer;display: block;width: 100%;margin-bottom: 0;padding: 0.3em;box-sizing: border-box;text-align: center;}#sk-container-id-10 label.sk-toggleable__label-arrow:before {content: \"▸\";float: left;margin-right: 0.25em;color: #696969;}#sk-container-id-10 label.sk-toggleable__label-arrow:hover:before {color: black;}#sk-container-id-10 div.sk-estimator:hover label.sk-toggleable__label-arrow:before {color: black;}#sk-container-id-10 div.sk-toggleable__content {max-height: 0;max-width: 0;overflow: hidden;text-align: left;background-color: #f0f8ff;}#sk-container-id-10 div.sk-toggleable__content pre {margin: 0.2em;color: black;border-radius: 0.25em;background-color: #f0f8ff;}#sk-container-id-10 input.sk-toggleable__control:checked~div.sk-toggleable__content {max-height: 200px;max-width: 100%;overflow: auto;}#sk-container-id-10 input.sk-toggleable__control:checked~label.sk-toggleable__label-arrow:before {content: \"▾\";}#sk-container-id-10 div.sk-estimator input.sk-toggleable__control:checked~label.sk-toggleable__label {background-color: #d4ebff;}#sk-container-id-10 div.sk-label input.sk-toggleable__control:checked~label.sk-toggleable__label {background-color: #d4ebff;}#sk-container-id-10 input.sk-hidden--visually {border: 0;clip: rect(1px 1px 1px 1px);clip: rect(1px, 1px, 1px, 1px);height: 1px;margin: -1px;overflow: hidden;padding: 0;position: absolute;width: 1px;}#sk-container-id-10 div.sk-estimator {font-family: monospace;background-color: #f0f8ff;border: 1px dotted black;border-radius: 0.25em;box-sizing: border-box;margin-bottom: 0.5em;}#sk-container-id-10 div.sk-estimator:hover {background-color: #d4ebff;}#sk-container-id-10 div.sk-parallel-item::after {content: \"\";width: 100%;border-bottom: 1px solid gray;flex-grow: 1;}#sk-container-id-10 div.sk-label:hover label.sk-toggleable__label {background-color: #d4ebff;}#sk-container-id-10 div.sk-serial::before {content: \"\";position: absolute;border-left: 1px solid gray;box-sizing: border-box;top: 0;bottom: 0;left: 50%;z-index: 0;}#sk-container-id-10 div.sk-serial {display: flex;flex-direction: column;align-items: center;background-color: white;padding-right: 0.2em;padding-left: 0.2em;position: relative;}#sk-container-id-10 div.sk-item {position: relative;z-index: 1;}#sk-container-id-10 div.sk-parallel {display: flex;align-items: stretch;justify-content: center;background-color: white;position: relative;}#sk-container-id-10 div.sk-item::before, #sk-container-id-10 div.sk-parallel-item::before {content: \"\";position: absolute;border-left: 1px solid gray;box-sizing: border-box;top: 0;bottom: 0;left: 50%;z-index: -1;}#sk-container-id-10 div.sk-parallel-item {display: flex;flex-direction: column;z-index: 1;position: relative;background-color: white;}#sk-container-id-10 div.sk-parallel-item:first-child::after {align-self: flex-end;width: 50%;}#sk-container-id-10 div.sk-parallel-item:last-child::after {align-self: flex-start;width: 50%;}#sk-container-id-10 div.sk-parallel-item:only-child::after {width: 0;}#sk-container-id-10 div.sk-dashed-wrapped {border: 1px dashed gray;margin: 0 0.4em 0.5em 0.4em;box-sizing: border-box;padding-bottom: 0.4em;background-color: white;}#sk-container-id-10 div.sk-label label {font-family: monospace;font-weight: bold;display: inline-block;line-height: 1.2em;}#sk-container-id-10 div.sk-label-container {text-align: center;}#sk-container-id-10 div.sk-container {/* jupyter's `normalize.less` sets `[hidden] { display: none; }` but bootstrap.min.css set `[hidden] { display: none !important; }` so we also need the `!important` here to be able to override the default hidden behavior on the sphinx rendered scikit-learn.org. See: https://github.com/scikit-learn/scikit-learn/issues/21755 */display: inline-block !important;position: relative;}#sk-container-id-10 div.sk-text-repr-fallback {display: none;}</style><div id=\"sk-container-id-10\" class=\"sk-top-container\"><div class=\"sk-text-repr-fallback\"><pre>CoxnetSurvivalAnalysis(alphas=[0.0005931413744179138], fit_baseline_model=True,\n",
       "                       l1_ratio=0.9)</pre><b>In a Jupyter environment, please rerun this cell to show the HTML representation or trust the notebook. <br />On GitHub, the HTML representation is unable to render, please try loading this page with nbviewer.org.</b></div><div class=\"sk-container\" hidden><div class=\"sk-item\"><div class=\"sk-estimator sk-toggleable\"><input class=\"sk-toggleable__control sk-hidden--visually\" id=\"sk-estimator-id-10\" type=\"checkbox\" checked><label for=\"sk-estimator-id-10\" class=\"sk-toggleable__label sk-toggleable__label-arrow\">CoxnetSurvivalAnalysis</label><div class=\"sk-toggleable__content\"><pre>CoxnetSurvivalAnalysis(alphas=[0.0005931413744179138], fit_baseline_model=True,\n",
       "                       l1_ratio=0.9)</pre></div></div></div></div></div>"
      ],
      "text/plain": [
       "CoxnetSurvivalAnalysis(alphas=[0.0005931413744179138], fit_baseline_model=True,\n",
       "                       l1_ratio=0.9)"
      ]
     },
     "execution_count": 284,
     "metadata": {},
     "output_type": "execute_result"
    }
   ],
   "source": [
    "coxnet_pred = CoxnetSurvivalAnalysis(l1_ratio=best_params[0],alphas=[best_params[1]], fit_baseline_model=True)\n",
    "coxnet_pred.fit(X_train, y_train)"
   ]
  },
  {
   "cell_type": "code",
   "execution_count": 285,
   "metadata": {},
   "outputs": [
    {
     "data": {
      "text/plain": [
       "(0.7289539852313759, 13744856, 5185339, 0, 3728)"
      ]
     },
     "execution_count": 285,
     "metadata": {},
     "output_type": "execute_result"
    }
   ],
   "source": [
    "lower, upper = np.percentile(y[\"Days\"], [10, 90])\n",
    "times = np.arange(lower, upper + 1)\n",
    "\n",
    "evaluate_model_uno_c(coxnet_pred, X_test, y_test, y_train, times)"
   ]
  },
  {
   "cell_type": "markdown",
   "metadata": {},
   "source": [
    "Interesting: the use of scikit-learn transformers alone increases model's c-index from 0.717 to o.733\n",
    "\n",
    "With HLA: 0.7329622178077422\n",
    "\n",
    "Without HLA: 0.7325947154087512\n",
    "\n",
    "Conclusion: HLA has little to no correlation with long-term survival! Probably because it was already accounted for before the transplantation."
   ]
  },
  {
   "cell_type": "code",
   "execution_count": 286,
   "metadata": {},
   "outputs": [],
   "source": [
    "import pickle\n",
    "\n",
    "pickle_file = 'pickle/COXNET_LIVING_MODEL.pickle'\n",
    "\n",
    "with open(pickle_file, 'wb') as f:\n",
    "    pickle.dump(coxnet_pred, f)\n"
   ]
  },
  {
   "cell_type": "code",
   "execution_count": 292,
   "metadata": {},
   "outputs": [
    {
     "name": "stdout",
     "output_type": "stream",
     "text": [
      "Copying coxnet living model and pipeline...\n",
      "Copying coxnet deceased model and pipeline...\n",
      "Copying model descriptions...\n"
     ]
    }
   ],
   "source": [
    "# keep it commented in order to avoid putting wrong model into the application\n",
    "# run it only if you are sure that the model and the pipeline are good\n",
    "\n",
    "# ! bash export_models.sh"
   ]
  },
  {
   "cell_type": "code",
   "execution_count": 288,
   "metadata": {},
   "outputs": [
    {
     "data": {
      "text/plain": [
       "(41936, 55)"
      ]
     },
     "execution_count": 288,
     "metadata": {},
     "output_type": "execute_result"
    }
   ],
   "source": [
    "X_train.shape"
   ]
  },
  {
   "cell_type": "code",
   "execution_count": 289,
   "metadata": {},
   "outputs": [],
   "source": [
    "res = coxnet_pred.predict_survival_function(X_test)"
   ]
  },
  {
   "cell_type": "code",
   "execution_count": 290,
   "metadata": {},
   "outputs": [
    {
     "data": {
      "image/png": "[encoded data removed]",
      "text/plain": [
       "<Figure size 1000x1000 with 9 Axes>"
      ]
     },
     "metadata": {},
     "output_type": "display_data"
    }
   ],
   "source": [
    "import matplotlib.pyplot as plt\n",
    "\n",
    "number = 9\n",
    "\n",
    "# Plot the step function\n",
    "# plt.step(res[number].x, res[number].y)\n",
    "\n",
    "fig, axs = plt.subplots(3, 3, figsize=(10, 10))\n",
    "\n",
    "# Flatten the axs array to make it easier to iterate over\n",
    "axs = axs.flatten()\n",
    "\n",
    "for i, (ax, sf) in enumerate(zip(axs, res[:number])):\n",
    "    ax.step(sf.x, sf.y)\n",
    "\n",
    "plt.show()\n"
   ]
  },
  {
   "cell_type": "code",
   "execution_count": null,
   "metadata": {},
   "outputs": [],
   "source": [
    "from sklearn.inspection import permutation_importance\n",
    "\n",
    "# uncoment if you want to calculate permutation importance (data must not be processed by pipeline)\n",
    "# result = permutation_importance(coxnet_pred, X_test, y_test, n_repeats=10, random_state=0, n_jobs=-1)"
   ]
  },
  {
   "cell_type": "code",
   "execution_count": null,
   "metadata": {},
   "outputs": [],
   "source": [
    "pd.set_option('display.max_rows', None)\n",
    "\n",
    "# columns = numeric_features + categorical_features\n",
    "\n",
    "importances_df = pd.DataFrame(result.importances_mean, index=X_test.columns)\n",
    "importances_df.columns = ['Importance']\n",
    "importances_df.sort_values(by='Importance', ascending=False, inplace=True)\n",
    "\n",
    "# Print out feature importances\n",
    "print(importances_df)"
   ]
  }
 ],
 "metadata": {
  "kernelspec": {
   "display_name": "kidney-life",
   "language": "python",
   "name": "python3"
  },
  "language_info": {
   "codemirror_mode": {
    "name": "ipython",
    "version": 3
   },
   "file_extension": ".py",
   "mimetype": "text/x-python",
   "name": "python",
   "nbconvert_exporter": "python",
   "pygments_lexer": "ipython3",
   "version": "3.11.5"
  }
 },
 "nbformat": 4,
 "nbformat_minor": 2
}
